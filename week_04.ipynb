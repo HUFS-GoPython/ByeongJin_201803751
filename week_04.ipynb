{
 "cells": [
  {
   "cell_type": "markdown",
   "id": "6ac02db0-481b-438e-bade-8742b1b5ccfe",
   "metadata": {},
   "source": [
    "# Week 04 (22.03.25) 정리\n",
    "(Chapter 05 에서 이어짐)"
   ]
  },
  {
   "cell_type": "code",
   "execution_count": 3,
   "id": "e6ad33d1-bf1e-4808-95e5-382df7f4b81f",
   "metadata": {},
   "outputs": [
    {
     "name": "stdout",
     "output_type": "stream",
     "text": [
      "*** Introductory Examples for the NLTK Book ***\n",
      "Loading text1, ..., text9 and sent1, ..., sent9\n",
      "Type the name of the text or sentence to view it.\n",
      "Type: 'texts()' or 'sents()' to list the materials.\n",
      "text1: Moby Dick by Herman Melville 1851\n",
      "text2: Sense and Sensibility by Jane Austen 1811\n",
      "text3: The Book of Genesis\n",
      "text4: Inaugural Address Corpus\n",
      "text5: Chat Corpus\n",
      "text6: Monty Python and the Holy Grail\n",
      "text7: Wall Street Journal\n",
      "text8: Personals Corpus\n",
      "text9: The Man Who Was Thursday by G . K . Chesterton 1908\n"
     ]
    },
    {
     "data": {
      "text/plain": [
       "True"
      ]
     },
     "execution_count": 3,
     "metadata": {},
     "output_type": "execute_result"
    }
   ],
   "source": [
    "import nltk\n",
    "from nltk.book import *\n",
    "nltk.download('book', quiet=True)"
   ]
  },
  {
   "cell_type": "markdown",
   "id": "bb7a92d5-af76-4720-8635-2f8c037a89d9",
   "metadata": {},
   "source": [
    "## 내장함수 (파이썬에서 사용할 수 있는 함수)\n",
    "    \n",
    "    - 메서드는 특정 자료형에만 사용할 수 있는 함수이다. (문자열 메서드, 리스트 메서드..) 그러나 함수의 일종이다.\n",
    "    \n",
    "    - string1.method(string2) : 일반적 형식\n",
    "    - list.method(string)\n",
    "    - count(): string이 나타나는 개수\n",
    "    \n",
    "### - 문자열 대체하기: replace()\n",
    "\n",
    "    - '문자열' 일부를 대체하기 위해서는 replace() 메서드를 사용한다.\n",
    "        - 인수로 바꿀 문자열, 대체할 새 문자열, 바꿀 문자열에 대한 횟수를 입력한다.\n",
    "        - 원본 문자열을 수정하지 않고 변경된 문자열을 반환. 마지막 인수를 생략하면 모든 인스턴스를 바꾼다.\n",
    "        - 일치하는 문자열을 찾아서 새 문자열을 대체하게 할 수 있다.\n",
    "            - 한 문자 'a'를 두 문자 'a '(공백 포함)로 대체할 때는 다은 단어의 중간에 있는 'a'도 바뀔 수 있다는 것을 유의한다.\n",
    "    \n",
    "    - 대체하고 싶은 문자열에 구체적이고 특수한 조건이 있다면, 정규 표현식(regular expression)을 사용할 수 있다. \n",
    "    \n",
    "### - 문자열 스트립: strip()\n",
    "\n",
    "    - '문자열' 맨 앞(왼쪽) 또는 맨 뒤(오른쪽)에서 '패딩' 문자(여백 혹은 공백 문자)를 제거한다.\n",
    "        - strip() 메서드에 인수가 없다면 공백 문자('', '\\t', '\\n')를 양쪽 끝에서 제거한다.\n",
    "        - 왼쪽 끝만 제거하고 싶다면 lstrip() 메서드를, 오른쪽 끝만 제거하고 싶다면 rstrip() 메서드를 사용한다.\n",
    "        - strip() 메서드에 아무 인수가 없거나(공백 문자), 단일 문자 또는 여러 문자의 인수에 취해서 해당 문자열을 제거할 수 있다.\n",
    "        \n",
    "### - 검색과 선택: find(), index()\n",
    "    \n",
    "    - find()와 index()는 어떤 '문자열'에서 부분 문자열 오프셋을 찾기 위한 메서드이다.\n",
    "        - 두 메서드 모두 부분 문자열을 찾았을 때 같은 결과를 반환한다. 그러나 부분 문자열을 찾지 못하면, find() 메서드는 -1을 반환하고 index() 메서드는 예외가 발생한다."
   ]
  },
  {
   "cell_type": "code",
   "execution_count": 32,
   "id": "9dbab0e2-4ef8-48fe-9bc1-9a3d0f755edf",
   "metadata": {},
   "outputs": [
    {
     "name": "stdout",
     "output_type": "stream",
     "text": [
      "889\n",
      "Print\n",
      "Print\n",
      "corinT\n",
      "10\n"
     ]
    }
   ],
   "source": [
    "print(text1.count('one'))\n",
    "print('print'.replace('p', 'P'))\n",
    "print('    \\t    Print'.lstrip())\n",
    "\n",
    "# 여러번 사용\n",
    "word = '    \\t    print'\n",
    "word = word.replace('p', 'co').strip().replace('t', 'T') # 복합적인 사용이 가능하다. 순서가 있다.\n",
    "print(word)\n",
    "\n",
    "# find : 여러개여도 첫번째 인덱스를 반환한다.\n",
    "word2 = 'There is no room for you'\n",
    "print(word2.find('o'))"
   ]
  },
  {
   "cell_type": "markdown",
   "id": "cdb2cdd2-bba5-450e-9f8d-d6166f10e994",
   "metadata": {},
   "source": [
    "## NLTK 내장 함수\n",
    "\n",
    "        - list.method(var) , \n",
    "        - 자연어처리와 관련된 함수들\n",
    "\n",
    "        - concordance(): string을 중심으로 앞 뒤  \n",
    "        - similar(): 문맥이 비슷한 단어들을 찾는다.\n",
    "        - common_contexts(): 주어진 스트링이 어떤 문맥을 공유하는지 나타낸다.\n",
    "        - dispersion_plot(): 주어진 스트링이 텍스트에서 출현하는 위치를 이미지로 나타낸다."
   ]
  },
  {
   "cell_type": "code",
   "execution_count": 19,
   "id": "8c6a2eff-3cbf-4935-b943-3300dac73592",
   "metadata": {},
   "outputs": [
    {
     "name": "stdout",
     "output_type": "stream",
     "text": [
      "Displaying 11 of 11 matches:\n",
      "waters . And God said , Let there be light : and there was light . And God saw \n",
      ", Let there be light : and there was light . And God saw the light , that it wa\n",
      "nd there was light . And God saw the light , that it was good : and God divided\n",
      "at it was good : and God divided the light from the darkness . And God called t\n",
      "om the darkness . And God called the light Day , and the darkness he called Nig\n",
      " the firmament of the heaven to give light upon the ear and it was so . And God\n",
      " made two great lights ; the greater light to rule the day , and the lesser lig\n",
      "ght to rule the day , and the lesser light to rule the nig he made the stars al\n",
      " the firmament of the heaven to give light upon the earth , And to rule over th\n",
      "d over the night , and to divide the light from the darkne and God saw that it \n",
      " spoken . As soon as the morning was light , the men were sent away , they and \n"
     ]
    }
   ],
   "source": [
    "text3.concordance('light') # 입력한 문자열을 중심으로 전후 문맥을 도출한다."
   ]
  },
  {
   "cell_type": "code",
   "execution_count": 35,
   "id": "fe325728-e5f7-4da2-90d4-6d743ba130b0",
   "metadata": {},
   "outputs": [
    {
     "name": "stdout",
     "output_type": "stream",
     "text": [
      "joseph abram isaac jacob he i they shem abraham god us him me she thee\n",
      "cain noah pharaoh sarah abimelech\n"
     ]
    }
   ],
   "source": [
    "text3.similar(\"adam\")"
   ]
  },
  {
   "cell_type": "code",
   "execution_count": 42,
   "id": "0681dc5d-809d-48d1-9966-4c35077898d6",
   "metadata": {},
   "outputs": [
    {
     "name": "stdout",
     "output_type": "stream",
     "text": [
      "and_said and_blessed and_called and_went of_and and_set of_came\n",
      "and_heard and_was in_s and_came is_s of_was and_sent\n"
     ]
    }
   ],
   "source": [
    "text3.common_contexts(['God', 'jacob'])"
   ]
  },
  {
   "cell_type": "code",
   "execution_count": 54,
   "id": "1d9b8c9d-5b98-4e8a-a4ed-370bdee26f0d",
   "metadata": {},
   "outputs": [
    {
     "data": {
      "image/png": "[encoded data removed]",
      "text/plain": [
       "<Figure size 432x288 with 1 Axes>"
      ]
     },
     "metadata": {
      "needs_background": "light"
     },
     "output_type": "display_data"
    }
   ],
   "source": [
    "text3.dispersion_plot(['God', 'Adam', 'Abram', 'Abraham', 'Isaac' ])"
   ]
  },
  {
   "cell_type": "markdown",
   "id": "abf855ad-63e2-47fe-ab9b-36e66feb6d0b",
   "metadata": {},
   "source": [
    "### Frequency Distribution\n",
    "\n",
    "    - 단어의 빈도수에 관한 정보를 알려주는 기능\n",
    "    - 인간 언어 -> 컴퓨터가 인식\n",
    "        - 전체 단어 수\n",
    "        - 특정의 빈도수\n",
    "        "
   ]
  },
  {
   "cell_type": "code",
   "execution_count": 146,
   "id": "8f505e75-78d2-43b8-a21e-824fca9c432d",
   "metadata": {},
   "outputs": [
    {
     "data": {
      "text/plain": [
       "FreqDist({',': 3681, 'and': 2428, 'the': 2411, 'of': 1358, '.': 1315, 'And': 1250, 'his': 651, 'he': 648, 'to': 611, ';': 605, ...})"
      ]
     },
     "execution_count": 146,
     "metadata": {},
     "output_type": "execute_result"
    }
   ],
   "source": [
    "fdist3 = FreqDist(text3)\n",
    "fdist3\n",
    "# 변수명은 대체로 fdist 로 짓는다. "
   ]
  },
  {
   "cell_type": "code",
   "execution_count": 56,
   "id": "4552688f-4fe4-435e-aff7-2c76a7c6879c",
   "metadata": {},
   "outputs": [
    {
     "data": {
      "text/plain": [
       "[(',', 3681),\n",
       " ('and', 2428),\n",
       " ('the', 2411),\n",
       " ('of', 1358),\n",
       " ('.', 1315),\n",
       " ('And', 1250),\n",
       " ('his', 651),\n",
       " ('he', 648),\n",
       " ('to', 611),\n",
       " (';', 605)]"
      ]
     },
     "execution_count": 56,
     "metadata": {},
     "output_type": "execute_result"
    }
   ],
   "source": [
    "fdist3.most_common(10) # 빈도수 높은 순서대로 개수 나열"
   ]
  },
  {
   "cell_type": "code",
   "execution_count": 147,
   "id": "e36d4a5e-e34f-42c4-a454-b3bda5853987",
   "metadata": {},
   "outputs": [
    {
     "data": {
      "text/plain": [
       "0"
      ]
     },
     "execution_count": 147,
     "metadata": {},
     "output_type": "execute_result"
    }
   ],
   "source": [
    "fdist3['God'], text3.count('God')"
   ]
  },
  {
   "cell_type": "code",
   "execution_count": 62,
   "id": "a66f7306-50f0-46a9-832d-3d1c247641d9",
   "metadata": {},
   "outputs": [
    {
     "data": {
      "text/plain": [
       "0.005160396747386293"
      ]
     },
     "execution_count": 62,
     "metadata": {},
     "output_type": "execute_result"
    }
   ],
   "source": [
    "fdist3.freq('God')"
   ]
  },
  {
   "cell_type": "code",
   "execution_count": 75,
   "id": "63d70a8f-eb7a-4bdc-8dac-71526c90a4a1",
   "metadata": {},
   "outputs": [
    {
     "data": {
      "image/png": "[encoded data removed]",
      "text/plain": [
       "<Figure size 432x288 with 1 Axes>"
      ]
     },
     "metadata": {
      "needs_background": "light"
     },
     "output_type": "display_data"
    },
    {
     "data": {
      "text/plain": [
       "<AxesSubplot:xlabel='Samples', ylabel='Cumulative Counts'>"
      ]
     },
     "execution_count": 75,
     "metadata": {},
     "output_type": "execute_result"
    }
   ],
   "source": [
    "# 기울기가 완만하면 덜 나타나는 단어이다.\n",
    "# 빈번한 것 부터 (cumulative=False -> 드문 순서)\n",
    "\n",
    "fdist3.plot(25, cumulative=True)"
   ]
  },
  {
   "cell_type": "code",
   "execution_count": 81,
   "id": "a5274ad3-2dc8-48af-a001-0b282c6ed665",
   "metadata": {},
   "outputs": [
    {
     "data": {
      "text/plain": [
       "1195"
      ]
     },
     "execution_count": 81,
     "metadata": {},
     "output_type": "execute_result"
    }
   ],
   "source": [
    "# 1번 나타나는 단어들\n",
    "\n",
    "len(fdist3.hapaxes())"
   ]
  },
  {
   "cell_type": "markdown",
   "id": "89829fc3-c42f-4da8-aafd-b0b44de969f7",
   "metadata": {},
   "source": [
    "### - 리스트\n",
    "    - 리스트: (= 배열(array)), 리스트(list)\n",
    "    - 하나의 변수에 여러 값을 할당하는 자료형\n",
    "        - a = [1, 2, 3, 4]\n",
    "        \n",
    "    - 대괄호로 선언한다. ex) list1 = [ ]\n",
    "    - 내부 요소들은 자료형이 달라도 된다.\n",
    "        - a = [1, True, 'hello']\n",
    "        \n",
    "    - 순서가 있다 => 인덱싱, 슬라이싱 가능\n",
    "    - 빈 리스트 선언: list(), [] / 빈 리스트를 선언해야 하는 때가 있다."
   ]
  },
  {
   "cell_type": "markdown",
   "id": "4d3f783b-f5d3-4bcf-bf0d-b99d079cc2a3",
   "metadata": {},
   "source": [
    "### - list comprehension\n",
    "\n",
    "    - 지능형 리스트이다.\n",
    "    - 주어진 리스트를 포함하는 새로운 '리스트'를 형성한다.\n",
    "    \n",
    "    - list + for_loop 한 줄로 해결하는 방식\n",
    "    - [A for A' in B]\n",
    "\n",
    "        - B에 있는 A'에서 A를 가진 리스트를 반환\n",
    "        - B: 기존의 리스트\n",
    "        - A': B의 자료 형태(건드릴 일이 거의 없다.)\n",
    "        - A: 새로운 리스트의 요소\n",
    "        \n",
    "    - 조건추가: [A for A' in B if ]\n",
    "        - [A for A' in B if and , ...]A"
   ]
  },
  {
   "cell_type": "code",
   "execution_count": 42,
   "id": "49a6251c-dda7-483b-8ae9-44da45010985",
   "metadata": {},
   "outputs": [
    {
     "data": {
      "text/plain": [
       "['Consumptive',\n",
       " 'threadbare',\n",
       " 'handkerchief',\n",
       " 'embellished',\n",
       " 'signification',\n",
       " 'DICTIONARY',\n",
       " 'immediately',\n",
       " 'RICHARDSON',\n",
       " 'DICTIONARY',\n",
       " 'ERROMANGOAN']"
      ]
     },
     "execution_count": 42,
     "metadata": {},
     "output_type": "execute_result"
    }
   ],
   "source": [
    "# text3 알파벳 수가 10개 이상인 단어 10개\n",
    "\n",
    "[word for word in text3 if len(word) >= 10][:10]"
   ]
  },
  {
   "cell_type": "code",
   "execution_count": 87,
   "id": "687e427b-410c-4f94-9d30-379c4ddcb2f0",
   "metadata": {},
   "outputs": [
    {
     "name": "stdout",
     "output_type": "stream",
     "text": [
      "['light', 'lightly', 'daughter', 'righteousness', 'eighty', 'eight', 'wrought', 'height', 'brought', 'daughters']\n",
      "{'light', 'brought', 'night', 'lights', 'Night'}\n"
     ]
    }
   ],
   "source": [
    "# text3에서 'ght'포함하는 단어 반환. 중복 제거\n",
    "\n",
    "#1. 중복 제거 후 찾기 / 중복을 먼저 제한 후에 10개를 찾으면 무조건 10개가 나오겠지.\n",
    "print([word for word in set(text3) if 'ght' in word][:10])\n",
    "\n",
    "#2. 찾은 후 중복 제거 / 10개를 찾았어도 중복을 제거하면 10개 미만이 될 수 있다.\n",
    "print(set([word for word in text3 if 'ght' in word][:10]))"
   ]
  },
  {
   "cell_type": "markdown",
   "id": "e4eb37f1-9d6e-4047-8298-63989ac0c689",
   "metadata": {},
   "source": [
    "### 조건을 위한 함수: uncased, cased\n",
    "    - 'the' 와 'The' 는 다르다. 대소문자가 하나라도 다르면 다른 것으로 인식한다.\n",
    "    \n",
    "#### 대소문자에 관한 문자열 메서드\n",
    "\n",
    "    - upper() : 글자를 모두 대문자로 만든다.\n",
    "    - lower() : 글자를 모두 소문자로 만든다.\n",
    "    - title() : 모든 단어의 첫 글자를 대문자로 만든다.\n",
    "   \n",
    "    - capitalize() : 첫 번째 글자를 대문자로 만든다.\n",
    "    - swapcase() : 대문자를 소문자로, 소문자를 대문자로 만든다.\n",
    "    \n",
    "    - isupper() : True or False\n",
    "    - islower() : True or False\n",
    "    - istitle() : True or False\n",
    "    \n",
    "    - endswith() : True or False : 끝 글자에 무엇이 오는가?\n",
    "    - startswith() : True or False : 첫 글자에 무엇이 오는가?\n",
    "    \n",
    "    - isalpha() : True or False : 문자열을 확인하고, 알파벳으로 이루어진 단어. (공백 포함도 False)"
   ]
  },
  {
   "cell_type": "code",
   "execution_count": 171,
   "id": "b575dddb-7c04-4760-a889-e8c23692b5c9",
   "metadata": {},
   "outputs": [
    {
     "data": {
      "text/plain": [
       "['uncomfortableness',\n",
       " 'comfortableness',\n",
       " 'intolerableness',\n",
       " 'immutableness',\n",
       " 'indomitableness',\n",
       " 'reasonableness',\n",
       " 'indispensableness',\n",
       " 'indomitableness',\n",
       " 'honourableness',\n",
       " 'palpableness']"
      ]
     },
     "execution_count": 171,
     "metadata": {},
     "output_type": "execute_result"
    }
   ],
   "source": [
    "# text3에서 'ness'로 끝나는 단어 반환\n",
    "\n",
    "[word for word in text1 if word.endswith('ableness') == True]"
   ]
  },
  {
   "cell_type": "code",
   "execution_count": 148,
   "id": "e08d5b15-651d-423f-948d-43b40cdc3d3e",
   "metadata": {},
   "outputs": [
    {
     "name": "stdout",
     "output_type": "stream",
     "text": [
      "['THE', 'ARE', 'JAC', 'DAY', 'WHO', 'REU', 'HOW', 'HUL', 'ALL', 'LAY', 'SOD', 'MAM', 'NAY', 'KOR', 'ZAR', 'ART', 'YEA', 'OUT', 'ENO', 'HIS', 'ERI', 'OUR', 'CAN', 'ABR', 'LIE', 'PAU', 'LUZ', 'SET', 'LOT', 'MAN', 'HAM', 'EGY', 'BUT', 'GOD', 'NOD', 'ARD', 'WHY', 'AND', 'EVE', 'GET', 'NOT', 'DIN', 'JOB', 'ASK', 'SAY', 'THY', 'YET', 'BOW', 'GAD', 'SHE', 'HAI', 'BUZ', 'SEE', 'LUD', 'LET', 'FOR', 'PUT', 'HUZ', 'DAN', 'EHI', 'ISA', 'NOW', 'TWO']\n",
      "{'EHI', 'WHO', 'HOW', 'WHY', 'HAI', 'MAN', 'JOB', 'ALL', 'LIE', 'HAM', 'HIS', 'ART', 'EGY', 'YET', 'MAM', 'BUT', 'BOW', 'DAY', 'OUT', 'GAD', 'DAN', 'NOW', 'ENO', 'ABR', 'THE', 'ARE', 'SET', 'SEE', 'TWO', 'CAN', 'BUZ', 'AND', 'LOT', 'LUD', 'PUT', 'ASK', 'PAU', 'ERI', 'EVE', 'HUL', 'SHE', 'NOD', 'REU', 'ISA', 'OUR', 'LET', 'GET', 'SOD', 'NAY', 'HUZ', 'YEA', 'FOR', 'JAC', 'KOR', 'SAY', 'LUZ', 'ZAR', 'DIN', 'NOT', 'GOD', 'LAY', 'THY', 'ARD'}\n"
     ]
    },
    {
     "data": {
      "text/plain": [
       "'\\n#1, #2의 차이.\\n\\n대문자로 시작하는 단어라고 했을 때(ex. Truth, TRUTH),\\n    - 중복을 제거한 후에 조건에 맞도록 찾아내고 대문자로 변환할 때 :\\n        - Truth, TRUTH -> Truth, TRUTH (중복 제거)\\n        - Truth, TRUTH -> Truth, TRUTH (조건에 맞게 찾아냄)\\n        - Truth, TRUTH -> TRUTH, TRUTH (대문자 변환) => 결국 중복이 있음\\n    \\n    - 조건에 맞도록 찾아내고 대문자로 변환한 후 중복을 제거할 때 :\\n        - Truth, TRUTH -> Truth, TRUTH (조건에 맞게 찾아냄)\\n        - Truth, TRUTH -> TRUTH, TRUTH (대문자 변환)\\n        - TRUTH, TRUTH -> TRUTH (중복 제거) => 결과에는 중복이 없음\\n'"
      ]
     },
     "execution_count": 148,
     "metadata": {},
     "output_type": "execute_result"
    }
   ],
   "source": [
    "# text3에서 대문자로 시작하는 단어 중 길이가 5 이상인 단어 중복없이 뽑고 대문자로 변환하라.\n",
    "# 앞에서 나온 set 위치에 따른 차이\n",
    "\n",
    "#1. 중복 제거 후 찾기\n",
    "print([word.upper() for word in set(text3) if len(word) == 3 and word.istitle() == True])\n",
    "\n",
    "#2. 찾은 후에 중복 제거하기\n",
    "print(set([word.upper() for word in text3 if len(word) == 3 and word.istitle() == True]))\n",
    "\n",
    "'''\n",
    "#1, #2의 차이.\n",
    "\n",
    "대문자로 시작하는 단어라고 했을 때(ex. Truth, TRUTH),\n",
    "    - 중복을 제거한 후에 조건에 맞도록 찾아내고 대문자로 변환할 때 :\n",
    "        - Truth, TRUTH -> Truth, TRUTH (중복 제거)\n",
    "        - Truth, TRUTH -> Truth, TRUTH (조건에 맞게 찾아냄)\n",
    "        - Truth, TRUTH -> TRUTH, TRUTH (대문자 변환) => 결국 중복이 있음\n",
    "    \n",
    "    - 조건에 맞도록 찾아내고 대문자로 변환한 후 중복을 제거할 때 :\n",
    "        - Truth, TRUTH -> Truth, TRUTH (조건에 맞게 찾아냄)\n",
    "        - Truth, TRUTH -> TRUTH, TRUTH (대문자 변환)\n",
    "        - TRUTH, TRUTH -> TRUTH (중복 제거) => 결과에는 중복이 없음\n",
    "'''"
   ]
  },
  {
   "cell_type": "code",
   "execution_count": 186,
   "id": "b7da9fc5-1183-43bb-8eb6-08c0a0b380a6",
   "metadata": {},
   "outputs": [
    {
     "name": "stdout",
     "output_type": "stream",
     "text": [
      "[12, 12, 12, 12, 12, 12, 12, 12, 12, 12, 12, 12, 12, 12, 12, 12, 12, 12, 12, 12, 12, 12, 12, 12, 12, 14, 14, 14, 14, 14, 12, 12, 12, 12, 12, 12, 12]\n"
     ]
    }
   ],
   "source": [
    "# text3에서 알파벳인 단어 중 길이 12 이상이고, 빈도수 5 이상인 단어의 길이 반환.\n",
    "\n",
    "# fdist 쓰면 찾아놓은 결과물\n",
    "# count 쓰면 텍스트에서 단어마다 찾기 때문에 비효율적\n",
    "\n",
    "print([len(word) for word in text3 if len(word) >= 12 and fdist3[word] >= 5])\n"
   ]
  },
  {
   "cell_type": "markdown",
   "id": "8dc952e5-3598-4ed4-ad49-4e4b88c5c0f6",
   "metadata": {},
   "source": [
    "### - 문자열 나누기: split()\n",
    "    - '문자열' 함수는 string.function(arguments)형태로 사용한다. / '문자열이름'.'함수'('인수') / ex) string1.split(list1)\n",
    "        - 즉, 문자열 이름을 입력하고 .을 입력한 후 함수 이름과 인수를 입력한다.\n",
    "        \n",
    "    - 문자열 내장 함수 split()\n",
    "        - 어떤 구분자(seperateor)를 기준으로 하나의 문자열을 작은 문자열들의 리스트(list)로 나누기 위해 사용한다. (문자열 -> 리스트)\n",
    "        - 리스트는 다음과 같이 콤마(,)로 구분하고, 양쪽을 대괄호([])로 둘러싼 값들의 시퀀스이다.\n",
    "        - 구분자를 지정하지 않으면 split()는 문자열에 등장하는 공백 문자(줄바꿈, 스페이스, 탭)를 사용한다.\n",
    "        - 인수 없이 split()를 호출할 때도 중괄호 ()가 필요하다.\n",
    "\n",
    "    \n",
    "### - 문자열 결합하기: join()\n",
    "\n",
    "    - join() 메서드는 '리스트'를 하나의 문자열로 결합한다. (리스트 -> 문자열, 즉 리스트 메서드??)\n",
    "        - 먼저 결합할 문자열을 지정한 다음에 문자열 리스트를 결합\n",
    "        - join() 메서드는 문자열 리스트를 string.join(list) 형태로 결합한다. lines 리스트를 각각 줄바꿈하여 하나의 문자열로 결합하기 위해 '\\n'.join(lines)을 입력한다.\n",
    "    "
   ]
  },
  {
   "cell_type": "code",
   "execution_count": 189,
   "id": "fd8bb72f-ffbc-4aa4-9c69-2a170d469ac2",
   "metadata": {},
   "outputs": [
    {
     "name": "stdout",
     "output_type": "stream",
     "text": [
      "['My', 'dog', 'is', 'so', 'cuty']\n"
     ]
    },
    {
     "data": {
      "text/plain": [
       "['My', 'dog', 'is', 'so', 'cuty']"
      ]
     },
     "execution_count": 189,
     "metadata": {},
     "output_type": "execute_result"
    }
   ],
   "source": [
    "# 문자열에서 기준에 따라 나누고 각각을 리스트의 요소로 저장한다.\n",
    "sent = 'My, dog, is, so, cuty'\n",
    "print(sent.split(', '))\n",
    "\n",
    "list_sent = sent.split(',')\n",
    "[word.strip() for word in tokens]"
   ]
  },
  {
   "cell_type": "code",
   "execution_count": 190,
   "id": "780820be-b438-465f-a4cb-517fe90469ed",
   "metadata": {},
   "outputs": [
    {
     "name": "stdout",
     "output_type": "stream",
     "text": [
      "My..dog..is..so..cuty\n"
     ]
    }
   ],
   "source": [
    "# 리스트를 문자열로\n",
    "\n",
    "list_sent2 = [word.strip() for word in list_sent]\n",
    "\n",
    "print('..'.join(list_sent2))"
   ]
  },
  {
   "cell_type": "markdown",
   "id": "55c25180-8b1a-45eb-ab6c-80ffacd7ba76",
   "metadata": {},
   "source": [
    "### 반복문\n",
    "    - [word for word in text1] 에도 사용되었던 것. 'for word in text1' 이 부분이다.\n",
    "    \n",
    "    - 자료구조를 순회할 때 사용한다.\n",
    "    - 정해진 동작을 반복적으로 수행할 때 내리는 명령어이다.\n",
    "    - 시작조건, 종료조건, 수행명령으로 구성된다.\n",
    "    \n",
    "        - for 요소 in 반복범위:\n",
    "            - 수행명령\n",
    "        - for, while\n",
    "        - 들여쓰기, 블록 => 논리구조를 나타낸다.\n",
    "        - 무한루프 주의"
   ]
  },
  {
   "cell_type": "code",
   "execution_count": 199,
   "id": "665f6c16-0641-4901-9ba1-06565b4031c5",
   "metadata": {},
   "outputs": [
    {
     "name": "stdout",
     "output_type": "stream",
     "text": [
      "2 3 9 3 7 3 6 3 3 5 1 3 3 5 3 7 4 1 3 4 1 3 8 3 4 3 4 2 3 4 \n",
      " [2, 3, 9, 3, 7, 3, 6, 3, 3, 5, 1, 3, 3, 5, 3, 7, 4, 1, 3, 4, 1, 3, 8, 3, 4, 3, 4, 2, 3, 4]\n"
     ]
    }
   ],
   "source": [
    "for word in text3[:30]:\n",
    "    print(len(word), end=' ') # 모든 출력 값은 문자열로.\n",
    "    \n",
    "print('\\n', [len(word) for word in text3[:30]]) # 새로운 리스트를 형성한다. "
   ]
  },
  {
   "cell_type": "code",
   "execution_count": 200,
   "id": "2f6ce440-bd4b-4917-a510-6e4a8ae81412",
   "metadata": {},
   "outputs": [
    {
     "name": "stdout",
     "output_type": "stream",
     "text": [
      "1\n",
      "3\n",
      "5\n",
      "7\n",
      "9\n"
     ]
    }
   ],
   "source": [
    "# 숫자 반복: in range(start, end, step)\n",
    "for i in range(1, 10, 2):\n",
    "    print(i)\n",
    "# 홀수 출력"
   ]
  },
  {
   "cell_type": "code",
   "execution_count": 34,
   "id": "f9e0b9d8-9a47-4d2b-85ea-b4bab3a5adcb",
   "metadata": {},
   "outputs": [
    {
     "name": "stdout",
     "output_type": "stream",
     "text": [
      "260819\n",
      "141576\n",
      "44764\n",
      "152901\n",
      "45010\n",
      "16967\n",
      "100676\n",
      "4867\n",
      "69213\n"
     ]
    }
   ],
   "source": [
    "# text1부터 9까지 각 텍스트의 단어 수 반환\n",
    "\n",
    "texts = [text1, text2, text3, text4, text5, text6, text7, text8, text9]\n",
    "# 반복범위는 구성요소를 가지고 있어야 한다. 요소는 곧 반복범위 속 구성요소 하나하나를 가리킨다.\n",
    "\n",
    "for text in texts:\n",
    "    print(len(text))"
   ]
  },
  {
   "cell_type": "markdown",
   "id": "08e7c4ed-a392-44cb-99fa-25ec302d47f3",
   "metadata": {},
   "source": [
    "### 출력 포매팅\n",
    "    - f''\n",
    "        - f, F 둘 다 가능\n",
    "    - % (옛날방식 -> 잘 안씀.)\n",
    "        - '... %s' %var\n",
    "        - '...{}'.format(var)"
   ]
  },
  {
   "cell_type": "code",
   "execution_count": 206,
   "id": "647f00b4-c943-4fa4-b21c-54febf82a543",
   "metadata": {},
   "outputs": [
    {
     "name": "stdout",
     "output_type": "stream",
     "text": [
      "문제에 대한 제 의견을 말씀드립니다.\n",
      "첫 번째 근거는 ~ 하다는 것입니다.\n",
      "두 번째 근거는 ~ 하다는 것입니다.\n",
      "따라서 제 주장은 ~ 합니다.\n",
      "\n",
      "문제에 대한 제 의견을 말씀드립니다.\n",
      "첫 번째 근거는 ~ 하다는 것입니다.\n",
      "두 번째 근거는 ~ 하다는 것입니다.\n",
      "따라서 제 주장은 ~ 합니다..\n",
      "\n",
      "문제에 대한 제 의견을 말씀드립니다.\n",
      "첫 번째 근거는 ~ 하다는 것입니다.\n",
      "두 번째 근거는 ~ 하다는 것입니다.\n",
      "따라서 제 주장은 ~ 합니다.\n",
      "\n",
      "이것은 0.123\n"
     ]
    }
   ],
   "source": [
    "basis1 = '~ 하다는 것입니다.'\n",
    "basis2 = '~ 하다는 것입니다.'\n",
    "opinion = \"제 주장은 ~ 합니다.\"\n",
    "\n",
    "print(f'문제에 대한 제 의견을 말씀드립니다.\\n첫 번째 근거는 {basis1}\\n두 번째 근거는 {basis2}\\n따라서 {opinion}\\n')\n",
    "\n",
    "print('문제에 대한 제 의견을 말씀드립니다.\\n첫 번째 근거는 %s\\n두 번째 근거는 %s\\n따라서 %s.\\n' %(basis1, basis2, opinion))\n",
    "# 자료형에 따라서 %s %d %f를 쓴다. str, digit, float..\n",
    "\n",
    "print('문제에 대한 제 의견을 말씀드립니다.\\n첫 번째 근거는 {}\\n두 번째 근거는 {}\\n따라서 {}\\n'.format(basis1, basis2, opinion))\n",
    "\n",
    "a = 0.1235\n",
    "b = 15000\n",
    "print('이것은 %.3f' %a) # 출력할 소수점의 자리도 정해줄 수 있다."
   ]
  },
  {
   "cell_type": "code",
   "execution_count": 91,
   "id": "c8d1d0bd-166a-4806-8b5e-26a6dd6cd70a",
   "metadata": {},
   "outputs": [
    {
     "name": "stdout",
     "output_type": "stream",
     "text": [
      "print m\n"
     ]
    }
   ],
   "source": []
  },
  {
   "cell_type": "code",
   "execution_count": null,
   "id": "9c4b22c2-1ae2-4b71-b00f-7d24c8c56c29",
   "metadata": {},
   "outputs": [],
   "source": []
  }
 ],
 "metadata": {
  "kernelspec": {
   "display_name": "Python 3 (ipykernel)",
   "language": "python",
   "name": "python3"
  },
  "language_info": {
   "codemirror_mode": {
    "name": "ipython",
    "version": 3
   },
   "file_extension": ".py",
   "mimetype": "text/x-python",
   "name": "python",
   "nbconvert_exporter": "python",
   "pygments_lexer": "ipython3",
   "version": "3.9.7"
  }
 },
 "nbformat": 4,
 "nbformat_minor": 5
}
