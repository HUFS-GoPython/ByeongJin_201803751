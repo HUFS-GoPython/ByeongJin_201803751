{
 "cells": [
  {
   "cell_type": "markdown",
   "id": "2e90e09d-90e3-42a0-91ae-52dba1d80f30",
   "metadata": {},
   "source": [
    "# Week 06 (22.04.08) 정리."
   ]
  },
  {
   "cell_type": "markdown",
   "id": "ee8cb77e-9c29-4280-8533-d52b689b6e78",
   "metadata": {},
   "source": [
    "## Chapter 07 : 튜플과 리스트\n",
    "\n",
    "    - 파이썬에 내장된 고수준(high level) 자료구조인 리스트와 튜플 학습"
   ]
  },
  {
   "cell_type": "markdown",
   "id": "462e6ec4-580c-4e65-b4c2-49be3a530ba4",
   "metadata": {},
   "source": [
    "### 튜플\n",
    "\n",
    "    - 문자열이 문자의 시퀀스라면, 리스트는 모든 것의 시퀀스이다.\n",
    "    - 튜플은 '불변', 리스트는 '가변'\n",
    "    - 튜플 생성하기 : , 그리고 ()\n",
    "       - ()를 사요해서 빈 튜플을 만들 수 있다.\n",
    "       - 한 요소 이상의 튜플을 만들기 위해서는각 요소 뒤에 콤마(.)를 붙여야한다.\n",
    "       - 요소가 두 개 이상이면 마지막에는 콤마를 붙이지 않는다.\n",
    "       \n",
    "    - 튜플 언패킹\n",
    "        - 튜플로 한 번에 여러 변수를 할당하는 것.\n",
    "        \n",
    "    - 생성하기 : tuple()\n",
    "        - tuple() 함수는 다른 객체를 튜플로 만들어 준다.\n",
    "        - 결합하기 : + , + 연산자는 문자열 결합과 유사하다.\n",
    "        - 항목 복제하기 : * , * 연산자는 + 연산자를 반복하는 것과 같다.\n",
    "        - 비교하기 : 리스트 비교와 같다.\n",
    "        \n",
    "        - 순회하기 : for 와 in\n",
    "            - 튜플 순회는 다른 타입과 똑같이 동작한다.\n",
    "            \n",
    "        - 수정하기 :\n",
    "            - 튜플은 문자열처럼 불변 객체이므로 기존 튜플을 변경할 수 없다.\n",
    "            - 문자열과 같이 튜플을 결합하여 새 튜플을 만들 수 있다."
   ]
  },
  {
   "cell_type": "code",
   "execution_count": 10,
   "id": "f2f3f062-124b-4eae-af00-14092caaaf8e",
   "metadata": {},
   "outputs": [
    {
     "data": {
      "text/plain": [
       "tuple"
      ]
     },
     "execution_count": 10,
     "metadata": {},
     "output_type": "execute_result"
    }
   ],
   "source": [
    "empty_tuple = () # 빈 튜플 생성하는 하나의 방법\n",
    "empty_tuple\n",
    "\n",
    "tuple_1 = ('a',) # 하나의 요소만 있는 튜플을 생성하려면 ,를 붙여주어야 한다.\n",
    "type(tuple_1)"
   ]
  },
  {
   "cell_type": "markdown",
   "id": "2820dfae-8d9f-4e4b-ab03-b222c0e7d3f0",
   "metadata": {
    "tags": []
   },
   "source": [
    "### 리스트 (1) : 생성과 항목 얻기\n",
    "\n",
    "    - 리스트는 데이터를 순차적으로 파악하는 데 유용하다.\n",
    "        - 특히 내용의 순서가 바뀔 수 있고, 문자열과 달리 리스트는 변경이 가능하다.\n",
    "        - 리스타의 현재 위치에서 새로운 요소를 추가, 삭제하거나 기존 요소를 덮어쓸 수 있다. 그리고 리스트에는 동일한 값이 여러 번 나올 수 있다.\n",
    "        \n",
    "    - 생성하기 : []\n",
    "        - 리스트는 0 혹은 그 이상의 요소로 만들어진다. 콤마(,) 로 구분하고, 대괄호([])로 둘러싸인다.\n",
    "    \n",
    "    - 생성 및 변환하기 : list()\n",
    "        -list() 함수는 다른 데이터 타입(튜플, 문자열, 셋, 딕셔너리 등)을 리스트로 변환한다.\n",
    "        \n",
    "    - 문자열 분할로 생성하기 : split()\n",
    "        - split() 메서드는 문자열을 구분자 단위로 분할하여 리스트를 생성한다.\n",
    "     \n",
    "    - [offset] 으로 항목 얻기\n",
    "        - 문자열과 마찬가지로 리스트는 오프셋(offset)으로 특정 값을 추출할 수 있다.\n",
    "        - 문자열과 마찬가지로 음수 인덱스는 끝에서부터 거꾸로 값을 추출한다.\n",
    "    \n",
    "    - 슬라이스로 항목 얻기\n",
    "        - 슬라이스를 사용해서 리스트의 서브시퀀스를 추출한다.\n",
    "        - 리스트의 슬라이스도 리스트 타입이 된다.\n",
    "        - 리스트를 반대로 뒤집은 상태로 바꾸기 위해 list.reverse() 메서드를 사용할 수 있다.\n",
    "    \n"
   ]
  },
  {
   "cell_type": "markdown",
   "id": "79f39127-98f3-4dad-babd-fac413f2fc71",
   "metadata": {},
   "source": [
    "### 리스트 (2) : 리스트 메서드 등\n",
    " \n",
    "    - 리스트 끝에 항목 추가하기 : append()\n",
    "        - append() 는 리스트 끝에 새 항목을 한 개씩 추가한다.\n",
    "     \n",
    "    - 오프셋과 insert()로 항목 추가하기\n",
    "        - append() 메서드는 리스트의 끝에 항목만 추가한다. 반면 insert() 메서드는 원하는 위치에 항목을 추가할 수 있다.\n",
    "    \n",
    "    - 모든 항목 복제하기 : *\n",
    "        - 문자열의 문자를 *로 복사한 것 처럼 리스트도 가능하다.\n",
    "    \n",
    "    - 리스트 병합하기 : extend() 와 +\n",
    "        - extend()를 사용해서 다른 리스트를 병합할 수 있다.\n",
    "        - 또한 + 나 += 을 사용해 병합할 수 있다.\n",
    "        \n",
    "    - 존재 여부 확인하기 : in\n",
    "        -  리스트에 값이 적어도 하나 존재하면 in은 True를 반환한다.\n",
    "        \n",
    "    - 값 세기 : count()\n",
    "        - 리스트에 특정 항목이 얼마나 있는지 세기 위해서 count()를 사용한다.\n",
    "    \n",
    "    - 문자열로 변환하기 : join()\n",
    "        - join()의 인수는 문자열 혹은 순회 가능한 문자열의 시퀀스(리스트 포함), 결과로 반환되는 값은 문자열이다.\n",
    "        \n",
    "    - 정렬하기 : sort(), sorted()\n",
    "        - sort()는 리스트 자체를 내부적으로 in place 정렬한다.\n",
    "        - sorted()는 리스트의 정렬된 복사본을 반환한다.\n",
    "        - 기본 정렬 방식은 오름차순이다. 내림차순으로 정렬하고 싶다면 인수에 reverse=True 를 추가하라.\n",
    "    \n",
    "    - 항목 개수 얻기 : len()\n",
    "        - len() 은 리스트의 항목 수를 반환한다."
   ]
  },
  {
   "cell_type": "markdown",
   "id": "9d5c81b2-9754-4668-9d3e-340b16a6d291",
   "metadata": {},
   "source": [
    "### 리스트 (3) : 리스트의 복사, 비교\n",
    "\n",
    "    - 할당하기 : =\n",
    "        - 한 리스트를 변수 두 곳에 할당했을 때, 한 리스트를 변경하면 다른 리스트로 같이 변경된다.\n",
    "\n",
    "    - 복사하기 : copy(), list(), 슬라이스\n",
    "        - 원본 리스트 a -> copy() 로 리스트 b를 생성 -> list() 변환 함수로 리스트 c를 생성 -> a를 슬라이스 해서 리스트 d를 생성\n",
    "        -  b, c, d는 a의 복사본이다. 이들은 자신만의 값을 가진 새로운 객체이며, 원본 리스트 객체 [1, 2, 3]을 참조하는 아무런 참조가 없다. 복사본 c, b, d를 바꾸더라도 원본 a에는 아무런 영향을 주지 않는다.\n",
    "        \n",
    "    - 깊은 복사 : deepcopy()\n",
    "        - 얕은 복사 (shallow copy)와 깊은 복사 (deep copy) 가 있다.\n",
    "        - deepcopy()는 하위에 중첩된 리스트, 딕셔너리, 기타 다른 객체를 모두 복사한다.\n",
    "        \n",
    "    - 리스트 비교\n",
    "        - ==, < 같은 비교연산자와 리스트를 직접 비교할 수 있다.\n",
    "        - 비교연산자는 두 리스트의 '같은 위치'의 오프셋 항목을 비교한다."
   ]
  },
  {
   "cell_type": "markdown",
   "id": "42bf4f3a-b421-4b51-a65a-2d11fc30c911",
   "metadata": {},
   "source": [
    "### 리스트 (4) : 리스트의 순회 등\n",
    "\n",
    "    - 순회하기 : for와 in\n",
    "        - for문을 사용한 문자열 순회와 같은 것. 하지만 보통 리스트를 순회하는 것이 더 일반적이다.\n",
    "    \n",
    "    - 여러 시퀀스 순회하기 : zip()\n",
    "        - zip() 함수로 여러 시퀀스를 병렬로 순회할 수 있다.\n",
    "        - 또한 zip() 함수로 여러 시퀀스를 순회하며, 동일한 오프셋에 있는 항목으로부터 튜플을 만들 수 있다."
   ]
  },
  {
   "cell_type": "markdown",
   "id": "a5156d76-627d-4715-a756-30e1bd6bb142",
   "metadata": {},
   "source": [
    "### 리스트 (5) : 리스트 컴프리헨션 등\n",
    "\n",
    "    - 리스트 컴프리헨션\n",
    "        - for/in 문의 순회 기능을 가신 리스트 컴프리헨션(list comprehension)을 통해 리스트를 생성할 수 있다.\n",
    "        - 리스트 컴프리헨션은 대괄호 ([]) 안에 for문이 존재한다. '[(표현식) for (항목) in (순회 가능한 객체) if 조건]'\n",
    "        - 루프가 중첩될 수 있는 것처럼, 컴프리헨션에서 루프에 상응하는 하나 이상의 for ... 절을 사용할 수 있다.\n",
    "        \n",
    "    - 리스트의 리스트\n",
    "        - 리스트는 다음과 같은 리스트 뿐만 아니라 다른 타입의 요소도 포함할 수 있다."
   ]
  },
  {
   "cell_type": "markdown",
   "id": "39372cca-cccc-46db-9fae-b21e26f11295",
   "metadata": {},
   "source": [
    "### 튜플, 그리고 리스트\n",
    "\n",
    "    - 리스트 대신 튜플을 사용할 수는 있으나, 튜플은 리스트의 append(). insert() 등과 같은 함수가 없고, 튜플을 생성한 후에는 수정할 수 없어서 함수의 수가 매우 적다.\n",
    "    \n",
    "    - 리스트를 사용하지 않고 튜플을 사용하는 이유?\n",
    "        - 튜플은 더 적은 공간을 사용한다. (효율)\n",
    "        - 실수로라도 튜플의 항목은 손상되지 않는다.\n",
    "        - 튜플을 딕셔너리 키로 사용할 수 있다.\n",
    "        - 네임드튜플(namedtuple)은 객체의 단순한 대안이 될 수 있다.\n",
    "    \n",
    "    - 그러나, 일반적으로 리스트와 딕셔너리를 더 많이 사용한다. "
   ]
  },
  {
   "cell_type": "markdown",
   "id": "50499346-1163-496e-919b-453086c2239c",
   "metadata": {},
   "source": [
    "### 튜플 컴프리헨션?? -> X\n",
    "\n",
    "    - 가변 타입(리스트, 딕셔너리 및 셋)에는 컴프리헨션이 있다. 문자열과 튜플과 같은 불변 타입은 다른 방법으로 만들어져야 한다.\n",
    "    - 리스트 컴프리헨션의 []를 ()로 변경하면 튜플 컴프리헨션이 되나?\n",
    "        - 예외가 발생하지 않아서 정상적으로 작동하는 것처럼 보여도, ()안에 있는 것은 '제너레이터 컴프리헨션' 으로, 완전히 다르고 제너레이터 객체를 반환한다."
   ]
  },
  {
   "cell_type": "markdown",
   "id": "f226230f-cbb0-44fa-aa8b-9a9d0f4dc526",
   "metadata": {},
   "source": [
    "## NLTK inaugural"
   ]
  },
  {
   "cell_type": "code",
   "execution_count": 5,
   "id": "53d6059e-d619-4ad5-bd7f-6aa9985d0d28",
   "metadata": {},
   "outputs": [
    {
     "name": "stderr",
     "output_type": "stream",
     "text": [
      "[nltk_data] Downloading package brown to inaugural...\n",
      "[nltk_data]   Package brown is already up-to-date!\n"
     ]
    },
    {
     "data": {
      "text/plain": [
       "True"
      ]
     },
     "execution_count": 5,
     "metadata": {},
     "output_type": "execute_result"
    }
   ],
   "source": [
    "import nltk\n",
    "\n",
    "nltk.download('brown', 'inaugural')"
   ]
  },
  {
   "cell_type": "code",
   "execution_count": 7,
   "id": "b6b9ec3d-7647-4d3a-a787-aa2c7775023e",
   "metadata": {},
   "outputs": [],
   "source": [
    "brown = nltk.corpus.brown"
   ]
  },
  {
   "cell_type": "code",
   "execution_count": 8,
   "id": "6bea8fd8-6c10-414c-918d-084a2cd15fc6",
   "metadata": {},
   "outputs": [
    {
     "name": "stdout",
     "output_type": "stream",
     "text": [
      "                  can could would  will might   may \n",
      "      adventure    46   151   191    50    58     5 \n",
      " belles_lettres   246   213   392   236   113   207 \n",
      "      editorial   121    56   180   233    39    74 \n",
      "        fiction    37   166   287    52    44     8 \n",
      "     government   117    38   120   244    13   153 \n",
      "        hobbies   268    58    78   264    22   131 \n",
      "          humor    16    30    56    13     8     8 \n",
      "        learned   365   159   319   340   128   324 \n",
      "           lore   170   141   186   175    49   165 \n",
      "        mystery    42   141   186    20    57    13 \n",
      "           news    93    86   244   389    38    66 \n",
      "       religion    82    59    68    71    12    78 \n",
      "        reviews    45    40    47    58    26    45 \n",
      "        romance    74   193   244    43    51    11 \n",
      "science_fiction    16    49    79    16    12     4 \n"
     ]
    }
   ],
   "source": [
    "# modals의 빈도수가 포함된 cfd (words -> modal_verb)\n",
    "cfd = nltk.ConditionalFreqDist(\n",
    "    (genre, word)\n",
    "    for genre in brown.categories()\n",
    "    for word in brown.words(categories=genre) # fileids\n",
    ")\n",
    "\n",
    "modals = ['can', 'could', 'would', 'will', 'might', 'may']\n",
    "cfd.tabulate(conditions=brown.categories(), samples=modals)"
   ]
  },
  {
   "cell_type": "code",
   "execution_count": null,
   "id": "1c9e9044-1ab6-4851-b824-2d7f6bfa9641",
   "metadata": {},
   "outputs": [],
   "source": [
    "cfd.plot()"
   ]
  },
  {
   "cell_type": "code",
   "execution_count": null,
   "id": "1d289269-47ba-416e-bd28-f1cc78d2a983",
   "metadata": {},
   "outputs": [],
   "source": [
    "inaugural = nltk.corpus.inaugural"
   ]
  },
  {
   "cell_type": "code",
   "execution_count": null,
   "id": "6946e2ed-e6e8-4633-816e-7a23f6022bdb",
   "metadata": {},
   "outputs": [],
   "source": [
    "inaugural.fileids()"
   ]
  },
  {
   "cell_type": "code",
   "execution_count": null,
   "id": "b4cf206b-8541-4f75-a146-b539f7a3b982",
   "metadata": {},
   "outputs": [],
   "source": [
    "# cfd ['america', 'citizen'] 빈도수를 cfd로 만드시오.\n",
    "\n",
    "cfd2 = nltk.ConditionalFreqDist( # 지정한 컨디션에 맞는 빈도수 출력\n",
    "    \n",
    "    (target_word, fileid[:-4])\n",
    "    for fileid in inaugural.fileids()\n",
    "    for target_word in ['citizen', 'america']\n",
    "    \n",
    "    for word in inaugural.words(fileids=fileid) # fileids\n",
    "    \n",
    "    if word.lower().startswith(target_word)\n",
    "    \n",
    ")\n",
    "target_word = ['citizen', 'america']\n",
    "\n",
    "cfd2.tabulate(conditions=inaugural.fileids(), samples=target_word)"
   ]
  },
  {
   "cell_type": "code",
   "execution_count": null,
   "id": "03f080fc-d249-4443-8cb7-cb958815e85e",
   "metadata": {},
   "outputs": [],
   "source": []
  }
 ],
 "metadata": {
  "kernelspec": {
   "display_name": "Python 3 (ipykernel)",
   "language": "python",
   "name": "python3"
  },
  "language_info": {
   "codemirror_mode": {
    "name": "ipython",
    "version": 3
   },
   "file_extension": ".py",
   "mimetype": "text/x-python",
   "name": "python",
   "nbconvert_exporter": "python",
   "pygments_lexer": "ipython3",
   "version": "3.9.7"
  }
 },
 "nbformat": 4,
 "nbformat_minor": 5
}
