{
 "cells": [
  {
   "cell_type": "markdown",
   "id": "4afeeea6-4134-4ffb-b619-37ee42a24ed6",
   "metadata": {},
   "source": [
    "# Week 11 (22.05.13)\n",
    "- Week 10 에서 이어짐."
   ]
  },
  {
   "cell_type": "markdown",
   "id": "4bac0f4c-07fd-4415-aad7-d7f8f6bc505b",
   "metadata": {
    "tags": []
   },
   "source": [
    "### 객체 II\n",
    "\n",
    "- 상속 (inheritance)\n",
    "- 재사용할 때, A vs. B\n",
    "    - A의 대부분을 쓰고, 나머지를 추가, 변경하고 싶을 때,\n",
    "    - 부모의 모든 속성을 그대로 가져와서 쓴다.\n",
    "\n",
    "- 반복되는 부분을 가져오겠다. 물려받겠다.\n",
    "- A <- B\n",
    "    - \"부모, 슈퍼, 베이스\"\n",
    "    - \"자식, 서브, derived\"\n",
    "    \n",
    "- 자식클래스는 부모클래스를 구체화한다.\n",
    "- is-a 관계 : Car is-a Vehicle (포함된다.)"
   ]
  },
  {
   "cell_type": "markdown",
   "id": "c1f1fa6a-f719-4767-869c-bc4a18d1c5da",
   "metadata": {},
   "source": [
    "- 상속(inherit)\n",
    "     - 기존 클래스에서 일부를 추가하거나 변경하여 새 클래스를 생성하여, 코드를 재사용(reuse)하는 방법이다.\n",
    "     - 상속을 이용하면 새로운 클래스는 기존 클래스를 복사하지 않고, 기존 클래스의 모든 코드를 사용할 수 있다.\n",
    "     \n",
    "- 부모 클래스 상속받기\n",
    "     - 필요한 것만 추가하거나 변경해서 새 클래스를 정의하고 기존 클래스의 행동을 오버라이드(재정의) \n",
    "        -  기존 클래스: 부모(parent) 클래스, 슈퍼(super) 클래스, 베이스(base) 클래스\n",
    "        -  새 클래스: 자식(child) 클래스, 서브(sub) 클래스, 파생된(derived) 클래스\n",
    "\n",
    "\n",
    "- 메서드 오버라이드\n",
    "\n",
    "- 메서드 추가하기\n",
    "     - 자식 클래스도 부모 클래스에 없는 메서드를 추가할 수 있다."
   ]
  },
  {
   "cell_type": "code",
   "execution_count": 23,
   "id": "80ee41fa-a3d0-4bcf-ac58-1ba00d56e8e5",
   "metadata": {},
   "outputs": [],
   "source": [
    "# 상속\n",
    "class Vehicle:\n",
    "    \n",
    "    def __init__(self, speed):\n",
    "        self.speed = speed\n",
    "        \n",
    "    def go(self):\n",
    "        print(F\"{self.speed}의 속도로 달린다.\")\n",
    "        \n",
    "# child\n",
    "class Car(Vehicle):\n",
    "    pass"
   ]
  },
  {
   "cell_type": "code",
   "execution_count": 24,
   "id": "645a6b48-4f21-4ea7-aae6-f3e2b4e76e7a",
   "metadata": {},
   "outputs": [],
   "source": [
    "car = Car('20km/h')"
   ]
  },
  {
   "cell_type": "code",
   "execution_count": 25,
   "id": "d062846d-a526-4bd6-bd6c-8a81b43bc9d1",
   "metadata": {},
   "outputs": [
    {
     "name": "stdout",
     "output_type": "stream",
     "text": [
      "20km/h의 속도로 달린다.\n"
     ]
    }
   ],
   "source": [
    "car.go()"
   ]
  },
  {
   "cell_type": "code",
   "execution_count": 26,
   "id": "6ad12045-73de-49a5-b336-6e1c37f90963",
   "metadata": {},
   "outputs": [],
   "source": [
    "# 상속 : 클래스끼리 유산을 물려주는 것.\n",
    "\n",
    "class Base:\n",
    "    def base_method(self):\n",
    "        print('base_method')\n",
    "        \n",
    "class Derived(Base):\n",
    "    pass"
   ]
  },
  {
   "cell_type": "code",
   "execution_count": 27,
   "id": "ece022c9-abff-457e-8737-ef109424011c",
   "metadata": {},
   "outputs": [
    {
     "name": "stdout",
     "output_type": "stream",
     "text": [
      "base_method\n",
      "base_method\n"
     ]
    }
   ],
   "source": [
    "base = Base()\n",
    "base.base_method()\n",
    "\n",
    "derived = Derived()\n",
    "derived.base_method() # 물려받은 base_method를 가지고 있다."
   ]
  },
  {
   "cell_type": "code",
   "execution_count": 28,
   "id": "493f9436-4feb-4832-a1f5-0fde7571f020",
   "metadata": {},
   "outputs": [],
   "source": [
    "# 변수 추가하기 (속성)\n",
    "\n",
    "class Car(Vehicle):\n",
    "    \n",
    "    def __init__(self, speed, brand):\n",
    "        # speed == 부모\n",
    "        super().__init__(speed) # Vehicle().speed\n",
    "        # brand == 자식\n",
    "        self.brand = brand # 나의 고유한 특성이 된다."
   ]
  },
  {
   "cell_type": "code",
   "execution_count": 29,
   "id": "01f85131-daa4-472b-98a6-a97d1c0df9bd",
   "metadata": {},
   "outputs": [
    {
     "data": {
      "text/plain": [
       "'kia'"
      ]
     },
     "execution_count": 29,
     "metadata": {},
     "output_type": "execute_result"
    }
   ],
   "source": [
    "car2 = Car('20km/h', 'kia')\n",
    "car2.brand"
   ]
  },
  {
   "cell_type": "code",
   "execution_count": 30,
   "id": "9fdc35da-2eb8-4b42-b7f6-ae5948093ccd",
   "metadata": {},
   "outputs": [
    {
     "ename": "AttributeError",
     "evalue": "'Vehicle' object has no attribute 'brand'",
     "output_type": "error",
     "traceback": [
      "\u001b[1;31m---------------------------------------------------------------------------\u001b[0m",
      "\u001b[1;31mAttributeError\u001b[0m                            Traceback (most recent call last)",
      "\u001b[1;32m~\\AppData\\Local\\Temp/ipykernel_12720/3023382667.py\u001b[0m in \u001b[0;36m<module>\u001b[1;34m\u001b[0m\n\u001b[0;32m      1\u001b[0m \u001b[0mv\u001b[0m \u001b[1;33m=\u001b[0m \u001b[0mVehicle\u001b[0m\u001b[1;33m(\u001b[0m\u001b[1;34m'33km/h'\u001b[0m\u001b[1;33m)\u001b[0m\u001b[1;33m\u001b[0m\u001b[1;33m\u001b[0m\u001b[0m\n\u001b[1;32m----> 2\u001b[1;33m \u001b[0mv\u001b[0m\u001b[1;33m.\u001b[0m\u001b[0mbrand\u001b[0m \u001b[1;31m# 부모에게는 brand가 없다. 오류가 난다.\u001b[0m\u001b[1;33m\u001b[0m\u001b[1;33m\u001b[0m\u001b[0m\n\u001b[0m",
      "\u001b[1;31mAttributeError\u001b[0m: 'Vehicle' object has no attribute 'brand'"
     ]
    }
   ],
   "source": [
    "v = Vehicle('33km/h')\n",
    "v.brand # 부모에게는 brand가 없다. 오류가 난다."
   ]
  },
  {
   "cell_type": "code",
   "execution_count": 82,
   "id": "2c95786d-6cf4-4daf-83c4-e85dab1e5e4b",
   "metadata": {},
   "outputs": [
    {
     "name": "stdout",
     "output_type": "stream",
     "text": [
      "B.__init__()\n"
     ]
    },
    {
     "ename": "AttributeError",
     "evalue": "'B' object has no attribute 'message'",
     "output_type": "error",
     "traceback": [
      "\u001b[1;31m---------------------------------------------------------------------------\u001b[0m",
      "\u001b[1;31mAttributeError\u001b[0m                            Traceback (most recent call last)",
      "\u001b[1;32m~\\AppData\\Local\\Temp/ipykernel_12720/605871482.py\u001b[0m in \u001b[0;36m<module>\u001b[1;34m\u001b[0m\n\u001b[0;32m     11\u001b[0m \u001b[1;33m\u001b[0m\u001b[0m\n\u001b[0;32m     12\u001b[0m \u001b[0mobj\u001b[0m \u001b[1;33m=\u001b[0m \u001b[0mB\u001b[0m\u001b[1;33m(\u001b[0m\u001b[1;33m)\u001b[0m\u001b[1;33m\u001b[0m\u001b[1;33m\u001b[0m\u001b[0m\n\u001b[1;32m---> 13\u001b[1;33m \u001b[0mobj\u001b[0m\u001b[1;33m.\u001b[0m\u001b[0mmessage\u001b[0m\u001b[1;33m\u001b[0m\u001b[1;33m\u001b[0m\u001b[0m\n\u001b[0m",
      "\u001b[1;31mAttributeError\u001b[0m: 'B' object has no attribute 'message'"
     ]
    }
   ],
   "source": [
    "# 데이터(변수) 상속\n",
    "\n",
    "class A:\n",
    "    def __init__(self):\n",
    "        print(\"A.__init__()\")\n",
    "        self.message = \"Hello\"\n",
    "    \n",
    "class B(A):\n",
    "    def __init__(self):\n",
    "        print(\"B.__init__()\")\n",
    "        \n",
    "obj = B()\n",
    "obj.message # 초기화 된 속성만 상속..?"
   ]
  },
  {
   "cell_type": "code",
   "execution_count": 81,
   "id": "699a4796-e0e7-46f0-a84f-27c136124482",
   "metadata": {},
   "outputs": [
    {
     "name": "stdout",
     "output_type": "stream",
     "text": [
      "A.__init__()\n",
      "B.__init__()\n"
     ]
    },
    {
     "data": {
      "text/plain": [
       "'Hello'"
      ]
     },
     "execution_count": 81,
     "metadata": {},
     "output_type": "execute_result"
    }
   ],
   "source": [
    "# 명시적 생성\n",
    "\n",
    "class A:\n",
    "    def __init__(self):\n",
    "        print(\"A.__init__()\")\n",
    "        self.message = \"Hello\"\n",
    "    \n",
    "class B(A):\n",
    "    def __init__(self):\n",
    "        A.__init__(self) # 메소드 호출\n",
    "        print(\"B.__init__()\")\n",
    "        \n",
    "obj = B()\n",
    "obj.message"
   ]
  },
  {
   "cell_type": "code",
   "execution_count": null,
   "id": "02ef2827-2203-438d-bb54-38339c6b3b50",
   "metadata": {},
   "outputs": [],
   "source": []
  },
  {
   "cell_type": "code",
   "execution_count": 33,
   "id": "cf4ce64a-6173-4229-ac85-7b37753d3aa9",
   "metadata": {},
   "outputs": [],
   "source": [
    "### 메소드 추가, 변경\n",
    "\n",
    "class Car(Vehicle):\n",
    "    \n",
    "    def __init__(self, speed, brand):\n",
    "        super().__init__(speed) # \n",
    "        self.brand = brand # 나의 고유한 특성이 된다.\n",
    "        \n",
    "        # 오버라이드(override) : 재정의\n",
    "        def go(self):\n",
    "            # 부모의 go도 함께 가져가고 싶다면?\n",
    "            print(F\"차종 {self.brand}의 속도 {self.speed}\")\n",
    "            \n",
    "        # 메소드 추가\n",
    "        def stop():\n",
    "            pass"
   ]
  },
  {
   "cell_type": "code",
   "execution_count": 34,
   "id": "51e110dd-2d8b-4a22-bbfa-7d6f1b2b16f6",
   "metadata": {},
   "outputs": [
    {
     "name": "stdout",
     "output_type": "stream",
     "text": [
      "32km/h의 속도로 달린다.\n"
     ]
    }
   ],
   "source": [
    "car3 = Car('32km/h', 'mini')\n",
    "car3.go()"
   ]
  },
  {
   "cell_type": "markdown",
   "id": "6490001e-8ccb-4524-9f6c-68c8b16b95ea",
   "metadata": {},
   "source": [
    "- 부모에게 도움받기: super()\n",
    "     - 자식 클래스에서 부모 클래스를 호출할 때 super() 메서드를 사용한다.\n",
    "     \n",
    "-  다중 상속\n",
    "     - 여러 부모 클래스를 상속할 수 있다.\n",
    "     - 파이썬의 상속은 메서드 해석 순서method resolution order(MRO)에 따른다.\n",
    "     \n",
    "         - 각 파이썬 클래스에는 특수 메서드 mro()가 있고, 이 메서드는 해당 클래스 객체에 대한 메서드 또는 속성을 찾는 데 필요한 클래스의 리스트를 반환한다.\n",
    "         - __mro__라는 유사한 속성은 해당 클래스의 튜플. 위 경우 먼저 선언된 부모 클래스를 상속한다.\n",
    "         \n",
    "-  믹스인\n",
    "     - 믹스인mixin 클래스\n",
    "         - 클래스 정의에 부모 클래스를 추가하여 상속을 받으나 이를 헬퍼helper의 목적으로만 사용 즉, 다른 상위 클래스와 메서드를 공유하지 않으며 이전 절에서 언급한 메서드 해석 순서의 모호성을 피할 수 있다.\n",
    "        - 로깅과 같은 ‘사이드’ 작업에서 이를 사용할 수 있다."
   ]
  },
  {
   "cell_type": "code",
   "execution_count": 35,
   "id": "ef45de34-e7a9-41a0-a34b-c1f855e25b5d",
   "metadata": {},
   "outputs": [],
   "source": [
    "# super()\n",
    "\n",
    "class A:\n",
    "    def __init__(self):\n",
    "        self.message = \"Hello\"\n",
    "        \n",
    "class B:\n",
    "    def __init__(self):\n",
    "        super().__init__() # A.__init__(self) 와 동일한 결과를 낸다.\n",
    "        \n",
    "# 기반 클래스가 다른 클래스로 교체되거나 수정되어도 파생 클래스가 받는 영향을 최소화할 수 있다.     "
   ]
  },
  {
   "cell_type": "code",
   "execution_count": 36,
   "id": "1889ed9f-a3f0-4c11-8cf5-a25f06f08b21",
   "metadata": {},
   "outputs": [
    {
     "name": "stdout",
     "output_type": "stream",
     "text": [
      "B.__init__()\n",
      "A.__init__()\n",
      "self.message is Hello\n"
     ]
    }
   ],
   "source": [
    "class A:\n",
    "    def __init__(self):\n",
    "        print(\"A.__init__()\")\n",
    "        self.message = \"Hello\"\n",
    "        \n",
    "class B(A):\n",
    "    def __init__(self):\n",
    "        print(\"B.__init__()\")\n",
    "        \n",
    "        super().__init__()\n",
    "        print(\"self.message is \" + self.message)\n",
    "        \n",
    "if __name__ == \"__main__\":\n",
    "    b = B()"
   ]
  },
  {
   "cell_type": "code",
   "execution_count": 37,
   "id": "6f7842c0-fb1a-46f9-8512-195b0859643c",
   "metadata": {},
   "outputs": [
    {
     "name": "stdout",
     "output_type": "stream",
     "text": [
      "Run\n",
      "Fly\n"
     ]
    }
   ],
   "source": [
    "# 오버라이딩\n",
    "\n",
    "class Car:\n",
    "    def ride(self):\n",
    "        print(\"Run\")\n",
    "    \n",
    "class FlyingCar(Car):\n",
    "    def ride(self): # 오버라이딩\n",
    "        super().ride() # super() 메소드를 통해, 부모 클래스의 메소드(혹은 속성도..)를 가져온다.\n",
    "        print(\"Fly\")\n",
    "\n",
    "my_car = FlyingCar()\n",
    "my_car.ride()"
   ]
  },
  {
   "cell_type": "markdown",
   "id": "3bf3144b-7bc4-4922-8f5d-8259f2e89034",
   "metadata": {},
   "source": [
    "### 실습"
   ]
  },
  {
   "cell_type": "code",
   "execution_count": 76,
   "id": "71963f45-bf09-4603-9bc6-79f0ca4dddb4",
   "metadata": {},
   "outputs": [],
   "source": [
    "class Person:\n",
    "    def __init__(self, name):\n",
    "        self.name = name # pablo\n",
    "        \n",
    "    def info():\n",
    "        print(self.name)\n",
    "        \n",
    "#---------------------\n",
    "class Doctor(Person): # Dr. pable\n",
    "    \n",
    "    def __init__(self, name):\n",
    "        super().__init__(name)\n",
    "        \n",
    "    def info(self):    \n",
    "        print(F\"Dr. {self.name}\")\n",
    "\n",
    "class Male: # Mr. pable\n",
    "    \n",
    "    def __init__(self, name):\n",
    "        self.name = name\n",
    "        \n",
    "    def info(self):\n",
    "        print(F\"Mr. {self.name}\")\n",
    "\n",
    "class Female: # Mrs. pable\n",
    "    pass\n",
    "\n",
    "##"
   ]
  },
  {
   "cell_type": "code",
   "execution_count": 79,
   "id": "729df93f-8259-4590-aca2-5aab08b5f87c",
   "metadata": {},
   "outputs": [
    {
     "ename": "TypeError",
     "evalue": "info() missing 1 required positional argument: 'self'",
     "output_type": "error",
     "traceback": [
      "\u001b[1;31m---------------------------------------------------------------------------\u001b[0m",
      "\u001b[1;31mTypeError\u001b[0m                                 Traceback (most recent call last)",
      "\u001b[1;32m~\\AppData\\Local\\Temp/ipykernel_12720/3386701923.py\u001b[0m in \u001b[0;36m<module>\u001b[1;34m\u001b[0m\n\u001b[1;32m----> 1\u001b[1;33m \u001b[0mMale\u001b[0m\u001b[1;33m.\u001b[0m\u001b[0minfo\u001b[0m\u001b[1;33m(\u001b[0m\u001b[1;33m)\u001b[0m\u001b[1;33m\u001b[0m\u001b[1;33m\u001b[0m\u001b[0m\n\u001b[0m",
      "\u001b[1;31mTypeError\u001b[0m: info() missing 1 required positional argument: 'self'"
     ]
    }
   ],
   "source": [
    "Male.info()"
   ]
  },
  {
   "cell_type": "markdown",
   "id": "ff4a628e-5164-490d-8ee3-8aae6e1501fc",
   "metadata": {},
   "source": [
    "### 다중 상속\n",
    "\n",
    "- method resolution order (MRO)\n",
    "- animal <- Horse\n",
    "         <- donkey\n",
    "                 <- Mule (Donkey > Horse)\n",
    "                 <- Hinny (Horse > Donkey)\n",
    "                                "
   ]
  },
  {
   "cell_type": "code",
   "execution_count": 40,
   "id": "58f9785b-4981-4479-9c8e-5b79d02c0446",
   "metadata": {},
   "outputs": [],
   "source": [
    "class Animal:\n",
    "    def says(self):\n",
    "        return '동물이 운다.'\n",
    "    \n",
    "# 자식\n",
    "class Horse(Animal):\n",
    "    def says(self):\n",
    "        return '히히힝'\n",
    "    \n",
    "class Donkey(Animal):\n",
    "    def says(self):\n",
    "        return '히이호'\n",
    "    \n",
    "# 손주\n",
    "class Mule(Donkey, Horse):\n",
    "    pass\n",
    "\n",
    "class Hinny(Horse, Donkey):\n",
    "    pass"
   ]
  },
  {
   "cell_type": "code",
   "execution_count": 41,
   "id": "e8d6b90e-7bdc-4f8b-9ba9-68c3e5d16f7c",
   "metadata": {},
   "outputs": [
    {
     "data": {
      "text/plain": [
       "'히이호'"
      ]
     },
     "execution_count": 41,
     "metadata": {},
     "output_type": "execute_result"
    }
   ],
   "source": [
    "m = Mule()\n",
    "m.says()"
   ]
  },
  {
   "cell_type": "code",
   "execution_count": 42,
   "id": "79ecae32-f55e-4acd-a7e1-415182d284a2",
   "metadata": {},
   "outputs": [
    {
     "data": {
      "text/plain": [
       "'히히힝'"
      ]
     },
     "execution_count": 42,
     "metadata": {},
     "output_type": "execute_result"
    }
   ],
   "source": [
    "Hinny().says()"
   ]
  },
  {
   "cell_type": "code",
   "execution_count": 43,
   "id": "1d447db3-acb1-45d9-83e4-170a418ad025",
   "metadata": {},
   "outputs": [
    {
     "data": {
      "text/plain": [
       "[__main__.Mule, __main__.Donkey, __main__.Horse, __main__.Animal, object]"
      ]
     },
     "execution_count": 43,
     "metadata": {},
     "output_type": "execute_result"
    }
   ],
   "source": [
    "Mule.mro()"
   ]
  },
  {
   "cell_type": "markdown",
   "id": "0036db00-bd1d-4a25-8bc6-7e86017d7006",
   "metadata": {},
   "source": [
    "### 다형성\n",
    "\n",
    "- 형태가 다른데 기능이 같은 것을 말한다.\n",
    "- 객체가 다른데도 같은 메소드를 가지고 있으면 같은 기능을 수행할 수 있다.\n",
    "\n",
    "- 파이썬은 다형성(polymorphism)을 느슨하게 구현\n",
    "     - 클래스에 상관없이 같은 동작을 다른 객체에 적용할 수 있다는 것을 의미한다."
   ]
  },
  {
   "cell_type": "code",
   "execution_count": 44,
   "id": "ba0a42be-7114-422d-b1cf-871cab95ef40",
   "metadata": {},
   "outputs": [
    {
     "name": "stdout",
     "output_type": "stream",
     "text": [
      "히이호\n",
      "히이호\n",
      "동물이 운다.\n"
     ]
    }
   ],
   "source": [
    "for animal in [Mule(), Donkey(), Animal()]:\n",
    "    print(animal.says())"
   ]
  },
  {
   "cell_type": "markdown",
   "id": "dbefc8ef-e388-4d66-a1ec-499de0fe3ee5",
   "metadata": {
    "tags": []
   },
   "source": [
    "### 메서드 타입\n",
    "\n",
    "- 인스턴스 메서드\n",
    "    - self가 1번 인자\n",
    "    - 객체 생성 -> 사용 가능\n",
    "    ++\n",
    "     - 클래스 정의에서 메서드의 첫 번째 인수가 self인 메서드이다.\n",
    "     - 일반적인 클래스를 생성할 때의 메서드 타입이다.\n",
    "     - 인스턴스 메서드의 첫 번째 매개변수는 self이고, 파이썬은 이 메서드를 호출할 때 객체를 전달한다.\n",
    "    \n",
    "- 클래스 메서드\n",
    "    - 객체 생성하지 않아도 사용 가능\n",
    "    - 클래스에 접근하는 메서드\n",
    "    - @classmethod 를 사용한다.\n",
    "    - 예약어: cls\n",
    "    - 함수 (cls) 가 첫 인자\n",
    "    - class Person, cls == Person\n",
    "    ++\n",
    "     - 대조적으로 클래스 메서드(class method)는 클래스 전체에 영향을 미친다.\n",
    "     - 클래스 정의에서 함수에 @classmethod 데커레이터가 있다면 이것은 클래스 메서드이다.\n",
    "     - 또한 이 메서드의 첫 번째 매개변수는 클래스 자신이다.\n",
    "     - 파이썬에서는 보통 이 클래스의 매개변수를 cls로 쓴다. class는 예약어라서 사용할 수 없다.\n",
    "\n",
    "- 정적 메서드\n",
    "    - 객체 생성하지 않고 접근 가능하다.\n",
    "    - 클래스랑 전혀 상관이 없기 때문에 접근 가능한 것.\n",
    "    - 내용, 기능이 비슷해서 클래스 내에 묶어둔다.\n",
    "    +\n",
    "     - 정적 메서드(static method)는 클래스나 객체에 영향을 미치지 못한다.\n",
    "     - 이 메서드는 단지 편의를 위해 존재한다.\n",
    "     - 정적 메서드는 @staticmethod 데커레이터가 있고, 첫 번째 매개변수로 self나 cls가 없다.\n",
    "\n",
    "- 추상 메서드\n",
    "    - 추상 클래스? : abstract 이름만 존재하는 클래스()\n",
    "    - 설계도 역할:\n",
    "    - 상속하는 자식클래스 => 반드시 구현해야 하는 메소드를 정의 한다.\n"
   ]
  },
  {
   "cell_type": "code",
   "execution_count": 45,
   "id": "aa1df52d-775f-4b5b-83b5-b98e171e418d",
   "metadata": {},
   "outputs": [
    {
     "data": {
      "text/plain": [
       "'히이호'"
      ]
     },
     "execution_count": 45,
     "metadata": {},
     "output_type": "execute_result"
    }
   ],
   "source": [
    "# 인스턴스 메서드\n",
    "a = Mule() # 객체 생성\n",
    "a.says()"
   ]
  },
  {
   "cell_type": "code",
   "execution_count": 46,
   "id": "f182ebbc-1721-4a86-b9c5-e7004c5db68d",
   "metadata": {},
   "outputs": [],
   "source": [
    "# 클래스 메서드\n",
    "class A:\n",
    "    cnt = 0\n",
    "    \n",
    "    @classmethod\n",
    "    def move(cls):\n",
    "        return cls.cnt"
   ]
  },
  {
   "cell_type": "code",
   "execution_count": 47,
   "id": "c513f937-0e8c-4510-b06e-141486b4c938",
   "metadata": {},
   "outputs": [
    {
     "data": {
      "text/plain": [
       "0"
      ]
     },
     "execution_count": 47,
     "metadata": {},
     "output_type": "execute_result"
    }
   ],
   "source": [
    "A.move()"
   ]
  },
  {
   "cell_type": "code",
   "execution_count": 48,
   "id": "2a78c0b3-d739-4663-ba3a-e5f2371e6ed0",
   "metadata": {},
   "outputs": [
    {
     "data": {
      "text/plain": [
       "<__main__.Person at 0x20346d77670>"
      ]
     },
     "execution_count": 48,
     "metadata": {},
     "output_type": "execute_result"
    }
   ],
   "source": [
    "class Person:\n",
    "    def __init__(self, name, age):\n",
    "        self.name = name\n",
    "        self.age = age\n",
    "    \n",
    "    @classmethod\n",
    "    def tuple_object(cls, args):\n",
    "        return cls(args[0], args[1]) # Person()\n",
    "\n",
    "name = 'kim'\n",
    "age = 24\n",
    "p = Person(name, age)\n",
    "\n",
    "info = name, age\n",
    "Person.tuple_object(info) # p객체 생성하도록"
   ]
  },
  {
   "cell_type": "code",
   "execution_count": 49,
   "id": "25702e45-1567-46f3-be73-e40f8efba571",
   "metadata": {},
   "outputs": [
    {
     "data": {
      "text/plain": [
       "'객체 수 : 1'"
      ]
     },
     "execution_count": 49,
     "metadata": {},
     "output_type": "execute_result"
    }
   ],
   "source": [
    "# 클래스 메서드\n",
    "\n",
    "class A:\n",
    "    # 붕어빵 몇 개?\n",
    "    cnt = 0\n",
    "    \n",
    "    cnt += 1\n",
    "    @classmethod\n",
    "    def count(cls):\n",
    "        return f\"객체 수 : {cls.cnt}\"\n",
    "\n",
    "A()\n",
    "A()\n",
    "A()\n",
    "A.count()"
   ]
  },
  {
   "cell_type": "code",
   "execution_count": 50,
   "id": "b303f23c-d3ea-451e-b1c5-10e6a2396e9b",
   "metadata": {},
   "outputs": [],
   "source": [
    "# 정적 메서드\n",
    "\n",
    "class Coyote:\n",
    "    @staticmethod\n",
    "    def says(): # self 사용하지 않는다. 딕셔너리에 변수를 저장하는 것과 비슷 단 데커레이터를 사용\n",
    "        print('hi')"
   ]
  },
  {
   "cell_type": "code",
   "execution_count": 71,
   "id": "6126caf2-e1f0-468f-829c-e2c266cd3b65",
   "metadata": {},
   "outputs": [
    {
     "data": {
      "text/plain": [
       "\"        \\nclass Car(Vehicle):\\n    def stop(self):\\n        print('차가 정지한다.')\\n\""
      ]
     },
     "execution_count": 71,
     "metadata": {},
     "output_type": "execute_result"
    }
   ],
   "source": [
    "# 추상 메서드\n",
    "\n",
    "from abc import *\n",
    "\n",
    "class Vehicle(metaclass=ABCMeta):\n",
    "    # 추상 클래스 설정하는 방법\n",
    "    \n",
    "    speed = '속도'\n",
    "    \n",
    "    @abstractmethod\n",
    "    def go(self):\n",
    "        pass\n",
    "        \n",
    "    def stop(self):\n",
    "        pass\n",
    "    \n",
    "class Car(Vehicle):\n",
    "    def go():\n",
    "        print('탈 것이 간다.') # 부모클래스에서 추상 클래스(메소드)는 반드시 그 기능을 구현해주어야 한다.\n",
    "'''        \n",
    "class Car(Vehicle):\n",
    "    def stop(self):\n",
    "        print('차가 정지한다.')\n",
    "'''"
   ]
  },
  {
   "cell_type": "code",
   "execution_count": 72,
   "id": "52704ba7-b057-46f0-bd34-59fabcba1d2a",
   "metadata": {},
   "outputs": [
    {
     "name": "stdout",
     "output_type": "stream",
     "text": [
      "탈 것이 간다.\n"
     ]
    }
   ],
   "source": [
    "Car.go()"
   ]
  },
  {
   "cell_type": "code",
   "execution_count": 52,
   "id": "b397ad46-a58f-4a53-bc5c-05c5511f9b86",
   "metadata": {},
   "outputs": [
    {
     "data": {
      "text/plain": [
       "<__main__.Duck at 0x20346d7ffd0>"
      ]
     },
     "execution_count": 52,
     "metadata": {},
     "output_type": "execute_result"
    }
   ],
   "source": [
    "# 추상 클래스\n",
    "from abc import ABCMeta\n",
    "from abc import abstractmethod\n",
    "\n",
    "class AbstractDuck(metaclass=ABCMeta):\n",
    "    @abstractmethod # 추상 기반 클래스가 요구하는 메소드\n",
    "    def Quack(self):\n",
    "        pass # 기능을 구현하지는 않는다.\n",
    "'''\n",
    "class Duck(AbstractDuck):\n",
    "    pass\n",
    "'''    \n",
    "class Duck(AbstractDuck):\n",
    "    def Quack(self):\n",
    "        print(\"[Duck] Quack\")\n",
    "\n",
    "\n",
    "duck = Duck()\n",
    "duck"
   ]
  },
  {
   "cell_type": "code",
   "execution_count": null,
   "id": "d3256e04-c4f8-46d3-99d7-afd4c4bfb7e8",
   "metadata": {},
   "outputs": [],
   "source": []
  }
 ],
 "metadata": {
  "kernelspec": {
   "display_name": "Python 3 (ipykernel)",
   "language": "python",
   "name": "python3"
  },
  "language_info": {
   "codemirror_mode": {
    "name": "ipython",
    "version": 3
   },
   "file_extension": ".py",
   "mimetype": "text/x-python",
   "name": "python",
   "nbconvert_exporter": "python",
   "pygments_lexer": "ipython3",
   "version": "3.9.7"
  }
 },
 "nbformat": 4,
 "nbformat_minor": 5
}
