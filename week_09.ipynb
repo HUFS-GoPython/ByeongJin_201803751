{
 "cells": [
  {
   "cell_type": "markdown",
   "id": "001771a7-aa38-49a4-92c0-1d399297e047",
   "metadata": {},
   "source": [
    "## Week09 (22.04.29)"
   ]
  },
  {
   "cell_type": "markdown",
   "id": "7aebb710-5491-4c25-99e6-6b3e475d060b",
   "metadata": {},
   "source": [
    "## 딕셔너리와 셋\n",
    "    - 값으로 데이터를 저장하는 딕셔너리와 셋"
   ]
  },
  {
   "cell_type": "markdown",
   "id": "2a7202e1-3ddb-4488-af3d-5577eb38c6fa",
   "metadata": {},
   "source": [
    "### 딕셔너리"
   ]
  },
  {
   "cell_type": "markdown",
   "id": "e349265b-a36f-4f21-9b75-36597e972389",
   "metadata": {},
   "source": [
    "    - '딕셔너리(dictionary)'와 '리스트' 다른 점과 특징\n",
    "        ⁃ 항목의 순서를 따지지 않으며, 0 또는 1과 같은 오프셋으로 항목을 선택할 수 없다.\n",
    "        ⁃ 대신 값value에 상응하는 고유한 키(key)를 지정. 이러한 키는 대부분 문자열이지만, 불변하는 파이썬의\n",
    "        어떤 타입(불리언, 정수, 부동소수점, 튜플, 문자열 등)이 될 수 있다.\n",
    "        ⁃ 딕셔너리는 변경 가능하므로 키:값 요소를 추가, 삭제, 수정할 수 있다.\n",
    "        \n",
    "    - 생성하기: { }\n",
    "        ⁃ 딕셔너리를 만들려면 중괄호({})안에 콤마로 구분한 '키:값' 쌍을 지정해야 한다.\n",
    "        \n",
    "    - 생성하기: dict()\n",
    "        ⁃ 명명된 인수와 값을 dict() 함수에 전달하여 딕셔너리를 생성할 수 있다.\n",
    "        \n",
    "    ◦ 변환하기: dict()\n",
    "        ⁃ dict() 함수를 사용해서 두 값으로 이루어진 시퀀스를 딕셔너리로 변환할 수 있다.\n",
    "        \n",
    "    ◦ 항목 추가/변경: [key]\n",
    "        ⁃ 딕셔너리에 항목을 추가하는 것은 키에 참조되는 항목에 값을 할당하면 된다."
   ]
  },
  {
   "cell_type": "code",
   "execution_count": 132,
   "id": "9e396422-732b-4fd8-8b20-ecac4a8f2430",
   "metadata": {},
   "outputs": [
    {
     "name": "stdout",
     "output_type": "stream",
     "text": [
      "<class 'dict'>\n",
      "<class 'set'>\n"
     ]
    }
   ],
   "source": [
    "# 생성하기\n",
    "\n",
    "empty = dict()\n",
    "empty_dict = {}\n",
    "print(type(empty_dict))\n",
    "\n",
    "# set과 혼동하지 말 것.\n",
    "empty_set = set()\n",
    "print(type(empty_set))"
   ]
  },
  {
   "cell_type": "code",
   "execution_count": 133,
   "id": "a2fcf0ad-e446-42dc-9208-d05838334d52",
   "metadata": {},
   "outputs": [
    {
     "data": {
      "text/plain": [
       "({1, 2, 3}, {1: 'apple', 2: 'banana', 3: 'kiwi'})"
      ]
     },
     "execution_count": 133,
     "metadata": {},
     "output_type": "execute_result"
    }
   ],
   "source": [
    "# 생성하기 : 초기화 하는 방법에 따라 set혹은 dictionary\n",
    "\n",
    "# set\n",
    "a = {1, 2, 3} # 키:값에서 키만 가지고 있는 자료구조\n",
    "\n",
    "# dict\n",
    "b = {1:'apple', 2:'banana', 3:'kiwi'} # 이렇게 초기화 해야 dict\n",
    "\n",
    "a, b"
   ]
  },
  {
   "cell_type": "code",
   "execution_count": 134,
   "id": "31bad2de-ab1d-4bba-bf7c-ec105c0f77fb",
   "metadata": {},
   "outputs": [
    {
     "data": {
      "text/plain": [
       "{'apple': 'a', 'banana': 'b', 'kiwi': 'c'}"
      ]
     },
     "execution_count": 134,
     "metadata": {},
     "output_type": "execute_result"
    }
   ],
   "source": [
    "# 생성하기\n",
    "\n",
    "c = {'':'', '':'', '':''}\n",
    "\n",
    "# 키:값의 쌍이 있다면 dict()로 dict화\n",
    "c = dict(apple='a', banana='b', kiwi='c')\n",
    "c"
   ]
  },
  {
   "cell_type": "markdown",
   "id": "27643f1f-e538-4a72-9b25-bdeff8b17560",
   "metadata": {
    "tags": []
   },
   "source": [
    "#### 딕셔너리 문제 1\n",
    "    - 출석부로 딕셔너리 만들기\n",
    "        - 이름, 학번, 학과\n",
    "            - james 202201 경제학과\n",
    "            - laura 202203 스페인어과\n",
    "            - louis 202202 컴공과"
   ]
  },
  {
   "cell_type": "code",
   "execution_count": 135,
   "id": "b9c6f4e3-d9f2-46d4-bf20-1a98d04c538a",
   "metadata": {},
   "outputs": [
    {
     "data": {
      "text/plain": [
       "{202201: ['james', '경제학과'],\n",
       " 202203: ['laura', '스페인어과'],\n",
       " 202202: ['louis', '컴공과']}"
      ]
     },
     "execution_count": 135,
     "metadata": {},
     "output_type": "execute_result"
    }
   ],
   "source": [
    "# 키 값으로 잡아야 하는 것 : '중복이 안 되는 것'을 기준으로 한다.\n",
    "# 값(value)에는 다양한 자료구조를 넣을 수 있다.\n",
    "\n",
    "{202201:['james', '경제학과'], 202203:['laura', '스페인어과'], 202202:['louis', '컴공과']}\n",
    "# value에 자료구조 리스트"
   ]
  },
  {
   "cell_type": "code",
   "execution_count": 136,
   "id": "2855114b-289a-4bac-a232-eacbd68af92d",
   "metadata": {},
   "outputs": [
    {
     "data": {
      "text/plain": [
       "{'a': 'b', 'b': 'c', 'c': 'd'}"
      ]
     },
     "execution_count": 136,
     "metadata": {},
     "output_type": "execute_result"
    }
   ],
   "source": [
    "# 변환하기\n",
    "\n",
    "# [] 안에 []가 쌍으로 존재할 때,\n",
    "# 튜플이어도 가능하다.\n",
    "\n",
    "ex1 = [[1, 2], [2, 3], [3, 4]]\n",
    "dict(ex1)\n",
    "\n",
    "# 만약 키가 똑같다면, 마지막 키에 대응하는 값이 할당된다.\n",
    "\n",
    "ex2 = [[1, 2], [2, 3], [1, 3]]\n",
    "dict(ex2)\n",
    "# 하나의 키는 하나의 값(자료구조)를 가지기에..\n",
    "# {abc : ['alpha', 'beta', 'gamma']} 는 '하나'의 '리스트' 자료구조를 값으로 가지는 것\n",
    "\n",
    "\n",
    "# 문자열도 가능하지만, 딱 두자리만 있어야 한다. \n",
    "# 세 자리가 되는 순간 오류가 발생한다.\n",
    "ex3 = ['ab', 'bc', 'cd']\n",
    "dict(ex3)"
   ]
  },
  {
   "cell_type": "markdown",
   "id": "cfaf2a4c-1349-40d0-914b-680a0ffa5fb5",
   "metadata": {},
   "source": [
    "    - 항목 얻기: [key]와 get()\n",
    "        ⁃ 딕셔너리에 키를 지정하여 상응하는 값을 얻을 수 있다.\n",
    "        ⁃ 딕셔너리에 키가 없으면 다음과 같은 예외가 발생한다.\n",
    "        \n",
    "    - 문제를 피하는 첫 번째 방법은 이전 절에서 본 in으로 키에 대한 멤버십 테스트를 실행하는 것이다.\n",
    "    \n",
    "    - 다른 방법은 딕셔너리의 get() 함수를 사용하는 것이다.\n",
    "    \n",
    "    - 모든 키 얻기: keys()\n",
    "    - 모든 값 얻기: values()\n",
    "    - 모든 키-값 얻기: items()\n",
    "    - 길이 얻기: len()"
   ]
  },
  {
   "cell_type": "code",
   "execution_count": 137,
   "id": "d79b12ea-017f-47da-b1cd-94d7544edb6d",
   "metadata": {},
   "outputs": [
    {
     "name": "stdout",
     "output_type": "stream",
     "text": [
      "False\n",
      "None\n",
      "0\n"
     ]
    }
   ],
   "source": [
    "# 항목 추가/변경\n",
    "\n",
    "# 성과 이름이 담긴 딕셔너리에서\n",
    "pythons = { \n",
    "    'Chapman': 'Graham',\n",
    "    'Cleese': 'john',\n",
    "    'Idle': 'Eric',\n",
    "    'Jones': 'Terry',\n",
    "    'Palin':'Michael',\n",
    "}\n",
    "\n",
    "# 조회(key로 value를 찾을 수 있다.)\n",
    "# 없는 값이면 예외가 발생한다.\n",
    "pythons['Idle']\n",
    "\n",
    "\n",
    "# 예외 발생 하지 않게 하는 방법\n",
    "\n",
    "# 1. 값이 있는지 없는지 확인한 다음에 한다.\n",
    "print('Peter' in pythons)\n",
    "\n",
    "# 2. get()을 이용한다.\n",
    "# 있으면 값을 반환, 없으면 None을 반환한다.\n",
    "print(pythons.get('Peter'))\n",
    "\n",
    "# 내가 원하는 반환값 설정도 가능하다.\n",
    "print(pythons.get('Peter', 0))"
   ]
  },
  {
   "cell_type": "code",
   "execution_count": 138,
   "id": "1ab56fe7-d439-43b8-9817-5a1ac3990547",
   "metadata": {},
   "outputs": [
    {
     "data": {
      "text/plain": [
       "{'Chapman': 'Graham',\n",
       " 'Cleese': 'john',\n",
       " 'Idle': 'james',\n",
       " 'Jones': 'Terry',\n",
       " 'Palin': 'Michael'}"
      ]
     },
     "execution_count": 138,
     "metadata": {},
     "output_type": "execute_result"
    }
   ],
   "source": [
    "# 변경 (key를 찾아서 다른 value를 대응시켜줄 수 있다.)\n",
    "pythons['Idle'] = 'james'\n",
    "pythons"
   ]
  },
  {
   "cell_type": "code",
   "execution_count": 139,
   "id": "e7131de0-af21-4292-a1d5-5386039cac8b",
   "metadata": {},
   "outputs": [
    {
     "data": {
      "text/plain": [
       "{'Chapman': 'Graham',\n",
       " 'Cleese': 'john',\n",
       " 'Idle': 'james',\n",
       " 'Jones': 'Terry',\n",
       " 'Palin': 'Michael',\n",
       " 'Abraim': 'Peter'}"
      ]
     },
     "execution_count": 139,
     "metadata": {},
     "output_type": "execute_result"
    }
   ],
   "source": [
    "# 추가 (없는 값에 하면 추가된다.)\n",
    "pythons['Abraim'] = 'Peter'\n",
    "pythons"
   ]
  },
  {
   "cell_type": "markdown",
   "id": "6b0f6bfc-d4d9-4074-a90d-2e71aa25c8a1",
   "metadata": {},
   "source": [
    "    - 결합하기: {**a, **b}\n",
    "        ⁃ 파이썬 3.5부터는 **를 사용하여 딕셔너리를 결합할 수 있다.\n",
    "        (**는 다른 용도로도 사용되며, 자세한 내용은 9장에서 학습)\n",
    "        - 원본 딕셔너리에 연결하지 않고 딕셔너리 키/값 전체 사본을 원할 경우 deepcopy()에 대한 설명 참조하라.\n",
    "        \n",
    "    - 결합하기: update()\n",
    "        ⁃ update() 함수는 한 딕셔너리의 키와 값들을 복사해서 다른 딕셔너리에 붙여준다.\n",
    "        \n",
    "        \n",
    "    ◦ 키와 del로 항목 삭제하기\n",
    "    ◦ 키로 항목 가져온 뒤 삭제하기: pop()\n",
    "        ⁃ pop()은 get()과 del을 함께 사용. 딕셔너리에 있는 키와 pop()의 인수가 일치한다면 해당 값을 반환한 뒤, 딕셔너리에서 해당 키-값을 삭제. 일치하지 않다면 예외가 발생한다.\n",
    "        \n",
    "    ◦ 모든 항목 삭제하기: clear()\n",
    "        ⁃ 딕셔너리에 있는 키와 값을 모두 삭제하려면 clear()를 사용하거나 빈 딕셔너리({})를 이름에 할당\n"
   ]
  },
  {
   "cell_type": "code",
   "execution_count": 140,
   "id": "7e86ab09-64ac-4285-a678-83079f39fa53",
   "metadata": {},
   "outputs": [
    {
     "data": {
      "text/plain": [
       "{'Chapman': 'Graham',\n",
       " 'Cleese': 'john',\n",
       " 'Idle': 'james',\n",
       " 'Jones': 'Terry',\n",
       " 'Palin': 'Michael',\n",
       " 'Abraim': 'Moe',\n",
       " 'Marx': 'Groucho'}"
      ]
     },
     "execution_count": 140,
     "metadata": {},
     "output_type": "execute_result"
    }
   ],
   "source": [
    "# 결합하기\n",
    "\n",
    "# 여러 개를 추가하는 경우 update(병합)를 사용한다.\n",
    "# 만약 원래 있던 key 였다면, 마지막의 값을 기준으로 update한다.\n",
    "others = {\n",
    "    'Marx': 'Groucho', # 새로운 키\n",
    "    'Abraim': 'Moe' # 원래 있던 키\n",
    "}\n",
    "\n",
    "pythons.update(others)\n",
    "pythons"
   ]
  },
  {
   "cell_type": "code",
   "execution_count": 141,
   "id": "d50fb557-4b3a-412d-8b8c-dc979655b902",
   "metadata": {},
   "outputs": [
    {
     "name": "stdout",
     "output_type": "stream",
     "text": [
      "{'Chapman': 'Graham', 'Cleese': 'john', 'Idle': 'james', 'Jones': 'Terry', 'Palin': 'Michael', 'Abraim': 'Moe', 'Marx': 'Groucho', 'Gusten': 'Lee', 'Hollo': 'Way'}\n",
      "{'Gusten': 'Lee', 'Hollo': 'Way', 'Chapman': 'Graham', 'Cleese': 'john', 'Idle': 'james', 'Jones': 'Terry', 'Palin': 'Michael', 'Abraim': 'Moe', 'Marx': 'Groucho'}\n"
     ]
    }
   ],
   "source": [
    "# 결합하기 (py3에서만 가능)\n",
    "new = {\n",
    "    'Gusten': 'Lee',\n",
    "    'Hollo': 'Way'\n",
    "}\n",
    "\n",
    "# new가 뒤에 붙음\n",
    "print({**pythons, **new})\n",
    "\n",
    "# new가 앞에 붙음\n",
    "print({**new, **pythons})"
   ]
  },
  {
   "cell_type": "code",
   "execution_count": 142,
   "id": "69c1842c-728c-4da4-88c0-3b9d88ee3bc8",
   "metadata": {},
   "outputs": [
    {
     "data": {
      "text/plain": [
       "'james'"
      ]
     },
     "execution_count": 142,
     "metadata": {},
     "output_type": "execute_result"
    }
   ],
   "source": [
    "# 삭제\n",
    "del pythons['Chapman']\n",
    "pythons\n",
    "\n",
    "# 없는 것을 삭제할 때는 예외가 발생하기 때문에, get()처럼 사용하는 함수가 pop()이다.\n",
    "# 값을 반환한 뒤 삭제된다.\n",
    "pythons.pop('Idle')"
   ]
  },
  {
   "cell_type": "code",
   "execution_count": 143,
   "id": "f127e567-f25c-46ce-bbca-60526516cd7f",
   "metadata": {},
   "outputs": [
    {
     "data": {
      "text/plain": [
       "'Michael'"
      ]
     },
     "execution_count": 143,
     "metadata": {},
     "output_type": "execute_result"
    }
   ],
   "source": [
    "# 삭제\n",
    "\n",
    "# pythons.pop('Lee') # 출력 값을 지정하지 않으면 예외\n",
    "\n",
    "# 출력 값을 지정!\n",
    "pythons.pop('Palin', 0) "
   ]
  },
  {
   "cell_type": "code",
   "execution_count": 144,
   "id": "7c67ecad-e5a9-46fe-9d66-3115575644f1",
   "metadata": {},
   "outputs": [
    {
     "data": {
      "text/plain": [
       "{}"
      ]
     },
     "execution_count": 144,
     "metadata": {},
     "output_type": "execute_result"
    }
   ],
   "source": [
    "# 삭제 : 전체 삭제\n",
    "\n",
    "# 1\n",
    "pythons.clear() \n",
    "\n",
    "# 2\n",
    "pythons = {} \n",
    "\n",
    "\n",
    "pythons"
   ]
  },
  {
   "cell_type": "code",
   "execution_count": 145,
   "id": "ea357635-4ab0-43ee-bf18-e528fc6e351c",
   "metadata": {},
   "outputs": [
    {
     "data": {
      "text/plain": [
       "dict_items([])"
      ]
     },
     "execution_count": 145,
     "metadata": {},
     "output_type": "execute_result"
    }
   ],
   "source": [
    "# 항목 얻기\n",
    "\n",
    "pythons.keys() # 키만. dict\n",
    "pythons.values() # 값만. dict\n",
    "\n",
    "# (키, 값)의 튜플 형태로 출력한다. 순회할 때 많이 사용한다.\n",
    "pythons.items() # tuple"
   ]
  },
  {
   "cell_type": "code",
   "execution_count": 146,
   "id": "a531f674-ef7c-4ce6-b059-9c774f287025",
   "metadata": {},
   "outputs": [
    {
     "name": "stdout",
     "output_type": "stream",
     "text": [
      "<class 'dict_keys'>\n",
      "[]\n"
     ]
    }
   ],
   "source": [
    "# 항목 얻기\n",
    "\n",
    "# 이런 경우 타입이 dict_keys 이기 때문에\n",
    "# 메모리를 적게 사용하기 위해서는 리스트로 형 변환해주는 것이 좋다.\n",
    "\n",
    "print(type(pythons.keys()))\n",
    "print(list(pythons.keys()))"
   ]
  },
  {
   "cell_type": "code",
   "execution_count": 147,
   "id": "3573a3c4-4cdd-460a-8e58-7f65431e25a6",
   "metadata": {},
   "outputs": [
    {
     "data": {
      "text/plain": [
       "[]"
      ]
     },
     "execution_count": 147,
     "metadata": {},
     "output_type": "execute_result"
    }
   ],
   "source": [
    "# item() 으로 순회하기\n",
    "for k, v, in pythons.items(): # 구성요소가 키:값으로 '2개'\n",
    "    print(f'{k} = {v}')\n",
    "    \n",
    "# 리스트 컴프리헨션\n",
    "[(k, v) for k, v in pythons.items()]\n",
    "# 순회하는 자료구조가 튜플일뿐, 순회를 통해 리스트의 결과물이 나온다."
   ]
  },
  {
   "cell_type": "code",
   "execution_count": 148,
   "id": "7b340a5a-f0b7-4eb8-b987-b5b6c65f2ee6",
   "metadata": {},
   "outputs": [
    {
     "data": {
      "text/plain": [
       "[]"
      ]
     },
     "execution_count": 148,
     "metadata": {},
     "output_type": "execute_result"
    }
   ],
   "source": [
    "# items()는 튜플의 형태로 들어있기 때문에 각각 인덱스로 접근할 수 있다.\n",
    "\n",
    "# 0은 key 값, 1은 value 값\n",
    "[k[1] for k in pythons.items()] "
   ]
  },
  {
   "cell_type": "markdown",
   "id": "2b02960f-0f25-4343-a0f5-2fd8652ef43c",
   "metadata": {},
   "source": [
    "    - 키 멤버십 테스트: in\n",
    "        ⁃ 딕셔너리에 키가 존재하는지 알고 싶다면 in을 사용\n",
    "        \n",
    "    ◦ 할당하기: =\n",
    "        ⁃ 리스트와 마찬가지로 딕셔너리를 할당한 후 변경할 때 딕셔너리를 참조하는 모든 이름에 변경된 딕셔너리를 반영\n",
    "        \n",
    "    ◦ 얕은 복사: copy()\n",
    "        ⁃ 딕셔너리 키/값을 또 다른 딕셔너리로 복사하기 위해서는 위와 같이 할당하지 않고 copy()를 사용\n",
    "        ⁃ 딕셔너리 값이 불변이면 동작하지만, 가변이라면 deepcopy()를 사용\n",
    "        \n",
    "    ◦ 깊은 복사: deepcopy()\n",
    "    ◦ 딕셔너리 비교\n",
    "        ⁃ 리스트, 튜플과 마찬가지로 비교 연산자 ==, !=를 사용하여 딕셔너리를 비교"
   ]
  },
  {
   "cell_type": "markdown",
   "id": "5bed0c62-40f5-40b1-b54f-8e2988242426",
   "metadata": {},
   "source": [
    "    - 순회하기: for와 in\n",
    "        - 딕셔너리(또는 해당 keys() 메서드)를 순회하면 키가 반환된다.\n",
    "\n",
    "    - 딕셔너리 컴프리헨션\n",
    "        '{키_표현식 : 값_표현식 for 표현식 in 순회 가능한 객체}'\n",
    "        \n",
    "        - 리스트 컴프리헨션과 같이 딕셔너리 컴프리헨션 또한 if 문과 다중 for 문을 사용할 수 있다.\n",
    "        '{키_표현식 : 값_표현식 for 표현식 in 순회 가능한 객체 if 테스트}'\n",
    "    \n",
    "    - 딕셔너리에 대한 많은 예제(https://oreil.ly/6udkb)"
   ]
  },
  {
   "cell_type": "markdown",
   "id": "c12a0861-925e-404b-a2af-d22b83c4ba89",
   "metadata": {
    "tags": []
   },
   "source": [
    "#### 딕셔너리 문제 2\n",
    "\n",
    "    animal: num_leg 딕셔너리 만들기\n",
    "    animal = 'cat snake monkey ant spider'.split()\n",
    "    legs = 4, 0, 2, 4, 8"
   ]
  },
  {
   "cell_type": "code",
   "execution_count": 149,
   "id": "18f5b4a1-bc7a-47a5-8bcc-2dda6da2799c",
   "metadata": {},
   "outputs": [
    {
     "name": "stdout",
     "output_type": "stream",
     "text": [
      "{'cat': 4, 'snake': 0, 'monkey': 2, 'ant': 4, 'spider': 8}\n",
      "{'cat': 4, 'snake': 0, 'monkey': 2, 'ant': 4, 'spider': 8}\n",
      "{'cat': 4, 'snake': 0, 'monkey': 2, 'ant': 4, 'spider': 8}\n"
     ]
    }
   ],
   "source": [
    "animal = 'cat snake monkey ant spider'.split()\n",
    "legs = 4, 0, 2, 4, 8\n",
    "\n",
    "# 방법1\n",
    "print(dict([(key, value) for key, value in zip(animal, legs)]))\n",
    "\n",
    "# 방법2\n",
    "num_leg = {}\n",
    "for k, v in zip(animal, legs):\n",
    "    num_leg[k] = v \n",
    "print(num_leg)\n",
    "\n",
    "# 방법3 - 딕셔너리 컴프리헨션 사용\n",
    "print({key:value for key, value in zip(animal, legs)})"
   ]
  },
  {
   "cell_type": "markdown",
   "id": "41889c65-049a-45af-a64f-99cdb6a02b6e",
   "metadata": {
    "tags": []
   },
   "source": [
    "#### 딕셔너리 문제 3\n",
    "\n",
    "    pythons에서 성: 이름\n",
    "    성은 첫 글자만, 이름은 글자 개수로 이뤄진 튜플(성, 이름) 리스트로 반환하기"
   ]
  },
  {
   "cell_type": "code",
   "execution_count": 150,
   "id": "b68a3337-a372-431a-9287-43fc83633d53",
   "metadata": {},
   "outputs": [
    {
     "data": {
      "text/plain": [
       "{'Chapman': 'Graham',\n",
       " 'Cleese': 'john',\n",
       " 'Idle': 'Eric',\n",
       " 'Jones': 'Terry',\n",
       " 'Palin': 'Michael'}"
      ]
     },
     "execution_count": 150,
     "metadata": {},
     "output_type": "execute_result"
    }
   ],
   "source": [
    "pythons = { \n",
    "    'Chapman': 'Graham',\n",
    "    'Cleese': 'john',\n",
    "    'Idle': 'Eric',\n",
    "    'Jones': 'Terry',\n",
    "    'Palin':'Michael',\n",
    "}\n",
    "\n",
    "pythons"
   ]
  },
  {
   "cell_type": "code",
   "execution_count": 151,
   "id": "f78a7dde-4658-4176-869b-ab2890fc1fbd",
   "metadata": {},
   "outputs": [
    {
     "name": "stdout",
     "output_type": "stream",
     "text": [
      "[('C', 6), ('C', 4), ('I', 4), ('J', 5), ('P', 7)]\n",
      "[('C', 6), ('C', 4), ('I', 4), ('J', 5), ('P', 7)]\n"
     ]
    }
   ],
   "source": [
    "# 방법1\n",
    "print([(key[0], len(value)) for key, value in pythons.items()])\n",
    "\n",
    "# 방법2\n",
    "print([(k[0][0], len(k[1]))for k in pythons.items()])"
   ]
  },
  {
   "cell_type": "code",
   "execution_count": 152,
   "id": "24bae076-332a-4ab1-aa21-5105edc0e734",
   "metadata": {},
   "outputs": [
    {
     "name": "stdout",
     "output_type": "stream",
     "text": [
      "{1: 45, 2: 2, 3: 3} {1: 45, 2: 2, 3: 3}\n",
      "{1: 45, 2: 22, 3: 3} {1: 45, 2: 2, 3: 3}\n"
     ]
    }
   ],
   "source": [
    "# 복사\n",
    "\n",
    "a = {1:1, 2:2, 3:3}\n",
    "b = a\n",
    "\n",
    "a[1] = 45\n",
    "\n",
    "# 할당의 문제: b도 값이 변한다. 복사한 가변객체이기 때문이다.\n",
    "print(a, b)\n",
    "\n",
    "# 따라서 다른 객체 생성 - 얕은 복사\n",
    "c = a.copy()\n",
    "a[2] = 22\n",
    "\n",
    "print(a, c)"
   ]
  },
  {
   "cell_type": "code",
   "execution_count": 153,
   "id": "63f31620-ad91-49fe-a58d-e333a44a693d",
   "metadata": {},
   "outputs": [
    {
     "data": {
      "text/plain": [
       "({1: [100, 2, 3], 2: [2, 3, 4]}, {1: [100, 2, 3], 2: [2, 3, 4]})"
      ]
     },
     "execution_count": 153,
     "metadata": {},
     "output_type": "execute_result"
    }
   ],
   "source": [
    "# 복사\n",
    "\n",
    "# 얕은 복사의 문제점 : 가변객체에 대해서 또 참조가 되는 것\n",
    "\n",
    "a = {1:[1, 2, 3], 2:[2, 3, 4]}\n",
    "d = a.copy()\n",
    "a[1][0] = 100\n",
    "\n",
    "a, d"
   ]
  },
  {
   "cell_type": "code",
   "execution_count": 154,
   "id": "d6a75752-2018-473c-8de5-7257ea13c624",
   "metadata": {},
   "outputs": [
    {
     "data": {
      "text/plain": [
       "({1: [100, 999, 3], 2: [2, 3, 4]}, {1: [100, 2, 3], 2: [2, 3, 4]})"
      ]
     },
     "execution_count": 154,
     "metadata": {},
     "output_type": "execute_result"
    }
   ],
   "source": [
    "import copy\n",
    "\n",
    "e = copy.deepcopy(a)\n",
    "a[1][1] = 999\n",
    "\n",
    "# 깊은 복사는 변하지 않는다.\n",
    "a, e"
   ]
  },
  {
   "cell_type": "markdown",
   "id": "d5564bdd-4864-4daf-ad25-565d788d9438",
   "metadata": {
    "tags": []
   },
   "source": [
    "#### 딕셔너리 문제 4\n",
    "\n",
    "    1. 두 개의 리스트로 하나의 딕셔너리 생성\n",
    "    2. 명왕성=pluto 추가하기\n",
    "    3. '성'으로 끝나지 않는 키 삭제하기\n",
    "    4. del dict1['태양'] # 이런 방법은 지양\n",
    "    5. sorted 이용해서 값 정렬하기 i)key기준, ii)value 기준"
   ]
  },
  {
   "cell_type": "code",
   "execution_count": 155,
   "id": "9f96d019-6077-4209-aba6-4cb8a2f81206",
   "metadata": {},
   "outputs": [],
   "source": [
    "solar_kor = '태양 수성 금성 지구 화성 목성 토성 천왕성 해왕성'.split()\n",
    "solar_eng = 'sun mercury venus earth mars jupiter saturn uranus neptune'.split()"
   ]
  },
  {
   "cell_type": "code",
   "execution_count": 156,
   "id": "e038633c-3fca-4ae5-8816-d79bb512af78",
   "metadata": {},
   "outputs": [
    {
     "name": "stdout",
     "output_type": "stream",
     "text": [
      "['금성', '명왕성', '목성', '수성', '천왕성', '토성', '해왕성', '화성']\n",
      "['jupiter', 'mars', 'mercury', 'neptune', 'pluto', 'saturn', 'uranus', 'venus']\n"
     ]
    }
   ],
   "source": [
    "# 1.\n",
    "solar_dict = {}\n",
    "for k, v in zip(solar_kor, solar_eng):\n",
    "     solar_dict[k] = v\n",
    "\n",
    "# 2.\n",
    "# 넣을 것이 하나일 때는 update를 가져갈 필요가 없다.\n",
    "# solar_dict.update({'명왕성':'pluto'})\n",
    "solar_dict['명왕성'] = 'pluto'\n",
    "\n",
    "# 3.\n",
    "for key in list(solar_dict):\n",
    "    if not key.endswith('성'):\n",
    "        del solar_dict[key]\n",
    "\n",
    "# 4.\n",
    "# key 기준\n",
    "print(sorted(solar_dict.keys()))\n",
    "# value 기준\n",
    "print(sorted(solar_dict.values()))"
   ]
  },
  {
   "cell_type": "code",
   "execution_count": 157,
   "id": "d85f8c8d-dab7-435a-85c8-7d17292c03ca",
   "metadata": {},
   "outputs": [
    {
     "name": "stdout",
     "output_type": "stream",
     "text": [
      "['금성', '명왕성', '목성', '수성', '천왕성', '토성', '해왕성', '화성']\n",
      "['jupiter', 'mars', 'mercury', 'neptune', 'pluto', 'saturn', 'uranus', 'venus']\n"
     ]
    }
   ],
   "source": [
    "# '성'으로 끝나지 않는 것을 삭제할 때\n",
    "# for문 X => 리스트 컴프리헨션 사용\n",
    "\n",
    "# 1.\n",
    "solar_dict = {}\n",
    "for k, v in zip(solar_kor, solar_eng):\n",
    "     solar_dict[k] = v\n",
    "\n",
    "# 2.\n",
    "solar_dict['명왕성'] = 'pluto'\n",
    "\n",
    "# 3.\n",
    "solar_dict = dict([(key, value) \n",
    "                   for key, value in solar_dict.items() \n",
    "                   if key.endswith('성')])\n",
    "\n",
    "# 4.\n",
    "# key 기준\n",
    "print(sorted(solar_dict.keys()))\n",
    "# value 기준\n",
    "print(sorted(solar_dict.values()))"
   ]
  },
  {
   "cell_type": "code",
   "execution_count": 158,
   "id": "61e4dd19-bc53-4ac3-b053-892d4fe6b1e1",
   "metadata": {},
   "outputs": [
    {
     "data": {
      "text/plain": [
       "{'a': 1, 'p': 2, 'l': 1, 'e': 1}"
      ]
     },
     "execution_count": 158,
     "metadata": {},
     "output_type": "execute_result"
    }
   ],
   "source": [
    "# 딕셔너리 컴프리헨션\n",
    "\n",
    "# 리스트 컴프리헨션한 다음에 딕셔너리 감싸는 것이 비효율적임.\n",
    "# 그래서 딕셔너리 컴프리헨션이 있다.\n",
    "\n",
    "letter = 'apple'\n",
    "\n",
    "# a: 1, p: 2, l: 1, e: 1 의 형태로\n",
    "{ch: letter.count(ch) for ch in letter}"
   ]
  },
  {
   "cell_type": "code",
   "execution_count": 159,
   "id": "3b60e0ce-0bcf-4d38-aaa5-d4b1e0706bcf",
   "metadata": {},
   "outputs": [
    {
     "name": "stdout",
     "output_type": "stream",
     "text": [
      "{'e': 1, 'i': 1, 'o': 4, 'a': 2}\n",
      "{'a': 2, 'i': 1, 'o': 4, 'e': 1}\n"
     ]
    }
   ],
   "source": [
    "# 단어의 모음세기\n",
    "vowels = 'aeiou'\n",
    "word = 'onomatopoeia'\n",
    "\n",
    "# word 순회\n",
    "print({w: word.count(w) for w in set(word) if w in vowels})\n",
    "\n",
    "# vowels 순회\n",
    "print({v: word.count(v) for v in set(vowels) if v in word})"
   ]
  },
  {
   "cell_type": "code",
   "execution_count": 160,
   "id": "7dcc154f-2cbf-485e-b834-71e6bbc4522e",
   "metadata": {},
   "outputs": [
    {
     "data": {
      "text/plain": [
       "{'수성': 'mercury',\n",
       " '금성': 'venus',\n",
       " '화성': 'mars',\n",
       " '목성': 'jupiter',\n",
       " '토성': 'saturn',\n",
       " '천왕성': 'uranus',\n",
       " '해왕성': 'neptune',\n",
       " '명왕성': 'pluto'}"
      ]
     },
     "execution_count": 160,
     "metadata": {},
     "output_type": "execute_result"
    }
   ],
   "source": [
    "# 문제 4 - 3. 을 딕셔너리 컴프리헨션으로 한다면?\n",
    "# {key:value}\n",
    "\n",
    "# solar_dict = dict([(key, value) \n",
    "#                    for key, value in solar_dict.items() \n",
    "#                    if key.endswith('성')])\n",
    "\n",
    "solar_dict = {key:value \n",
    "              for key, value in solar_dict.items() \n",
    "              if key.endswith('성')}\n",
    "\n",
    "solar_dict"
   ]
  },
  {
   "cell_type": "markdown",
   "id": "15a45d13-26c2-450a-b983-b9a988c772c4",
   "metadata": {},
   "source": [
    "### 셋"
   ]
  },
  {
   "cell_type": "markdown",
   "id": "cc3d68bf-2f9f-49fc-8fd4-f88495e4a613",
   "metadata": {},
   "source": [
    "    - 셋(set)은 값은 버리고 키만 남은 딕셔너리와 같음\n",
    "    \n",
    "        - 딕셔너리와 마찬가지로 각 키는 유일해야 하며, 어떤 것이 존재하는지만 판단할 때 셋을 사용\n",
    "        - 키에 어떤 정보를 첨부해서 그 결과를 얻고 싶을 때는 딕셔너리를 사용\n",
    "        - 셋은 각 항목이 유일해야 해서 두 셋의 합집합은 하나의 키만 포함"
   ]
  },
  {
   "cell_type": "markdown",
   "id": "1859d98d-2bee-4618-8888-6240b8795062",
   "metadata": {},
   "source": [
    "    - 생성하기: set()\n",
    "        - 셋을 생성할 때는 set() 함수나 중괄호({ }) 안에 콤마로 구분된 값을 넣으면 됨\n",
    "        - 셋은 순서와 상관없이 저장\n",
    "        \n",
    "    - 변환하기: set()\n",
    "        - 리스트, 문자열, 튜플, 딕셔너리에서 중복된 값을 삭제하여 셋을 생성할 수 있음\n",
    "        \n",
    "    - 길이 얻기: len()\n",
    "    - 항목 추가하기: add()\n",
    "    - 항목 삭제하기: remove()\n",
    "    - 순회하기: for와 in\n",
    "    \n",
    "    - 멤버십 테스트: in\n",
    "        - 일반적으로 사용하는 셋의 용도\n"
   ]
  },
  {
   "cell_type": "code",
   "execution_count": 161,
   "id": "902cca29-050b-4719-900d-bd8017f512c2",
   "metadata": {},
   "outputs": [
    {
     "data": {
      "text/plain": [
       "set()"
      ]
     },
     "execution_count": 161,
     "metadata": {},
     "output_type": "execute_result"
    }
   ],
   "source": [
    "# 생성하기\n",
    "\n",
    "empty = set()\n",
    "empty"
   ]
  },
  {
   "cell_type": "code",
   "execution_count": 162,
   "id": "57650660-8cf9-456b-8eeb-abdbbf4db2ac",
   "metadata": {},
   "outputs": [
    {
     "data": {
      "text/plain": [
       "({1, 2, 3}, {1, 2, 3})"
      ]
     },
     "execution_count": 162,
     "metadata": {},
     "output_type": "execute_result"
    }
   ],
   "source": [
    "# 생성하기\n",
    "\n",
    "# 값이 있을 때는 그냥 넣으면 된다.\n",
    "a = {1, 2, 3}\n",
    "\n",
    "# 시퀀스이기 때문에 튜플이나 리스트로 묶어주고 넣어야 한다.\n",
    "# b = set(1, 2, 3) => 오류\n",
    "b = set((1, 2, 3))\n",
    "\n",
    "a, b"
   ]
  },
  {
   "cell_type": "code",
   "execution_count": 163,
   "id": "01d29191-e9bc-489f-bb13-a315468d7b22",
   "metadata": {},
   "outputs": [
    {
     "name": "stdout",
     "output_type": "stream",
     "text": [
      "{1, 2, 3, 4}\n",
      "{1, 2, 3}\n"
     ]
    }
   ],
   "source": [
    "# 추가\n",
    "a.add(4)\n",
    "print(a)\n",
    "\n",
    "# 삭제\n",
    "a.remove(4)\n",
    "print(a)"
   ]
  },
  {
   "cell_type": "code",
   "execution_count": 164,
   "id": "79092de1-37e1-47b3-a5cd-5a59ace617e5",
   "metadata": {},
   "outputs": [
    {
     "name": "stdout",
     "output_type": "stream",
     "text": [
      "martini\n",
      "black russian\n",
      "white russian\n",
      "screwdriver\n",
      "\n",
      "black russian\n",
      "screwdriver\n"
     ]
    }
   ],
   "source": [
    "drinks = {\n",
    "    'martini':{'vodka', 'vermouth'},\n",
    "    'black russian':{'vodka', 'kahlua'},\n",
    "    'white russian':{'vodka', 'kahlua', 'cream'},\n",
    "    'screwdriver':{'orange juice', 'vodka'}\n",
    "}\n",
    "\n",
    "# 1. vodka가 포함된 술 출력하기\n",
    "for k, v in drinks.items():\n",
    "    if 'vodka' in v:\n",
    "        print(k)\n",
    "\n",
    "print()\n",
    "\n",
    "# 2. vodka는 있지만 cream, vermouth 없는 술 출력\n",
    "for k, v in drinks.items():\n",
    "    if ('vodka' in v) and not('cream' in v or 'vermouth' in v):\n",
    "        print(k)"
   ]
  },
  {
   "cell_type": "markdown",
   "id": "94dd96c4-c5c5-4ec3-8e50-9b141b649b08",
   "metadata": {},
   "source": [
    "    - 콤비네이션과 연산자\n",
    "        ⁃ 예제: 셋 교집합 set intersection 연산자인 앤드(&)를 사 용해서 원하는 음료를 찾기\n",
    "        ⁃ & 연산자와 intersection() 메서드를 사용해서 교집합(양쪽 셋에 공통으로 들어 있는 항목)을 구하기\n",
    "        ⁃ |연산자와 union() 메서드를 사용해서 합집합 union(각 셋의 모든 항목)을 구하기\n",
    "        ⁃ - 연산자와 difference() 메서드를 사용해서 차집합 difference(첫 번째 셋에는 있지만 두 번째 셋에는 없는 항목)을 구하기\n",
    "        ⁃ ^ 연산자나 symmetric_difference() 메서드를 사용해서 대칭 차집합 exclusive (한 셋에는 포함 할 수 있지만 두 셋 모두에는 포함되지 않는 항목)을 구하기\n",
    "        ⁃ <= 연산자나 issubset() 메서드를 사용해서 첫 번째 셋이 두 번째 셋의 부분집합 subset인지 살펴보기\n",
    "        ⁃ 첫 번째 셋이 두 번째 셋의 진부분집합(proper subset)이 되려면, 두 번째 셋에는 첫 번째 셋의 모든 멤버를 포함한 그 이상의 멤버가 있어야 함\n",
    "        \n",
    "        ⁃ 상위집합은 부분집합의 반대\n",
    "    • >=나 issuperset() 메서드를 사용해서 첫 번째 셋이 두 번째 셋의 상위집합인지 살펴보기\n",
    "    ⁃ > 연산자를 사용해서 첫 번째 셋이 두 번째 셋의 진상위집합 proper superset인지 확인해보기\n"
   ]
  },
  {
   "cell_type": "code",
   "execution_count": 165,
   "id": "97ee1e4e-cca9-49d1-a322-76e6e3e48e1c",
   "metadata": {},
   "outputs": [
    {
     "name": "stdout",
     "output_type": "stream",
     "text": [
      "{2, 3}\n",
      "{2, 3}\n",
      "\n",
      "{1, 2, 3, 4}\n",
      "{1, 2, 3, 4}\n",
      "\n",
      "{1}\n",
      "{4}\n",
      "{1} {4}\n"
     ]
    }
   ],
   "source": [
    "a = {1, 2, 3}\n",
    "b = {2, 3, 4}\n",
    "\n",
    "# 교집합\n",
    "print(a.intersection(b))\n",
    "print(a & b)\n",
    "print()\n",
    "\n",
    "# 합집합\n",
    "print(a.union(b))\n",
    "print(a | b)\n",
    "print()\n",
    "\n",
    "# 차집합\n",
    "print(a.difference(b))\n",
    "print(b.difference(a))\n",
    "print(a - b, b - a)"
   ]
  },
  {
   "cell_type": "code",
   "execution_count": 166,
   "id": "9e84cf03-f1cd-4f5a-9e68-8f1aa135131c",
   "metadata": {},
   "outputs": [
    {
     "name": "stdout",
     "output_type": "stream",
     "text": [
      "black russian\n",
      "screwdriver\n",
      "\n",
      "black russian\n",
      "screwdriver\n"
     ]
    }
   ],
   "source": [
    "# vodka는 있지만 cream, vermouth 없는 술 출력 => set을 활용하여 바꾸기\n",
    "for k, v in drinks.items():\n",
    "    if ('vodka' in v) and not('cream' in v or 'vermouth' in v):\n",
    "        print(k)\n",
    "\n",
    "print()\n",
    "\n",
    "for k, v in drinks.items():\n",
    "    if 'vodka' in v and not (v & {'cream', 'vermouth'}):\n",
    "        print(k)"
   ]
  },
  {
   "cell_type": "markdown",
   "id": "c4775b6a-47d4-4302-8cb8-840baefb7bd2",
   "metadata": {},
   "source": [
    "    - 셋 컴프리헨션\n",
    "        ⁃ 셋 컴프리헨션은 리스트, 딕셔너리 컴프리헨션과 같은 모양\n",
    "            '{표현식 for 표현식 in 순회 가능한 객체}'\n",
    "        ⁃ 또한 셋 컴프리헨션에 for 문과 if 문을 사용할 수 있음\n",
    "            '{표현식 for 표현식 in 순회 가능한 객체 if 테스트}'\n",
    "        \n",
    "    ◦ 불변 셋 생성하기: frozenset()\n",
    "        ⁃ 불변 셋을 생성하기 위해서는 frozenset() 함수와 인수로 순회 가능한 객체를 사용"
   ]
  },
  {
   "cell_type": "code",
   "execution_count": 167,
   "id": "315f2b1a-e8b9-4ece-9611-c496cda2b5f5",
   "metadata": {},
   "outputs": [
    {
     "data": {
      "text/plain": [
       "{0, 1, 2, 3, 4}"
      ]
     },
     "execution_count": 167,
     "metadata": {},
     "output_type": "execute_result"
    }
   ],
   "source": [
    "# 셋 컴프리헨션\n",
    "{s for s in range(5)}"
   ]
  },
  {
   "cell_type": "code",
   "execution_count": 168,
   "id": "8058bb87-96c8-4092-a8b6-a8f257b1e00b",
   "metadata": {},
   "outputs": [
    {
     "data": {
      "text/plain": [
       "frozenset({1, 2})"
      ]
     },
     "execution_count": 168,
     "metadata": {},
     "output_type": "execute_result"
    }
   ],
   "source": [
    "# 불변 셋 생성하기: frozenset()\n",
    "\n",
    "set([1, 2])\n",
    "frozenset([1, 2])"
   ]
  },
  {
   "cell_type": "markdown",
   "id": "ba05bb98-0e25-4995-ac0f-7d634f543c03",
   "metadata": {},
   "source": [
    "    - 리스트와 튜플, 그리고 딕셔너리\n",
    "        - 대괄호 []를 사용한 리스트\n",
    "        - 콤마와 괄호 ()를 사용한 튜플(괄호는 옵션이다.)\n",
    "        - 중괄호 {}를 사용한 딕셔너리 또는 셋\n",
    "        \n",
    "    - 셋을 제외하고 모두 대괄호로 항목에 접근한다.\n",
    "    - 리스트와 튜플의 경우 대괄호에 들어가는 값이 정수 오프셋이고, 딕셔너리는 키이다.\n",
    "    - 셋은 인덱스와 키를 갖지 않는다."
   ]
  },
  {
   "cell_type": "code",
   "execution_count": null,
   "id": "ff1d6c6e-e59b-40cb-8738-d458cc43f764",
   "metadata": {},
   "outputs": [],
   "source": []
  }
 ],
 "metadata": {
  "kernelspec": {
   "display_name": "Python 3 (ipykernel)",
   "language": "python",
   "name": "python3"
  },
  "language_info": {
   "codemirror_mode": {
    "name": "ipython",
    "version": 3
   },
   "file_extension": ".py",
   "mimetype": "text/x-python",
   "name": "python",
   "nbconvert_exporter": "python",
   "pygments_lexer": "ipython3",
   "version": "3.9.7"
  }
 },
 "nbformat": 4,
 "nbformat_minor": 5
}
