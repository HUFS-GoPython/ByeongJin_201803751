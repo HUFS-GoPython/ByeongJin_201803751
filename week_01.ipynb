{
 "cells": [
  {
   "cell_type": "markdown",
   "id": "1b6c4fa4-6370-4597-9acc-544b287fa6d8",
   "metadata": {
    "tags": []
   },
   "source": [
    "# Week 1 (22.03.04)"
   ]
  },
  {
   "cell_type": "markdown",
   "id": "e448b5e2-ab4f-46a5-bf13-85cc2ce82110",
   "metadata": {
    "tags": []
   },
   "source": [
    "## 프로그래밍이란?"
   ]
  },
  {
   "cell_type": "markdown",
   "id": "4218316c-26fa-4bce-86ed-050d23a485a4",
   "metadata": {},
   "source": [
    "  - 프로그래밍 언어를 사용하여 프로그램을 개발하는 것.\n",
    "  - 논리적인 사고를 가질 수 있다."
   ]
  },
  {
   "cell_type": "markdown",
   "id": "ea0d49d6-5601-419f-a170-35df2ef2236a",
   "metadata": {
    "tags": []
   },
   "source": [
    "## Programming Language?"
   ]
  },
  {
   "cell_type": "markdown",
   "id": "97be9ce7-1757-4624-9c62-f7ee18c3fbaf",
   "metadata": {},
   "source": [
    "  - 프로그램을 개발할 때 사용하는 도구\n",
    "  - 인간이 원하는 걸을 컴퓨터에게 명령할 때, 사용하는 컴퓨터가 이해할 수 있는 언어.\n",
    "  - 인간이 이해하기 쉬울 수록 학습에 용이하고, 컴퓨터가 이해하기 쉬울수록 인간에게는 난해하다. "
   ]
  },
  {
   "cell_type": "markdown",
   "id": "2555f4f5-3ead-4441-9af1-97e21b6153aa",
   "metadata": {
    "tags": []
   },
   "source": [
    "## 파이썬(Python)?"
   ]
  },
  {
   "cell_type": "markdown",
   "id": "659b1c3f-2d58-4358-af6d-9bb079c34790",
   "metadata": {},
   "source": [
    "  - 쉽다. 간결하다.\n",
    "  - 라이브러리가 많다. (라이브러리 : 추가적인 기능을 쉽게 수행할 수 있게 도와주는 것?)"
   ]
  },
  {
   "cell_type": "markdown",
   "id": "c0051ef1-df0b-466c-8007-2556b29fd925",
   "metadata": {
    "tags": []
   },
   "source": [
    "## Data : Types, Values, Variables, and Names"
   ]
  },
  {
   "cell_type": "code",
   "execution_count": 1,
   "id": "6d003933-9591-4e08-959b-3d15cbcf21c2",
   "metadata": {},
   "outputs": [
    {
     "data": {
      "text/plain": [
       "2"
      ]
     },
     "execution_count": 1,
     "metadata": {},
     "output_type": "execute_result"
    }
   ],
   "source": [
    "a = 2\n",
    "a"
   ]
  },
  {
   "cell_type": "code",
   "execution_count": 2,
   "id": "d81c17af-7b32-4041-97bc-cc225a475e0e",
   "metadata": {},
   "outputs": [
    {
     "data": {
      "text/plain": [
       "True"
      ]
     },
     "execution_count": 2,
     "metadata": {},
     "output_type": "execute_result"
    }
   ],
   "source": [
    "a == 2"
   ]
  },
  {
   "cell_type": "code",
   "execution_count": 11,
   "id": "321235a1-924f-42b4-beb9-c292d2bef975",
   "metadata": {},
   "outputs": [
    {
     "data": {
      "text/plain": [
       "False"
      ]
     },
     "execution_count": 11,
     "metadata": {},
     "output_type": "execute_result"
    }
   ],
   "source": [
    "a == 3"
   ]
  },
  {
   "cell_type": "markdown",
   "id": "f49773f6-fb11-4b3d-93f2-a61c8403caeb",
   "metadata": {},
   "source": [
    "  - 변수(Variable) : 특정 값을 저장하는 공간. // a가 해당\n",
    "  - 값(Value) : 공간에 저장된 특정 값. // a라는 공간에 저장된 값 2\n",
    "  - '할당하다'(Assign) : 변수에 값을 넣는 것. // a라는 공간에 2라는 값을 할당했다.\n",
    "  - 자료형(Type) : 데이터의 형태. // 데이터 a의 형태는 integer(int)"
   ]
  },
  {
   "cell_type": "code",
   "execution_count": 10,
   "id": "16c90b09-4d46-4799-a592-3f4fec26486d",
   "metadata": {},
   "outputs": [
    {
     "name": "stdout",
     "output_type": "stream",
     "text": [
      "2\n"
     ]
    }
   ],
   "source": [
    "print(a)"
   ]
  },
  {
   "cell_type": "code",
   "execution_count": 7,
   "id": "de089fe2-7d22-4669-9d13-90464d80a0d7",
   "metadata": {},
   "outputs": [
    {
     "data": {
      "text/plain": [
       "2"
      ]
     },
     "execution_count": 7,
     "metadata": {},
     "output_type": "execute_result"
    }
   ],
   "source": [
    "a"
   ]
  },
  {
   "cell_type": "code",
   "execution_count": 8,
   "id": "b6a33197-b52a-4b0e-9eec-3a786af510d1",
   "metadata": {},
   "outputs": [
    {
     "data": {
      "text/plain": [
       "int"
      ]
     },
     "execution_count": 8,
     "metadata": {},
     "output_type": "execute_result"
    }
   ],
   "source": [
    "type(a)"
   ]
  },
  {
   "cell_type": "code",
   "execution_count": 12,
   "id": "0ff09c96-a626-44db-88d8-e5a664bed47b",
   "metadata": {},
   "outputs": [
    {
     "data": {
      "text/plain": [
       "bool"
      ]
     },
     "execution_count": 12,
     "metadata": {},
     "output_type": "execute_result"
    }
   ],
   "source": [
    "type(a == 2)"
   ]
  },
  {
   "cell_type": "code",
   "execution_count": 13,
   "id": "fd1c005e-c7b4-4c6c-adbe-8add8c15565d",
   "metadata": {},
   "outputs": [
    {
     "data": {
      "text/plain": [
       "bool"
      ]
     },
     "execution_count": 13,
     "metadata": {},
     "output_type": "execute_result"
    }
   ],
   "source": [
    "type(a == 3)"
   ]
  },
  {
   "cell_type": "markdown",
   "id": "fbaabfb6-bac7-4810-8255-d3e47c4e3b49",
   "metadata": {},
   "source": [
    "### Type"
   ]
  },
  {
   "cell_type": "markdown",
   "id": "692f14e8-8628-4c13-a2d4-15960feb5059",
   "metadata": {},
   "source": [
    "  - integer(정수) : 1, 2, 3, ... // int 로 표현.\n",
    "  - floating point number(부동소수점) : 0.1, 0.2, ... , 1.0, 2.0, ... // float 로 표현.\n",
    "  - string(문자열) : 'alpha', \"beta\", ... // str 로 표현.\n",
    "  - boolean(불리언) : True / False // bool 로 표현."
   ]
  },
  {
   "cell_type": "code",
   "execution_count": 14,
   "id": "9bfd3367-e85f-4262-96e3-590346de3fe0",
   "metadata": {},
   "outputs": [
    {
     "data": {
      "text/plain": [
       "str"
      ]
     },
     "execution_count": 14,
     "metadata": {},
     "output_type": "execute_result"
    }
   ],
   "source": [
    "type(\"120\")"
   ]
  },
  {
   "cell_type": "code",
   "execution_count": 15,
   "id": "d20802be-4bc4-435c-adb5-0425f598b8c1",
   "metadata": {},
   "outputs": [
    {
     "data": {
      "text/plain": [
       "str"
      ]
     },
     "execution_count": 15,
     "metadata": {},
     "output_type": "execute_result"
    }
   ],
   "source": [
    "type(\"alpha\")"
   ]
  },
  {
   "cell_type": "code",
   "execution_count": 16,
   "id": "e0006598-31b0-4b59-a779-d0423a5f0595",
   "metadata": {},
   "outputs": [
    {
     "ename": "NameError",
     "evalue": "name 'alpha' is not defined",
     "output_type": "error",
     "traceback": [
      "\u001b[1;31m---------------------------------------------------------------------------\u001b[0m",
      "\u001b[1;31mNameError\u001b[0m                                 Traceback (most recent call last)",
      "\u001b[1;32m~\\AppData\\Local\\Temp/ipykernel_24428/1674956578.py\u001b[0m in \u001b[0;36m<module>\u001b[1;34m\u001b[0m\n\u001b[1;32m----> 1\u001b[1;33m \u001b[0mtype\u001b[0m\u001b[1;33m(\u001b[0m\u001b[0malpha\u001b[0m\u001b[1;33m)\u001b[0m\u001b[1;33m\u001b[0m\u001b[1;33m\u001b[0m\u001b[0m\n\u001b[0m",
      "\u001b[1;31mNameError\u001b[0m: name 'alpha' is not defined"
     ]
    }
   ],
   "source": [
    "type(alpha)"
   ]
  },
  {
   "cell_type": "code",
   "execution_count": 17,
   "id": "eda0e481-c5e4-4404-9f16-6930835f9b2c",
   "metadata": {},
   "outputs": [],
   "source": [
    "name = \"kim\""
   ]
  },
  {
   "cell_type": "code",
   "execution_count": 18,
   "id": "5f3f7717-24d0-4b6b-a6d7-96447f9d9c70",
   "metadata": {},
   "outputs": [
    {
     "name": "stdout",
     "output_type": "stream",
     "text": [
      "kim\n"
     ]
    }
   ],
   "source": [
    "print(name)"
   ]
  },
  {
   "cell_type": "code",
   "execution_count": 19,
   "id": "27f9cc4b-d6eb-4434-aa3b-9bef21557977",
   "metadata": {},
   "outputs": [
    {
     "data": {
      "text/plain": [
       "str"
      ]
     },
     "execution_count": 19,
     "metadata": {},
     "output_type": "execute_result"
    }
   ],
   "source": [
    "type(name)"
   ]
  },
  {
   "cell_type": "markdown",
   "id": "b7f77e40-6cde-4191-b7b5-d2158af985ae",
   "metadata": {
    "tags": []
   },
   "source": [
    "### '할당' 에 관해."
   ]
  },
  {
   "cell_type": "markdown",
   "id": "5cad06d1-54ee-46f7-acc9-8d12dae8b1eb",
   "metadata": {},
   "source": [
    "  - '=' 기호를 통해 변수에 값을 할당한다.\n",
    "  - 수학에서는 '양변이 같다.'는 의미로 사용되지만 프로그래밍에서는 '할당하다.' 라는 의미로 사용된다.\n",
    "  - '='오른쪽의 값(int, float, str등의 값.)을 '='왼쪽(저장공간, 즉 변수.) 에 할당한다.\n",
    "  - 변수는 값을 가져야 한다. (= 변수는 초기화를 해야한다.)\n",
    "  - 같은 변수에 다른 값을 넣을 수 있다."
   ]
  },
  {
   "cell_type": "code",
   "execution_count": 24,
   "id": "1e2510c1-04a6-4010-8c58-a3d7cd041bfd",
   "metadata": {},
   "outputs": [],
   "source": [
    "x = 4 # x라는 변수에 값을 할당함.(= x라는 변수를 초기화함.)\n",
    "y = x + 3"
   ]
  },
  {
   "cell_type": "code",
   "execution_count": 21,
   "id": "a7fab748-f443-412e-9e84-030a5efb00c2",
   "metadata": {},
   "outputs": [
    {
     "data": {
      "text/plain": [
       "(4, 7)"
      ]
     },
     "execution_count": 21,
     "metadata": {},
     "output_type": "execute_result"
    }
   ],
   "source": [
    "x, y"
   ]
  },
  {
   "cell_type": "code",
   "execution_count": 26,
   "id": "88b6aad1-acbe-459c-9b11-6d084c936b4e",
   "metadata": {},
   "outputs": [],
   "source": [
    "name01 = 'kim'\n",
    "name01 = 'lee'\n",
    "name01 = 'park'\n",
    "name01 = 4"
   ]
  },
  {
   "cell_type": "code",
   "execution_count": 28,
   "id": "76edc3e8-e04d-4b42-9309-154173d1ec3e",
   "metadata": {},
   "outputs": [
    {
     "name": "stdout",
     "output_type": "stream",
     "text": [
      "4\n"
     ]
    }
   ],
   "source": [
    "print(name01)"
   ]
  },
  {
   "cell_type": "code",
   "execution_count": 29,
   "id": "f1585cf5-1b0a-4757-b2e0-d5b06e3afeee",
   "metadata": {},
   "outputs": [],
   "source": [
    "name02 = 4\n",
    "name02 = 'park'\n",
    "name02 = 'lee'\n",
    "name02 = 'kim'"
   ]
  },
  {
   "cell_type": "code",
   "execution_count": 32,
   "id": "7b42ce13-ad27-4ec4-86e0-6b6ef425f3d8",
   "metadata": {},
   "outputs": [
    {
     "name": "stdout",
     "output_type": "stream",
     "text": [
      "kim\n"
     ]
    }
   ],
   "source": [
    "print(name02) # 마지막에 할당한 값이 도출된다. 변수명은 동일하게 사용하지 않는 것이 좋다."
   ]
  },
  {
   "cell_type": "markdown",
   "id": "5355fd53-c642-49e4-957a-2766c6ae2958",
   "metadata": {},
   "source": [
    "### 변수명 정하기"
   ]
  },
  {
   "cell_type": "markdown",
   "id": "16d5b19c-2550-4954-8825-735e20a78ff9",
   "metadata": {},
   "source": [
    "  - 나쁜 변수명은 지양하자. (ex : a, b, c, a1, b1, ...)\n",
    "  - 의미 이해가 쉬운 변수명을 지향하자.\n",
    "  - 소문자, 대문자, 숫자, 언더바(_)를 사용하자. (ex : name, name2, my_name, Name, NAME)"
   ]
  },
  {
   "cell_type": "code",
   "execution_count": 35,
   "id": "8cbe536d-6717-4584-9d3f-ad6da72f3607",
   "metadata": {},
   "outputs": [
    {
     "name": "stdout",
     "output_type": "stream",
     "text": [
      "juliette, jessica, laura\n"
     ]
    }
   ],
   "source": [
    "name = 'juliette'\n",
    "name1 = \"jessica\"\n",
    "my_name = 'laura'\n",
    "myName = 'ChooBJ' # myName : 카멜표기법\\\n",
    "\n",
    "print(name, name1, my_name, sep=', ') # sep : 도출값 간의 간격 설정?"
   ]
  },
  {
   "cell_type": "markdown",
   "id": "564cef95-c721-4216-add2-a50a84c2be11",
   "metadata": {},
   "source": [
    "  - 변수명으로 지정해서는 안되는 것\n",
    "    - 숫자로 시작할 수 없다. (ex : 100name, 102_name)\n",
    "    - 예약어로 선언할 수 없다. (ex : def, False ...) // 시스템 상에서 이미 명령어 등으로 지정된 단어?"
   ]
  },
  {
   "cell_type": "code",
   "execution_count": 44,
   "id": "def61df9-551d-41e2-8b1f-c565bb69c793",
   "metadata": {},
   "outputs": [
    {
     "name": "stdout",
     "output_type": "stream",
     "text": [
      "\n",
      "Here is a list of the Python keywords.  Enter any keyword to get more help.\n",
      "\n",
      "False               break               for                 not\n",
      "None                class               from                or\n",
      "True                continue            global              pass\n",
      "__peg_parser__      def                 if                  raise\n",
      "and                 del                 import              return\n",
      "as                  elif                in                  try\n",
      "assert              else                is                  while\n",
      "async               except              lambda              with\n",
      "await               finally             nonlocal            yield\n",
      "\n"
     ]
    }
   ],
   "source": [
    "# if - 'kim'\n",
    "help(\"keywords\") # 예약어 열람"
   ]
  },
  {
   "cell_type": "markdown",
   "id": "93187e54-7b10-45c3-b74f-29dc896592d5",
   "metadata": {},
   "source": [
    "  - 변수명으로 지정할 때 조심해야 할 이름(특별한 용도가 있기 때문에)\n",
    "    - 언더바로 시작하는 변수명 (ex : _name)\n",
    "    - 더블 언더바로 시작하고 끝나는 변수명 (ex : __name__  *볼드체 표시됨?)\n",
    "    - 대문자로 시작하는 변수명 (ex : Name)\n",
    "    - 전체 대문자 (ex : NAME)"
   ]
  },
  {
   "cell_type": "code",
   "execution_count": 39,
   "id": "35e11150-b15c-45df-8dfb-f3c863d17ded",
   "metadata": {},
   "outputs": [
    {
     "data": {
      "text/plain": [
       "False"
      ]
     },
     "execution_count": 39,
     "metadata": {},
     "output_type": "execute_result"
    }
   ],
   "source": [
    "# 대소문자의 차이가 있다면 다른 변수가 된다.\n",
    "num = 10\n",
    "Num = 100\n",
    "\n",
    "num == Num"
   ]
  },
  {
   "cell_type": "code",
   "execution_count": 43,
   "id": "f68ddb8f-29f3-465d-b7e7-504490f3a572",
   "metadata": {},
   "outputs": [
    {
     "data": {
      "text/plain": [
       "True"
      ]
     },
     "execution_count": 43,
     "metadata": {},
     "output_type": "execute_result"
    }
   ],
   "source": [
    "num = \"Number\"\n",
    "Num = \"number\"\n",
    "\n",
    "num != Num"
   ]
  },
  {
   "cell_type": "code",
   "execution_count": null,
   "id": "7560f6c5-a38c-4742-bf22-c8a915f9e5d1",
   "metadata": {},
   "outputs": [],
   "source": []
  }
 ],
 "metadata": {
  "kernelspec": {
   "display_name": "Python 3 (ipykernel)",
   "language": "python",
   "name": "python3"
  },
  "language_info": {
   "codemirror_mode": {
    "name": "ipython",
    "version": 3
   },
   "file_extension": ".py",
   "mimetype": "text/x-python",
   "name": "python",
   "nbconvert_exporter": "python",
   "pygments_lexer": "ipython3",
   "version": "3.9.7"
  }
 },
 "nbformat": 4,
 "nbformat_minor": 5
}
