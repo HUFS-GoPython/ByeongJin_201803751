{
 "cells": [
  {
   "cell_type": "markdown",
   "id": "683d5936-d544-4523-9d8f-96d2238f1e1a",
   "metadata": {},
   "source": [
    "# Week 2 (22.03.11) 정리"
   ]
  },
  {
   "cell_type": "markdown",
   "id": "7d5a88a6-2f95-4ce6-93d7-469eeb79ed37",
   "metadata": {
    "tags": []
   },
   "source": [
    "## Chapter 03 Numbers"
   ]
  },
  {
   "cell_type": "markdown",
   "id": "308e5bf8-21d6-46dc-9008-4b4fcf9b077c",
   "metadata": {},
   "source": [
    "### boolean(불리언)\n",
    "  - 형 변환할 때, True인지 False인지 기억하라.\n",
    "        '', None, 0, ...\n",
    "  - 조건식에서 많이 사용된다. ex)'만일 (조건)이 True라면 ... ...'"
   ]
  },
  {
   "cell_type": "code",
   "execution_count": 1,
   "id": "393a7446-c12f-4f57-9fda-1ecb99ef07e1",
   "metadata": {},
   "outputs": [
    {
     "data": {
      "text/plain": [
       "True"
      ]
     },
     "execution_count": 1,
     "metadata": {},
     "output_type": "execute_result"
    }
   ],
   "source": [
    "bool(1)"
   ]
  },
  {
   "cell_type": "code",
   "execution_count": 2,
   "id": "fde4c94d-ba3d-4d1a-8d88-32eeed43694f",
   "metadata": {},
   "outputs": [
    {
     "data": {
      "text/plain": [
       "False"
      ]
     },
     "execution_count": 2,
     "metadata": {},
     "output_type": "execute_result"
    }
   ],
   "source": [
    "bool('')"
   ]
  },
  {
   "cell_type": "markdown",
   "id": "0665e345-2b69-432c-bd6f-ab8728aa261a",
   "metadata": {},
   "source": [
    "### integer(정수)\n",
    "  - 정수는 모두 숫자로 이루어진다. 분수나 소수점은 없다.\n",
    "  - 정수 앞에 부호가 올 수 있고 (default값은 양수), 일반적인 10진수 외 다른 진수로 표현할 수 있다.\n",
    "    - 표현하고자 하는 진수에 따라 접두어를 붙인다. (2진수 :0b, 8진수 :0o, 16진수 : 0x)\n",
    "  - 정수에 쉼표를 사용할 수 없다. 하지만 언더바를 사용하면 숫자를 구분할 수 있다.(1_000_000, 출력시에 언더바 생략됨)\n",
    "  - 다른 숫자 앞에는 0을 붙일 수 없다.(ex : 01295)(다른 진수 표현은 예외)\n",
    "  \n",
    "  - 대화식 인터브리터에서 연속된 숫자는 리터럴 정수(literal integer)로 간주한다."
   ]
  },
  {
   "cell_type": "code",
   "execution_count": 8,
   "id": "9aed674d-fb3f-4db7-a7cf-e868f9e65580",
   "metadata": {},
   "outputs": [
    {
     "name": "stdout",
     "output_type": "stream",
     "text": [
      "-5\n"
     ]
    }
   ],
   "source": [
    "# 양수와 음수\n",
    "a = +10 # +생략시 양수이나 +를 붙여도 문제는 없다.\n",
    "b = a - 15\n",
    "\n",
    "print(b)"
   ]
  },
  {
   "cell_type": "code",
   "execution_count": 20,
   "id": "de6b95c7-5b67-4843-85e9-2866b64d8a67",
   "metadata": {},
   "outputs": [
    {
     "name": "stdout",
     "output_type": "stream",
     "text": [
      "220\n",
      "210\n",
      "-70\n"
     ]
    }
   ],
   "source": [
    "# 진수 계산\n",
    "c = 0x0dc # 0dc = 220\n",
    "d = c - 10\n",
    "\n",
    "print(c)\n",
    "print(d)\n",
    "\n",
    "e = 0b1010000 # 2진수 80\n",
    "f = 0o226 # 8진수 150\n",
    "\n",
    "print(e-f) # 알아서 잘 계산한다."
   ]
  },
  {
   "cell_type": "code",
   "execution_count": 26,
   "id": "05e7637d-ce6c-4cdb-8657-2ead7a48251f",
   "metadata": {},
   "outputs": [
    {
     "name": "stdout",
     "output_type": "stream",
     "text": [
      "(5, 0)\n"
     ]
    }
   ],
   "source": [
    "# 정수와 언더바('_')\n",
    "g = 10000\n",
    "h = 5,000\n",
    "i = 3_000\n",
    "\n",
    "print(h) # 출력값이 이상하다."
   ]
  },
  {
   "cell_type": "code",
   "execution_count": 27,
   "id": "616433cb-aeab-436a-9b09-7631dfe237b6",
   "metadata": {},
   "outputs": [
    {
     "name": "stdout",
     "output_type": "stream",
     "text": [
      "3000\n",
      "7000\n"
     ]
    }
   ],
   "source": [
    "print(i)\n",
    "print(g-i)"
   ]
  },
  {
   "cell_type": "code",
   "execution_count": 29,
   "id": "d09c6349-d82e-49a9-82fa-da1eff9660b4",
   "metadata": {},
   "outputs": [
    {
     "ename": "SyntaxError",
     "evalue": "leading zeros in decimal integer literals are not permitted; use an 0o prefix for octal integers (Temp/ipykernel_19908/1041797274.py, line 1)",
     "output_type": "error",
     "traceback": [
      "\u001b[1;36m  File \u001b[1;32m\"C:\\Users\\CHOO\\AppData\\Local\\Temp/ipykernel_19908/1041797274.py\"\u001b[1;36m, line \u001b[1;32m1\u001b[0m\n\u001b[1;33m    j = 0100000\u001b[0m\n\u001b[1;37m              ^\u001b[0m\n\u001b[1;31mSyntaxError\u001b[0m\u001b[1;31m:\u001b[0m leading zeros in decimal integer literals are not permitted; use an 0o prefix for octal integers\n"
     ]
    }
   ],
   "source": [
    "j = 0100000\n",
    "\n",
    "print(j) # 0을 숫자 앞에 써서는 안된다. (특별한 경우 제외)"
   ]
  },
  {
   "cell_type": "markdown",
   "id": "f5484d34-fba8-4af5-aebe-4be1b5e7289c",
   "metadata": {},
   "source": [
    "### 연산 : '연산자(operator) : x, y, ...', '피연산자(operand) : 4, 5, ...', '수식(expression) : x + y, ...'\n",
    "  - 정수 연산자\n",
    "    - '+' (더하기)\n",
    "    - '-' (빼기)\n",
    "    - '*' (곱하기)\n",
    "    - '/' (부동소수점 나누기), 0으로 나누어서는 안된다.\n",
    "    - '//' (정수 나누기(소수점 이하 버림)\n",
    "    - '%' (나머지)\n",
    "    - '**' (지수)\n",
    "  \n",
    "  - 연산의 순서\n",
    "    - 마찬가지로 곱셈과 나눗셈이 덧셈과 뺄셈에 우선한다.\n",
    "    - ( )를 이용해 연산의 우선순위를 바꿀 수 있다. 괄호는 수식을 명확하게 만들어준다.\n",
    "  \n",
    "  - 복합 대입 연산자 (+=, -=, *=,/= ,...)\n",
    "    - 값을 초기화 하고 사용할 것\n",
    "    - 'a += 5' : (초기화된)a값에 +5를 실행\n",
    "    - "
   ]
  },
  {
   "cell_type": "code",
   "execution_count": 46,
   "id": "27965da6-815d-4f7f-8a30-a06a18a0a180",
   "metadata": {},
   "outputs": [
    {
     "name": "stdout",
     "output_type": "stream",
     "text": [
      "13\n",
      "7\n",
      "30\n",
      "3.3333333333333335\n",
      "3\n",
      "1000\n"
     ]
    }
   ],
   "source": [
    "# 연산\n",
    "\n",
    "x = 10\n",
    "y = 3\n",
    "\n",
    "print(x + y)\n",
    "print(x - y)\n",
    "print(x * y)\n",
    "print(x / y) # 소수점까지 출력. 0으로 나누지 않도록 한다. \n",
    "print(x // y) # 소수점 이하는 버림\n",
    "print(x ** y) # x의 y제곱"
   ]
  },
  {
   "cell_type": "code",
   "execution_count": 36,
   "id": "e4064c89-2897-4dad-839b-d1281cd71c46",
   "metadata": {},
   "outputs": [
    {
     "name": "stdout",
     "output_type": "stream",
     "text": [
      "19\n",
      "39\n"
     ]
    }
   ],
   "source": [
    "# 연산의 순서\n",
    "\n",
    "print(x + y * 3)\n",
    "print((x + y) * 3) # 괄호를 통해 수식을 명확하게 한다."
   ]
  },
  {
   "cell_type": "code",
   "execution_count": 44,
   "id": "d1815a1b-e8ed-4c00-9060-5e92848d6936",
   "metadata": {},
   "outputs": [
    {
     "name": "stdout",
     "output_type": "stream",
     "text": [
      "1\n",
      "3\n"
     ]
    }
   ],
   "source": [
    "#나눗셈에서 주의할 사항\n",
    "\n",
    "print(x % y) # 나머지를 구하는 수식 '10 나누기 3의 나머지'\n",
    "print(x // y) # 소수점 이하를 버리는 수식 / 소수점 이하도 구하는 수식 구분"
   ]
  },
  {
   "cell_type": "code",
   "execution_count": 45,
   "id": "d6b127b8-4376-4fb3-8aa1-be9d89a12f69",
   "metadata": {},
   "outputs": [
    {
     "data": {
      "text/plain": [
       "(3, 1)"
      ]
     },
     "execution_count": 45,
     "metadata": {},
     "output_type": "execute_result"
    }
   ],
   "source": [
    "#함수 divmod() : divmod(나누어질 값, 나누는 값), 결과 = (몫, 나머지)\n",
    "\n",
    "divmod(x, y) # x를 y로 나누었을 때, 몫과 나머지"
   ]
  },
  {
   "cell_type": "markdown",
   "id": "44c87ae9-971a-471e-9fac-c8e70661297c",
   "metadata": {},
   "source": [
    "### 추가 : input() 함수\n",
    "  - console에서 사용자가 입력하는 값을 받을 수 있는 함수\n",
    "  - 입력 받는 값은 문자열로 인식이 된다.\n",
    "  - 입력 받은 값을 변수에 담아서 사용한다. 안 그러면 사라지기 때문이다.\n",
    "  - 숫자일 경우 형을 변환한다. (str이기 때문에 int, float로 타입 변환을 해주어야 한다.)"
   ]
  },
  {
   "cell_type": "code",
   "execution_count": 71,
   "id": "51c98abd-fbd0-472a-8826-224afad2236f",
   "metadata": {},
   "outputs": [
    {
     "name": "stdin",
     "output_type": "stream",
     "text": [
      "Nice to meet you! ㅁㄴㅇㄹ\n"
     ]
    },
    {
     "data": {
      "text/plain": [
       "'ㅁㄴㅇㄹ'"
      ]
     },
     "execution_count": 71,
     "metadata": {},
     "output_type": "execute_result"
    }
   ],
   "source": [
    "input(\"Nice to meet you!\")"
   ]
  },
  {
   "cell_type": "code",
   "execution_count": 74,
   "id": "720a57c7-6046-46e0-95da-634f981f2bce",
   "metadata": {},
   "outputs": [
    {
     "name": "stdin",
     "output_type": "stream",
     "text": [
      "How old are you? 1234214\n"
     ]
    },
    {
     "name": "stdout",
     "output_type": "stream",
     "text": [
      "1234214\n"
     ]
    }
   ],
   "source": [
    "age = input(\"How old are you?\") # input에 대한 값은 저장이 되지 않기 때문에 변수에 담아준다.\n",
    "\n",
    "print(age)"
   ]
  },
  {
   "cell_type": "markdown",
   "id": "073cc2c4-ca0a-4fe0-9011-76fed8c60cd0",
   "metadata": {},
   "source": [
    "### 추가 : 타입 변환 int() 함수\n",
    "  - 다른 파이썬 데이터 타입을 '정수' 타입으로 변환하기 위한 함수이다.\n",
    "  - 정수 타입 변환 함수이기에 소숫점 이하의 숫자는 버린다.\n",
    "  - 불리언(bool) 타입을 정수로 변환하면 0 혹은 1을 반환한다.\n",
    "    - 반대로 bool() 함수를 사용하면 정수에 해당하는 불리언 값을 반환한다."
   ]
  },
  {
   "cell_type": "code",
   "execution_count": 66,
   "id": "3a3bf33e-6ad3-494e-874e-c4509c56515c",
   "metadata": {},
   "outputs": [
    {
     "name": "stdout",
     "output_type": "stream",
     "text": [
      "-256\n",
      "1000\n"
     ]
    }
   ],
   "source": [
    "# int() 함수를 통한 타입 변환\n",
    "\n",
    "print(int('-256')) # ''로 감싸져 있기에 문자열이다.\n",
    "print(int(\"1_000\"))"
   ]
  },
  {
   "cell_type": "code",
   "execution_count": 1,
   "id": "89aca336-1ce8-40e2-b248-fa11ae359f15",
   "metadata": {},
   "outputs": [
    {
     "name": "stdout",
     "output_type": "stream",
     "text": [
      "100\n",
      "100\n"
     ]
    },
    {
     "ename": "ValueError",
     "evalue": "invalid literal for int() with base 10: '100.25'",
     "output_type": "error",
     "traceback": [
      "\u001b[1;31m---------------------------------------------------------------------------\u001b[0m",
      "\u001b[1;31mValueError\u001b[0m                                Traceback (most recent call last)",
      "\u001b[1;32m~\\AppData\\Local\\Temp/ipykernel_6176/4084850706.py\u001b[0m in \u001b[0;36m<module>\u001b[1;34m\u001b[0m\n\u001b[0;32m      1\u001b[0m \u001b[0mprint\u001b[0m\u001b[1;33m(\u001b[0m\u001b[0mint\u001b[0m\u001b[1;33m(\u001b[0m\u001b[1;34m'100'\u001b[0m\u001b[1;33m)\u001b[0m\u001b[1;33m)\u001b[0m\u001b[1;33m\u001b[0m\u001b[1;33m\u001b[0m\u001b[0m\n\u001b[0;32m      2\u001b[0m \u001b[0mprint\u001b[0m\u001b[1;33m(\u001b[0m\u001b[0mint\u001b[0m\u001b[1;33m(\u001b[0m\u001b[1;36m100.25\u001b[0m\u001b[1;33m)\u001b[0m\u001b[1;33m)\u001b[0m \u001b[1;31m# 소숫점 이하의 숫자는 버리고 정수로 변환한다.\u001b[0m\u001b[1;33m\u001b[0m\u001b[1;33m\u001b[0m\u001b[0m\n\u001b[1;32m----> 3\u001b[1;33m \u001b[0mprint\u001b[0m\u001b[1;33m(\u001b[0m\u001b[0mint\u001b[0m\u001b[1;33m(\u001b[0m\u001b[1;34m'100.25'\u001b[0m\u001b[1;33m)\u001b[0m\u001b[1;33m)\u001b[0m \u001b[1;31m# 'float값이 문자열이면 소숫점 이하의 숫자를 버리지 못하고 오류가 난다. 왜?'\u001b[0m\u001b[1;33m\u001b[0m\u001b[1;33m\u001b[0m\u001b[0m\n\u001b[0m",
      "\u001b[1;31mValueError\u001b[0m: invalid literal for int() with base 10: '100.25'"
     ]
    }
   ],
   "source": [
    "print(int('100'))\n",
    "print(int(100.25)) # 소숫점 이하의 숫자는 버리고 정수로 변환한다.\n",
    "print(int('100.25')) # 'float값이 문자열이면 소숫점 이하의 숫자를 버리지 못하고 오류가 난다. 왜?'"
   ]
  },
  {
   "cell_type": "markdown",
   "id": "7e4c8656-6410-46d0-a517-7f71656cee5f",
   "metadata": {},
   "source": [
    "### 수업시간 Quiz - input(), int()"
   ]
  },
  {
   "cell_type": "markdown",
   "id": "1152f419-6eda-4a63-946e-f6189757d9d6",
   "metadata": {},
   "source": [
    "#### Quiz 01\n",
    "  - 섭씨를 입력 받아서 화씨로 변환하기\n",
    "  - '화씨' = '섭씨 * 1.8 + 32'"
   ]
  },
  {
   "cell_type": "code",
   "execution_count": 79,
   "id": "56bcb36e-dd70-42d8-83eb-61464b4258e9",
   "metadata": {},
   "outputs": [
    {
     "name": "stdout",
     "output_type": "stream",
     "text": [
      "섭씨온도 -> 화씨온도 변환기\n"
     ]
    },
    {
     "name": "stdin",
     "output_type": "stream",
     "text": [
      "섭씨 온도를 입력해 주십시오. 49\n"
     ]
    },
    {
     "name": "stdout",
     "output_type": "stream",
     "text": [
      "섭씨온도 49.0 도 는 화씨온도 120.2 도 입니다.\n"
     ]
    }
   ],
   "source": [
    "\"\"\"\n",
    "  - 어떤 변수 타입을 이용해야 하는가? - float : 섭씨의 온도에 따라 화씨가 소수점이 나올 수 있다.\n",
    "  - 무엇을 변수로 지정해야 하는가? - 입력받는 섭씨온도의 값과, 입력받은 값에 따라 변화하는 화씨의 값\n",
    "  \n",
    "  - 입력받은 섭씨의 값이 사라지지 않도록 변수에 할당한다.\n",
    "  - 변수의 이름을 이해에 용이하게 지정한다.\n",
    "\"\"\"\n",
    "\n",
    "print(\"섭씨온도 -> 화씨온도 변환기\")\n",
    "\n",
    "celsius = float(input(\"섭씨 온도를 입력해 주십시오.\"))\n",
    "fahrenheit =  celsius * 1.8 + 32\n",
    "\n",
    "print(\"섭씨온도\", celsius, \"도 는 화씨온도\",fahrenheit, \"도 입니다.\")"
   ]
  },
  {
   "cell_type": "markdown",
   "id": "126f2000-fa7f-4d10-8e76-56f661e203ef",
   "metadata": {},
   "source": [
    "#### Quiz 02\n",
    "  - 택배 정보 입력 받고, 총 합계 계산하기\n",
    "  - 출력값 :\n",
    "    - 수취인 성명 : <이름>\n",
    "    - 수취인 주소 : <주소>\n",
    "    - 배송비 : 3,000원\n",
    "    - 물건에 대한 비용 : <가격>원\n",
    "    - 총 합계 : <가격>원\n",
    "  - '물건에 대한 비용' = '무게(g) * 5'\n",
    "  - '합계' = '배송비 + 물건 비용'"
   ]
  },
  {
   "cell_type": "code",
   "execution_count": 110,
   "id": "d2bb85f3-3ea1-4829-a3ce-b8d26163bd41",
   "metadata": {},
   "outputs": [
    {
     "name": "stdout",
     "output_type": "stream",
     "text": [
      "=================\n",
      "★택배 배송 서비스★\n",
      "=================\n"
     ]
    },
    {
     "name": "stdin",
     "output_type": "stream",
     "text": [
      "- 수취인 성명을 입력해 주십시오. 추병진\n",
      "- 수취인 주소를 입력해 주십시오. 서울 동대문구\n",
      "- 보내시는 물건의 무게(g)를 입력해 주십시오. 1225\n"
     ]
    },
    {
     "name": "stdout",
     "output_type": "stream",
     "text": [
      "\n",
      " 서울 동대문구 추병진 님께 택배를 배송합니다. \n",
      " 배송비는 9125 원 입니다.\n"
     ]
    }
   ],
   "source": [
    "\"\"\"\n",
    "  - 어떤 변수 타입을 이용해야 하는가?\n",
    "    - g단위의 무게는 일반적으로 소수점까지 측정하지 않는다. 가격 또한 소수점은 없다.(하지만 1원 단위로 결제가 이루어지지도 않는데,\n",
    "    1의 단위를 버리기 위해서 어떻게 할 수 있을까?)\n",
    "  - 무엇을 변수로 지정해야 하는가? - 입력받는 값인 이름과 주소를 문자열 타입의 변수로, 물건의 무게를 정수 타입의 변수로,\n",
    "  배송비를 변수로(배송비는 고정되어있지만, 후에 배송비가 바뀔 수도 있으니 변수로 지정한다.)\n",
    "\"\"\"\n",
    "\n",
    "print(\"=================\\n★택배 배송 서비스★\\n=================\")\n",
    "receiverName = str(input(\"- 수취인 성명을 입력해 주십시오.\"))\n",
    "receiverAddress = str(input(\"- 수취인 주소를 입력해 주십시오.\"))\n",
    "itemWeight = float(input(\"- 보내시는 물건의 무게(g)를 입력해 주십시오.\"))\n",
    "itemPrice = int(itemWeight * 5)\n",
    "deliveryFee = 3_000\n",
    "\n",
    "print(\"\\n\", receiverAddress, receiverName, \"님께 택배를 배송합니다.\", '\\n', \"배송비는\", itemPrice + deliveryFee, \"원 입니다.\")\n"
   ]
  },
  {
   "cell_type": "markdown",
   "id": "1e468ea3-fd7c-4838-97ee-652f47314e4b",
   "metadata": {},
   "source": [
    "### 수업시간 Quiz - input(), int() + 비교 연산자"
   ]
  },
  {
   "cell_type": "markdown",
   "id": "1c573dc2-c583-40bf-b809-6500d6338f2f",
   "metadata": {},
   "source": [
    "#### Quiz 1.\n",
    "  - 정수를 입력받고 3의 배수인지 확인하세요.\n",
    "  - 홀수인지 확인하세요."
   ]
  },
  {
   "cell_type": "code",
   "execution_count": 115,
   "id": "0b8a3d49-35c6-42de-b5cc-073dbf853808",
   "metadata": {},
   "outputs": [
    {
     "name": "stdin",
     "output_type": "stream",
     "text": [
      "정수를 입력해주세요. -7\n"
     ]
    },
    {
     "name": "stdout",
     "output_type": "stream",
     "text": [
      "3의 배수인가? False\n",
      "홀수인가? True\n"
     ]
    }
   ],
   "source": [
    "\"\"\"\n",
    "  - 어떤 정수가 3의 배수일 조건? - 3의 배수인 수는 3으로 나누었을 때 나머지가 0인 수이다.(0 제외)\n",
    "  - 어떤 정수가 홀수일 조건? - 홀수인 수는 2로 나누었을 때 나머지가 1인 수이다.\n",
    "\"\"\"\n",
    "\n",
    "inputNumber = int(input(\"정수를 입력해주세요.\"))\n",
    "\n",
    "print(\"3의 배수인가?\", inputNumber % 3 == 0)\n",
    "print(\"홀수인가?\", inputNumber % 2 == 1)"
   ]
  },
  {
   "cell_type": "markdown",
   "id": "d381fb8d-b430-4f86-ac79-ea88bfb4c279",
   "metadata": {},
   "source": [
    "### 지수의 표현\n",
    "  - e, E 둘다 지수를 표현할 수 있다.(지수함수 그런게 아니라 10의 제곱 세제곱.. 등을 곱해주는 것)\n",
    "  - 앞 부분은 float, int\n",
    "  - 뒷부분은 int만 온다.\n",
    "  - e, E 뒤의 숫자가 양수면 0 앞으로 음수면 0 뒤로(소수점)"
   ]
  },
  {
   "cell_type": "code",
   "execution_count": 126,
   "id": "485b6024-549e-458a-b6db-bd31ba068792",
   "metadata": {},
   "outputs": [
    {
     "name": "stdout",
     "output_type": "stream",
     "text": [
      "12300000000.0\n",
      "0.000123\n"
     ]
    }
   ],
   "source": [
    "# 지수의 표현\n",
    "\n",
    "#12300000000 의 숫자를 표현한다. 너무 크기에 가독성이 떨어진다.\n",
    "print(123E8) # E6은 10의 8제곱을 의미한다. 10*10*10*10*10*10*10*10\n",
    "\n",
    "#0.000123 의 숫자를 표현한다. 너무 작아 가독성이 떨어진다.\n",
    "print(123E-6) # E-6은 1/10의 6제곱을 의미한다. 1/10*1/10*1/10*1/10*1/10*1/10"
   ]
  },
  {
   "cell_type": "markdown",
   "id": "c0f3141f-270c-42df-b436-4f9713a6b474",
   "metadata": {},
   "source": [
    "## Chapter 04 선택하기 : if"
   ]
  },
  {
   "cell_type": "markdown",
   "id": "309077ba-5d91-4edd-875d-308bb225f82e",
   "metadata": {
    "tags": []
   },
   "source": [
    "### 주석 달기 : #\n",
    "  - '주석(comment)'은 인터프리터에 의해 무시되는 텍스트의 한 부분이다.\n",
    "  - ' # '문자를 이용해 주석을 표시한다.  ' # ' 문자가 시작되는 부분부터 그 라인의 끝까지가 주석이다.\n",
    "  - ' # '문자가 문자열 안에 있는 경우는 주석이 아닌 평범한 문자가 된다.\n",
    "  \n",
    "  - 주석을 이용해 라인에 부연 설명을 덧 붙이자."
   ]
  },
  {
   "cell_type": "code",
   "execution_count": null,
   "id": "33bfe42f-d0e4-4a26-8057-e70a30272d53",
   "metadata": {},
   "outputs": [],
   "source": [
    "# 주석 달기\n",
    "a = 10 # 여기서부터 라인 끝까지 주석 처리, 무시되는 영역이다.\n",
    "b = 5"
   ]
  },
  {
   "cell_type": "markdown",
   "id": "323268c2-fca9-4ec2-a139-82455500dd3c",
   "metadata": {},
   "source": [
    "#### 라인 유지하기 : \\\n",
    "  - ' \\ (백슬래시)' 를 사용하는 이유는 무엇인가?\n",
    "    - ' \\ '를 줄 끝에 입력하면 파이썬은 다음 줄을 여전히 같은 줄로 인식한다.\n",
    "    - 즉, 코드 한 줄(라인)에서 권장하는 최대 문자 수(80자)를 넘긴다면, ' \\ '를 입력한 후 다음 줄에 계속 입력(라인 유지)하도록 한다.\n",
    "  - 표현식 중간에 백슬래시를 생략하면 예외가 발생할 수 있다."
   ]
  },
  {
   "cell_type": "markdown",
   "id": "849d487b-6758-4dba-8853-c2ba4f009690",
   "metadata": {},
   "source": [
    "### 비교하기 : if, elif, else\n",
    "  - 1. 조건이 한 개인 경우 : '만약 <조건문1>이 성립한다면, <실행할 코드1>을 실행한다.'\n",
    "    - if <조건식1>:\n",
    "              <실행할 코드1>\n",
    "                  \n",
    "  - 2. 조건이 두 개인 경우 : '만악(if) <조건문1>이 성립한다면, <실행할 코드1>을 실행한다. 성립하지 않는다면(else) <실행할 코드2>를 실행한다.'\n",
    "    - if <조건식1>:\n",
    "              <실행할 코드1>\n",
    "      else:\n",
    "              <실행할 코드2>\n",
    "                  \n",
    "  - 3. 조건이 세 개 이상인 경우 : '만약(if) <조건문1>이 성립한다면, <실행할 코드1>을 실행한다. 다음 <조건식2>가 성립한다면(elif) <실행할 코드2>를 실행한다. ...... 무엇도 성립하지 않는다면(else) <실행할 코드n+1>을 실행한다.'\n",
    "    - if <조건식1>:\n",
    "              <실행할 코드1>\n",
    "      elif <조건식2>:\n",
    "              <실행할 코드2>\n",
    "      elif <조건식3>:\n",
    "              <실행할 코드3>\n",
    "              ......\n",
    "                  \n",
    "      else:\n",
    "              <실행할 코드n+1>"
   ]
  },
  {
   "cell_type": "markdown",
   "id": "fbc3d714-61dd-4bd4-a41a-b1513969d972",
   "metadata": {},
   "source": [
    "### 수업시간 Quiz : 비교하기"
   ]
  },
  {
   "cell_type": "markdown",
   "id": "39eca769-28a5-4e6a-b9a8-1ee93bc37913",
   "metadata": {
    "tags": []
   },
   "source": [
    "#### Quiz 1. 학점 부여하기 (확장)\n",
    "  - 점수를 입력받아, 그 점수에 따라 학점을 부여한다.\n",
    "  - 결석 및 지각의 횟수에 따라 점수는 차감된다.(결석 -1점 지각 -0.5점)(지각 2회는 결석 1회이며, 결석 4회는 무조건 F학점 판정이 된다.)"
   ]
  },
  {
   "cell_type": "code",
   "execution_count": 10,
   "id": "be17459e-1934-459c-bb51-6dd2d543fb82",
   "metadata": {},
   "outputs": [
    {
     "name": "stdin",
     "output_type": "stream",
     "text": [
      "============================\n",
      "점수를 입력해 주십시오. 80\n",
      "결석 횟수를 입력해 주십시오. 2\n",
      "지각 횟수를 입력해 주십시오. 1\n"
     ]
    },
    {
     "name": "stdout",
     "output_type": "stream",
     "text": [
      "\n",
      "최종 점수 77.5 점..\n",
      "당신의 학점은 Grade C 입니다.\n",
      "============================\n"
     ]
    }
   ],
   "source": [
    "myScore = int(input(\"============================\\n점수를 입력해 주십시오.\"))\n",
    "myAbsenceCount = int(input(\"결석 횟수를 입력해 주십시오.\"))\n",
    "myLatenessCount = int(input(\"지각 횟수를 입력해 주십시오.\"))\n",
    "myMinusPoint = myAbsenceCount + 0.5 * myLatenessCount\n",
    "\n",
    "myFinalScore = myScore - myMinusPoint\n",
    "\n",
    "if myFinalScore >= 90:\n",
    "    myGrade = \"Grade A\"\n",
    "elif myFinalScore >= 80:\n",
    "    myGrade = \"Grade B\"\n",
    "elif myFinalScore >= 70:\n",
    "    myGrade = \"Grade C\"\n",
    "elif myFinalScore >= 50:\n",
    "    myGrade = \"Grade D\"\n",
    "else:\n",
    "    myGrade = \"Grade F\"\n",
    "    \n",
    "if myMinusPoint >= 4:\n",
    "    myGrade = \"Grade F\"\n",
    "\n",
    "print(\"\\n최종 점수\", myFinalScore, \"점..\\n당신의 학점은\", myGrade, \"입니다.\\n============================\")"
   ]
  },
  {
   "cell_type": "markdown",
   "id": "8cda9c97-df33-4390-9922-1e60a14db41d",
   "metadata": {},
   "source": [
    "#### Quiz 2. 로그인 시스템 흉내내기\n",
    "  - 아이디와 비밀번호를 입력받아, 미리 정해둔 내 아이디와 비밀번호에 일치하면 로그인한다.\n",
    "  - 일치하지 않을 경우 창의적으로 반환한다."
   ]
  },
  {
   "cell_type": "code",
   "execution_count": 1,
   "id": "c330ffd0-2661-41d3-be9c-283098601cf0",
   "metadata": {},
   "outputs": [
    {
     "name": "stdout",
     "output_type": "stream",
     "text": [
      "========== 로그인 ==========\n",
      "\n"
     ]
    },
    {
     "name": "stdin",
     "output_type": "stream",
     "text": [
      "아이디를 입력해 주십시오. plowperson1189\n",
      "비밀번호를 입력해 주십시오. plenty021\n"
     ]
    },
    {
     "name": "stdout",
     "output_type": "stream",
     "text": [
      "\n",
      "잘못된 비밀번호입니다.\n",
      "============================\n"
     ]
    }
   ],
   "source": [
    "\"\"\"\n",
    "일반적인 사이트에서 로그인에 대한 출력 메세지는 몇 가지 인가?\n",
    "  - 아이디 O 비밀번호 O : 정상적으로 로그인\n",
    "  - 아이디 O 비밀번호 X : 비밀번호가 틀림 (아이디는 맞다는 것)\n",
    "  - 아이디 X 비밀번호 O : 아이디가 틀림 (아이디'만' 틀렸다는 출력 메세지는 없다. - 잘못된 아이디)\n",
    "  - 아이디 X 비밀번호 X : 잘못된 아이디\n",
    "\"\"\"\n",
    "\n",
    "myAccount = \"plowperson1189\"\n",
    "myPassword = \"plenty120\"\n",
    "\n",
    "print(\"========== 로그인 ==========\\n\")\n",
    "\n",
    "inputAccount = input(\"아이디를 입력해 주십시오.\")\n",
    "inputPassword = input(\"비밀번호를 입력해 주십시오.\")\n",
    "\n",
    "if inputAccount == myAccount:\n",
    "    if inputPassword == myPassword:\n",
    "        print(\"\\n확인 되었습니다. 로그인 중입니다...\\n============================\")\n",
    "    else:\n",
    "        print(\"\\n잘못된 비밀번호입니다.\\n============================\")\n",
    "else:\n",
    "    print(\"\\n잘못된 아이디입니다.\\n============================\")"
   ]
  },
  {
   "cell_type": "code",
   "execution_count": null,
   "id": "3677bd13-c55c-4b18-a2e3-6cec897a00aa",
   "metadata": {},
   "outputs": [],
   "source": []
  }
 ],
 "metadata": {
  "kernelspec": {
   "display_name": "Python 3 (ipykernel)",
   "language": "python",
   "name": "python3"
  },
  "language_info": {
   "codemirror_mode": {
    "name": "ipython",
    "version": 3
   },
   "file_extension": ".py",
   "mimetype": "text/x-python",
   "name": "python",
   "nbconvert_exporter": "python",
   "pygments_lexer": "ipython3",
   "version": "3.9.7"
  }
 },
 "nbformat": 4,
 "nbformat_minor": 5
}
