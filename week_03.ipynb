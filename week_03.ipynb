{
 "cells": [
  {
   "cell_type": "markdown",
   "id": "5bafc711-eb44-49d2-95a1-d11208e99977",
   "metadata": {},
   "source": [
    "# Week 03 (22.03.18) 정리\n",
    "(Chapter 04에서 이어짐)"
   ]
  },
  {
   "cell_type": "markdown",
   "id": "ecab8e8e-bdea-4833-8b1a-768690b4b8dd",
   "metadata": {},
   "source": [
    "## 중첩 조건문 (nested conditional)\n",
    "- if 블록 안에 또 if 블록이 만들어지는 경우 (elif, else 로도 이어질 수 있다.)\n",
    "    예 : \n",
    "        if ...\n",
    "            if ...\n",
    "            elif ...\n",
    "        elif ...\n",
    "            if ...\n",
    "            else\n",
    "                \n",
    "        - 구분은 들여쓰기로 한다.\n",
    "        - 조건이 여러 개일 경우 사용한다.\n",
    "        - 지저분해 보이는 것은 지양. 더 예쁜 방법을 찾아본다. (가독성이 좋은 방식)"
   ]
  },
  {
   "cell_type": "code",
   "execution_count": 3,
   "id": "6c216ee4-d7f0-4fbe-aa21-481b8e71fd02",
   "metadata": {},
   "outputs": [
    {
     "name": "stdout",
     "output_type": "stream",
     "text": [
      "caseA and CaseB is True\n"
     ]
    }
   ],
   "source": [
    "# 중첩 조건문\n",
    "\n",
    "caseA = True\n",
    "caseB = True\n",
    "\n",
    "if caseA == True:\n",
    "    if caseB == True:\n",
    "        print(\"caseA and CaseB is True\")\n",
    "    elif caseB == False:\n",
    "        print(\"caseA is True, but CaseB is False\")\n",
    "elif caseA == False:\n",
    "    if caseB == True:\n",
    "        print(\"CaseA is False, but CaseB is True\")\n",
    "    elif caseB == False:\n",
    "        print(\"caseA and caseB is False\")\n",
    "        \n",
    "# 연결 구조가 명확하게 드러나도록 들여쓰기한다."
   ]
  },
  {
   "cell_type": "code",
   "execution_count": 9,
   "id": "c81f57ab-c130-4a05-9a22-5424452ca65c",
   "metadata": {
    "tags": []
   },
   "outputs": [
    {
     "name": "stdin",
     "output_type": "stream",
     "text": [
      "a의 값을 입력해 주십시오. -1\n"
     ]
    },
    {
     "name": "stdout",
     "output_type": "stream",
     "text": [
      "NO(0 미만)\n"
     ]
    }
   ],
   "source": [
    "# 좋은 모양을 만드는 것이 전부가 아니다. 최소한의 블록으로 목적에 맞는 조건문을 만들 수 있어야 한다.\n",
    "# 0 < a <= 100 인 조건을 나타내려면.. (0 초과 100 이하)\n",
    "\n",
    "a = int(input(\"a의 값을 입력해 주십시오.\"))\n",
    "\n",
    "if a > 0:\n",
    "    if a <= 100:\n",
    "        print(\"OK\")\n",
    "    else:\n",
    "        print(\"NO(100 초과)\")\n",
    "else:\n",
    "    print(\"NO(0 미만)\")\n",
    "    \n",
    "# 비교 연산자와 조건문을 다용해 0 < a <= 100 의 조건이 만들어졌지만, 많은 줄을 잡아먹고 깔끔하지 않다. "
   ]
  },
  {
   "cell_type": "markdown",
   "id": "f3980f5f-c59f-4b17-9cac-f8f81af65faf",
   "metadata": {},
   "source": [
    "### 논리 연산자\n",
    "    - 비교 연산 조건을 자주 사용하는 경우\n",
    "        x > 0, X <= 100 ...\n",
    "    - and, or, not\n",
    "        - A and B : A 그리고 B : A, B가 둘다 참일 때,\n",
    "        - A or B : A 또는 B :\n",
    "        - not A : A가 참이면 False.."
   ]
  },
  {
   "cell_type": "code",
   "execution_count": 16,
   "id": "6d49af8a-b0e6-4812-b5be-b68fc283c102",
   "metadata": {},
   "outputs": [
    {
     "name": "stdin",
     "output_type": "stream",
     "text": [
      "b의 값을 입력해 주십시오. 100\n"
     ]
    },
    {
     "name": "stdout",
     "output_type": "stream",
     "text": [
      "OK\n"
     ]
    },
    {
     "data": {
      "text/plain": [
       "'\\n# != : 같지 않다. <, >, <=, >= 의 앞에 !를 붙이면?? # 오류가 난다.\\nif (b !<= 0) and (b !> 100):\\n    print(\"OK\")\\nelse:\\n    print(\"NO\")\\n'"
      ]
     },
     "execution_count": 16,
     "metadata": {},
     "output_type": "execute_result"
    }
   ],
   "source": [
    "# 0 < b <= 100 인 조건을 나타내려면.. (동일 조건, 논리 연산자 사용)\n",
    "b = int(input(\"b의 값을 입력해 주십시오.\"))\n",
    "\n",
    "if (b > 0) and (b <= 100): # 논리 연산자 and 사용, 병렬된 식을 모두 만족해야함.\n",
    "    print(\"OK\")\n",
    "else:\n",
    "    print (\"NO\")\n",
    "    \n",
    "\n",
    "\"\"\"\n",
    "if 0 < b <= 100: # 파이썬에서만 가능한 논리 연산자 식이다.\n",
    "    print(\"OK\")\n",
    "else:\n",
    "    print(\"NO\")\n",
    "\"\"\"\n",
    "\n",
    "\n",
    "\"\"\"\n",
    "# != : 같지 않다. <, >, <=, >= 의 앞에 !를 붙이면?? # 오류가 난다.\n",
    "if (b !<= 0) and (b !> 100):\n",
    "    print(\"OK\")\n",
    "else:\n",
    "    print(\"NO\")\n",
    "\"\"\""
   ]
  },
  {
   "cell_type": "markdown",
   "id": "ed1f595b-d614-48cd-ab1c-3fb083dc2b6f",
   "metadata": {},
   "source": [
    "### in : 여러 개 비교하기\n",
    "    - 파이썬 멤버십 연산자 'in'(membership operator)\n",
    "    - 한 변수에 여러 값을 비교할 때 사용한다.\n",
    "        - 요소가 안에 포함되어 있는지? : A in B : A라는 요소가 B에 포함되어 있는지?"
   ]
  },
  {
   "cell_type": "code",
   "execution_count": 28,
   "id": "10a21b9f-4ead-4e09-b627-c3dce32df8ca",
   "metadata": {},
   "outputs": [
    {
     "name": "stdin",
     "output_type": "stream",
     "text": [
      "하나의 알파벳을 입력해 주십시오. B\n"
     ]
    },
    {
     "name": "stdout",
     "output_type": "stream",
     "text": [
      "B is not a vowel\n"
     ]
    }
   ],
   "source": [
    "# ex.1) 모음인지 아닌지 판별하라 (a, e, i, o, u)\n",
    "\n",
    "#1\n",
    "letter1 = str(input(\"하나의 알파벳을 입력해 주십시오.\")) # letter 문자열\n",
    "vowels1 = 'aeiouAEIOU' # vowels 문자열\n",
    "\n",
    "if letter1 in vowels1:\n",
    "    print(letter1,\"is a vowel\")\n",
    "else:\n",
    "    print(letter1,\"is not a vowel\")\n",
    "    \n",
    "#2\n",
    "\"\"\"\n",
    "letter2 = str(input(\"하나의 알파벳을 입력해 주십시오.\"))\n",
    "\n",
    "\"\"\""
   ]
  },
  {
   "cell_type": "markdown",
   "id": "5643473a-4f67-47e0-bcd9-89225612d416",
   "metadata": {},
   "source": [
    "### 바다코끼리 연산자\n",
    "    - '이름 := 표현식' 의 형태로 사용한다.\n",
    "    - 바다코끼리 연산자를 사용하여 할당과 테스트를 한 단계로 줄일 수 있다.\n",
    "    - 바다코끼리 연산자는 for문과 while문에도 사용한다. (6장)"
   ]
  },
  {
   "cell_type": "code",
   "execution_count": 35,
   "id": "a7375d1a-ae6d-4bf2-8572-bf77bbb922d4",
   "metadata": {},
   "outputs": [
    {
     "name": "stdout",
     "output_type": "stream",
     "text": [
      "Went over by 0\n"
     ]
    }
   ],
   "source": [
    "tweet_limit = 200\n",
    "tweet_string = \"Blah\" * 100 # len = 240\n",
    "\n",
    "\"\"\"\n",
    "diff = tweet_limit - len(tweet_string)\n",
    "if diff >= 0:\n",
    "    print(\"A fitting tweet\")\n",
    "else:\n",
    "    print(\"Went over by\", abs(diff)) #\n",
    "\"\"\"\n",
    "\n",
    "if diff := tweet_limit - len(tweet_string) >= 0: # 변수를 할당하는 동시에 조건문에서 테스트를 한다.\n",
    "    print(\"A fitting tweet\")\n",
    "else:\n",
    "    print(\"Went over by\", abs(diff)) # 바다코끼리 연산자가 반영하지 못하는 것 같은데?"
   ]
  },
  {
   "cell_type": "markdown",
   "id": "e7d4d32c-4248-4b90-953c-792539d34842",
   "metadata": {},
   "source": [
    "## Chapter 05 문자열 : String"
   ]
  },
  {
   "cell_type": "markdown",
   "id": "456cf095-8812-485d-b88c-03354883b1c8",
   "metadata": {},
   "source": [
    "### - 따옴표로 문자열 생성하기\n",
    "    - 작은따옴표(')와 큰따옴표(\")를 모두 사용해서 파이썬 문자열을 만들기\n",
    "        - 파이썬에서는 작은따옴표와 큰따옴표를 똑같이 처리한다.\n",
    "        - 따옴표가 포함된 문자열을 만들기 위해서 두 가지 따옴표를 모두 이용할 수 있다.\n",
    "        \n",
    "        - 또한, 세 개의 작은 따옴표(''')나 세 개의 큰 따옴표(\"\"\")를 사용할 수 있다.\n",
    "            - 짧은 문자열보다 여러 줄의 문자열(multiline string)에서 매우 유용하다.\n",
    "        - 세 개의 작은따옴표 안에 여러 줄이 있다면, 문자열 끝에 들어 있는 라인 끝 문자가 보존된다.\n",
    "            - 또한 양쪽 끝에 공백이 있는 경우에도 보존된다.\n",
    "            \n",
    "        - 출력 할 문자열 사이에서 공백과 줄바꿈을 유용하게 추가할 수 있다.\n",
    "            - 공백과 줄바꿈을 사용하지 않고자 할 때는 ? 이후 학습\n",
    "            - 단일 인용 부호 또는 \\n과 같은 이스케이프 문자(escape character)가 있는 문자열도 출력할 수 있다.\n",
    "            \n",
    "        - 인용 부호로 빈 문자열을 만들 수 있다."
   ]
  },
  {
   "cell_type": "code",
   "execution_count": 8,
   "id": "64a5ae70-df5a-485c-bee1-84ba9a590cb8",
   "metadata": {},
   "outputs": [
    {
     "name": "stdout",
     "output_type": "stream",
     "text": [
      "1004.1\n",
      "1.52\n",
      "False\n",
      "False\n"
     ]
    }
   ],
   "source": [
    "# str() 함수\n",
    "# str() 함수를 이용하여 다른 데이터 타입을 문자열로 변환할 수 있다.\n",
    "# 문자열이 아닌 객체를 print()로 호출하거나 문자열 포매팅을 사용할 때, 파이썬은 내부적으로 str()을 사용하여 출력할 수 있게 한다.\n",
    "\n",
    "rest = False\n",
    "\n",
    "print(str(1004.1))\n",
    "print(str(1520.0e-3))\n",
    "print(str(False))\n",
    "\n",
    "print(rest) # 내부적으로 str() 적용 -> print()"
   ]
  },
  {
   "cell_type": "markdown",
   "id": "30e795dc-ffef-44e7-94f8-a578add93cb9",
   "metadata": {
    "tags": []
   },
   "source": [
    "### - 이스케이프 문자 '\\n'\n",
    "    - 문자 앞에 백슬래시(\\) 기호를 붙임으로써 특별한 의미를 부여할 수 있다.\n",
    "        - \\n : 가장 일반적인 이스케이프 시퀀스 '줄 바꿈'을 의미한다.\n",
    "        - \\t : 텍스트의 공백에 사용되는 이스케이프 시퀀스 (t : tab을 의미한다. 네 칸짜리 공백.)\n",
    "        - 문자열에서 \\' 혹은 \\\" 를 사용하여 작은따옴표나 큰따옴표를 표현한다.\n",
    "        - 백슬래시(문자 그대로의 \\)를 입력하고 싶으면 백슬래시를 두 번 입력한다.\n",
    "        - 원시 문자열은 이스케이프 문자를 무효화한다."
   ]
  },
  {
   "cell_type": "code",
   "execution_count": 47,
   "id": "83a812c9-1156-4f19-bf40-6ec87a624aad",
   "metadata": {},
   "outputs": [
    {
     "name": "stdout",
     "output_type": "stream",
     "text": [
      "Type a \\n to get a new \\t line in a normal string\n"
     ]
    }
   ],
   "source": [
    "info = r\"Type a \\n to get a new \\t line in a normal string\" # 따옴표 앞의 'r' 은 따옴표 안의 내용을 '그대로' 출력할 것을 지시한다.\n",
    "print(info)"
   ]
  },
  {
   "cell_type": "markdown",
   "id": "f919bcf5-bf59-4c7d-910d-57db5015cc74",
   "metadata": {},
   "source": [
    "### - 결합하기 '+'\n",
    "    - + 연산자를 사용하며 리터럴 문자열 또는 문자열 변수를 결합할 수 있다.\n",
    "    - 리터럴 문자열(literal string : 문자열 변수가 아닌 것.)을 차례로 결합한다.\n",
    "    - 파이썬은 문자열을 결합할 때 공백을 자동으로 붙이지 않는다.\n",
    "        - print()는 각 인수 사이에 공백을 붙이고 마지막에는 줄바꿈 문자를 붙인다."
   ]
  },
  {
   "cell_type": "code",
   "execution_count": 50,
   "id": "01a30b07-4869-4cb7-a07f-b0dd49fb2b28",
   "metadata": {},
   "outputs": [
    {
     "name": "stdout",
     "output_type": "stream",
     "text": [
      "AlphaBetaGamma\n",
      "Alpha Beta Gamma \n",
      "Alpha1 Beta1 Gamma1\n",
      "\n",
      "한 줄 더 뛰었다.\n"
     ]
    }
   ],
   "source": [
    "# - 결합하기 '+'\n",
    "\n",
    "print('Alpha' + 'Beta' + 'Gamma') # 결합시 공백을 따로 주지 않는다. (문자열1문자열2문자열3)\n",
    "print('Alpha ' + 'Beta ' + 'Gamma ') # 따옴표 안의 공백은 그것 자체로 문자열의 한 부분이기에..\n",
    "\n",
    "a = 'Alpha1'\n",
    "b = 'Beta1'\n",
    "c = 'Gamma1'\n",
    "print(a, b, c) # print()는 각 인수 사이에 공백을 준다. 그리고 마지막에는 줄바꿈 문자를 붙인다.\n",
    "print('\\n한 줄 더 뛰었다.') # "
   ]
  },
  {
   "cell_type": "markdown",
   "id": "6d7a7907-23dc-4a50-9a68-314b9d03fa77",
   "metadata": {},
   "source": [
    "### - 복제하기 '*'\n",
    "    - * 연산자를 이용하여 문자열을 복제할 수 있다.\n",
    "    - * 연산자는 + 연산자보다 우선순위가 높다.(사칙연산의 개념)"
   ]
  },
  {
   "cell_type": "code",
   "execution_count": 49,
   "id": "6b7b73b9-46f4-4f66-9aab-0e3522bba67f",
   "metadata": {},
   "outputs": [
    {
     "name": "stdout",
     "output_type": "stream",
     "text": [
      "Really???Really???Really???Really???Really???Really???Really???\n",
      "Really???Really???Really???Really???Really???Really???Really???\n",
      "Why???Why???Why???\n",
      "\n",
      "\n",
      "OK...\n",
      "OK...\n",
      "\n"
     ]
    }
   ],
   "source": [
    "# 복제하기 '*'\n",
    "\n",
    "\"Really?\" * 10\n",
    "\n",
    "emot = \"Really???\" * 7 + '\\n'\n",
    "reason = \"Why???\" * 3 + '\\n' * 3\n",
    "end = (\"OK...\" + '\\n') * 2\n",
    "\n",
    "print(emot + emot + reason + end )"
   ]
  },
  {
   "cell_type": "markdown",
   "id": "6e83a4ef-2b8e-4f87-bc39-02a594883f02",
   "metadata": {
    "tags": []
   },
   "source": [
    "### - 문자 추출하기: []\n",
    "    - 문자열에서 한 문자를 얻기 위해서는 문자열 이름 뒤에 대괄호('[]')와 오프셋(offset)을 지정한다.\n",
    "        - 가장 왼쪽의 오프셋은 0이고, 그 다음은 1, 2, 3, ... 으로 진행한다.\n",
    "        - 가장 오른쪽의 오프셋은 -1 이고, 그 다음(왼 방향으로)의 오프셋은 -2, -3, -4, ... 으로 진행한다.\n",
    "        \n",
    "    - 오프셋을 문자열의 길이 혹은 그 이상(오프셋은 0에서 문자열 길이 -1 까지)으로 지정하면 예외가 발생한다.\n",
    "    \n",
    "    - 인덱싱(indexing)은 후에 다루게 될 다른 시퀀스 타입(리스트와 튜플)과 동일하게 동작한다.\n",
    "        - 문자열은 불변하기 때문에 특정 인덱스에 문자를 삽입하거나 변경할 수 없다.\n",
    "        - 대신에 replace()나 슬라이스(slice)와 같은 문자열 함수를 이용할 수 있다."
   ]
  },
  {
   "cell_type": "markdown",
   "id": "06088ea7-d0b5-41a7-acec-8d040f08eeb4",
   "metadata": {},
   "source": [
    "### - 슬라이스로 부분 문자열 추출\n",
    "        - 문자열의 일부분을 떼어내는 작업\n",
    "        - 대괄호 사용, 그 안에 오프셋을 지정\n",
    "        - 오프셋은 0부터 시작한다. (공백에도 숫자가 할당된다.)\n",
    "\n",
    "            0  1  2  3  4\n",
    "            h  a  p  p  y\n",
    "           -5 -4 -3 -2 -1\n",
    "       \n",
    "    - 음수도 가능하다. -1부터 시작\n",
    "    - 오프셋은 [시작:끝:스텝] # step=1\n",
    "        - 시작, 스텝에는 숫자를 넣지 않으면 각각 0, 1로 인식한다. [0:3:1] = [:3:]\n",
    "    - 시작은 포함, 끝은 포함하지 않음 (이상 - 미만)\n",
    "        - [0:3:1] : 0(첫번째 문자)을 포함하고, 3(네번째 문자)을 포함하지 않는 범위까지. 0 1 2\n",
    "        \n",
    "    - [:] : 처음부터 끝까지 전체 시퀀스를 추출한다.\n",
    "    - [start:] : start 오프셋부터 끝까지 시퀀스를 추출한다.\n",
    "    - [:end] : 처음부터 (end-1)오프셋까지 시퀀스를 추출한다. (즉, 끝은 포함하지 않음.)\n",
    "    - [start:end:step] : step 만큼 문자를 건너뛰면서,start 오프셋부터 (end-1) 오프셋까지 시퀀스를 추출한다."
   ]
  },
  {
   "cell_type": "code",
   "execution_count": 60,
   "id": "f149ccea-3f56-4d3f-aeed-5a7cb4a57966",
   "metadata": {},
   "outputs": [
    {
     "name": "stdout",
     "output_type": "stream",
     "text": [
      "Choo\n",
      "Choo\n",
      "Choo Byeong Jin\n",
      "Choo Byeong\n",
      "Co yogJn\n",
      "niJ gnoeyB oohC\n"
     ]
    }
   ],
   "source": [
    "# 문자 추출하기\n",
    "\n",
    "myName = \"Choo Byeong Jin\"\n",
    "\n",
    "'''\n",
    "      C   h   o   o       B  y  e  o  n  g     J  i  n\n",
    "      0   1   2   3   4   5  6  7  8  9 10 11 12 13 14 \n",
    "    -15 -14 -13 -12 -11 -10 -9 -8 -7 -6 -5 -4 -3 -2 -1\n",
    "    \n",
    "    공백에도 오프셋은 지정된다.\n",
    "'''\n",
    "print(myName[:4:]) # 성에 해당하는 오프셋. 시작(0)은 생략가능, 오프셋 3까지 추출해야 하기에 3을 쓰면 포함하지 않아 4를 쓴다.\n",
    "print(myName[-15:-11:]) # 같은 결과가 나온다. 시작 < 끝 이어야한다.\n",
    "\n",
    "print(myName[:])\n",
    "print(myName[:11]) # 처음(0)부터 (11 - 1)10까지\n",
    "\n",
    "print(myName[::2]) # step: '숫자만큼' 문자를 건너뛰면서 출력한다.\n",
    "\n",
    "# 거꾸로 출력하려면? : step\n",
    "print(myName[::-1]) "
   ]
  },
  {
   "cell_type": "markdown",
   "id": "1a29ede6-6028-48c0-8f08-1cc79fb91155",
   "metadata": {},
   "source": [
    "### - (추가) NLTK(natural language toolkit)\n",
    "\n",
    "    - 자연어 분석을 위해 교육용으로 배포된 패키지\n",
    "    - 내장함수, 기능들이 추가됨\n",
    "        - 토크나이즈, 파싱, 태깅, ..."
   ]
  },
  {
   "cell_type": "code",
   "execution_count": 64,
   "id": "d6edda71-122d-4d51-b30b-631fa9f88a68",
   "metadata": {},
   "outputs": [
    {
     "name": "stdout",
     "output_type": "stream",
     "text": [
      "*** Introductory Examples for the NLTK Book ***\n",
      "Loading text1, ..., text9 and sent1, ..., sent9\n",
      "Type the name of the text or sentence to view it.\n",
      "Type: 'texts()' or 'sents()' to list the materials.\n",
      "text1: Moby Dick by Herman Melville 1851\n",
      "text2: Sense and Sensibility by Jane Austen 1811\n",
      "text3: The Book of Genesis\n",
      "text4: Inaugural Address Corpus\n",
      "text5: Chat Corpus\n",
      "text6: Monty Python and the Holy Grail\n",
      "text7: Wall Street Journal\n",
      "text8: Personals Corpus\n",
      "text9: The Man Who Was Thursday by G . K . Chesterton 1908\n"
     ]
    }
   ],
   "source": [
    "import nltk # import : 가져오기\n",
    "nltk.download('book', quiet = True) # 부분적으로 다운로드 받기\n",
    "\n",
    "from nltk import book # nltk에서 book 가져오기"
   ]
  },
  {
   "cell_type": "markdown",
   "id": "94a89881-8a57-4e53-8c0c-77cff6ff5ac2",
   "metadata": {},
   "source": [
    "### - 문자열 길이: 함수 len()\n",
    "    - len() 함수는 문자열의 길이를 구하는 함수이다.\n",
    "        - 다른 시퀀스 타입에서도 len() 함수를 사용할 수 있다. 추후"
   ]
  },
  {
   "cell_type": "code",
   "execution_count": 67,
   "id": "aa1a2fd3-8dfc-4a1b-bc1a-af3299cb373c",
   "metadata": {},
   "outputs": [
    {
     "name": "stdout",
     "output_type": "stream",
     "text": [
      "44764\n",
      "22\n"
     ]
    }
   ],
   "source": [
    "# 문자열 길이: 함수 len()\n",
    "\n",
    "genesis = book.text3\n",
    "print(len(genesis))\n",
    "\n",
    "said = \"I am an invisible man.\"\n",
    "print(len(said)) # 역시 공백도 길이에 포함한다."
   ]
  },
  {
   "cell_type": "markdown",
   "id": "7abb172c-856c-4f23-98eb-d8d3d6408cd8",
   "metadata": {},
   "source": [
    "### - 문자열 나누기: split()\n",
    "    - 문자열 함수는 string.function(arguments)형태로 사용한다. / '문자열이름'.'함수'('인수') / ex) string1.split(list1)\n",
    "        - 즉, 문자열 이름을 입력하고 .을 입력한 후 함수 이름과 인수를 입력한다.\n",
    "        \n",
    "    - 문자열 내장 함수 split()\n",
    "        - 어떤 구분자(seperateor)를 기준으로 하나의 문자열을 작은 문자열들의 리스트(list)로 나누기 위해 사용한다.\n",
    "        - 리스트는 다음과 같이 콤마(,)로 구분하고, 양쪽을 대괄호([])로 둘러싼 값들의 시퀀스이다.\n",
    "        - 구분자를 지정하지 않으면 split()는 문자열에 등장하는 공백 문자(줄바꿈, 스페이스, 탭)를 사용한다.\n",
    "        - 인수 없이 split()를 호출할 때도 중괄호 ()가 필요하다.\n"
   ]
  },
  {
   "cell_type": "markdown",
   "id": "92521793-0f15-4a96-a958-2687e7205d88",
   "metadata": {},
   "source": [
    "### - 문자열 결합하기: join()\n",
    "\n",
    "    - join() 메서드는 문자열 리스트를 하나의 문자열로 결합한다.\n",
    "        - 먼저 결합할 문자열을 지정한 다음에 문자열 리스트를 결합\n",
    "        - join() 메서드는 문자열 리스트를 string.join(list) 형태로 결합한다. lines 리스트를 각각 줄바꿈하여 하나의 문자열로 결합하기 위해 '\\n'.join(lines)을 입력"
   ]
  },
  {
   "cell_type": "code",
   "execution_count": 70,
   "id": "c64a23e9-2ef6-490a-a480-af52127a34ef",
   "metadata": {},
   "outputs": [
    {
     "name": "stdout",
     "output_type": "stream",
     "text": [
      "Found and signing book deals: Yeti & Bigfoot & Loch Ness Monster\n"
     ]
    }
   ],
   "source": [
    "# 문자열 결함하기: join() / 문자열 '리스트' => '하나의' 문자열\n",
    "\n",
    "crypto_list = ['Yeti', 'Bigfoot', 'Loch Ness Monster']\n",
    "crypto_string = ' & '.join(crypto_list) # 리스트에 있는 각각의 항목(각각의 문자열)을 ' & ' 로 묶어 하나의 문자열로 만든다.\n",
    "\n",
    "print('Found and signing book deals:', crypto_string)"
   ]
  },
  {
   "cell_type": "markdown",
   "id": "eb6cb6c5-6c85-4147-abd4-1521d4198b6f",
   "metadata": {},
   "source": [
    "### - 문자열 대체하기: replace()\n",
    "\n",
    "    - 문자열 일부를 대체하기 위해서는 replace() 메서드를 사용한다.\n",
    "        - 인수로 바꿀 문자열, 대체할 새 문자열, 바꿀 문자열에 대한 횟수를 입력한다.\n",
    "        - 원본 문자열을 수정하지 않고 변경된 문자열을 반환. 마지막 인수를 생략하면 모든 인스턴스를 바꾼다.\n",
    "        - 일치하는 문자열을 찾아서 새 문자열을 대체하게 할 수 있다.\n",
    "            - 한 문자 'a'를 두 문자 'a '(공백 포함)로 대체할 때는 다은 단어의 중간에 있는 'a'도 바뀔 수 있다는 것을 유의한다.\n",
    "    \n",
    "    - 대체하고 싶은 문자열에 구체적이고 특수한 조건이 있다면, 정규 표현식(regular expression)을 사용할 수 있다. "
   ]
  },
  {
   "cell_type": "code",
   "execution_count": 72,
   "id": "4dc5dd29-78df-4bab-b105-dc49f51fede4",
   "metadata": {},
   "outputs": [
    {
     "data": {
      "text/plain": [
       "'I am an visible man.'"
      ]
     },
     "execution_count": 72,
     "metadata": {},
     "output_type": "execute_result"
    }
   ],
   "source": [
    "# 문자열 대체하기: replace()\n",
    "\n",
    "string1 = \"I am an invisible man.\"\n",
    "string1.replace(' invisible ', ' visible ')"
   ]
  },
  {
   "cell_type": "markdown",
   "id": "4abc6e2d-ccaf-49dd-b7c1-0fc1afe2e234",
   "metadata": {},
   "source": [
    "### - 문자열 스트립: strip()\n",
    "\n",
    "    - 문자열 맨 앞(왼쪽) 또는 맨 뒤(오른쪽)에서 '패딩' 문자(여백 혹은 공백 문자)를 제거한다.\n",
    "        - strip() 메서드에 인수가 없다면 공백 문자('', '\\t', '\\n')를 양쪽 끝에서 제거한다.\n",
    "        - 왼쪽 끝만 제거하고 싶다면 lstrip() 메서드를, 오른쪽 끝만 제거하고 싶다면 rstrip() 메서드를 사용한다.\n",
    "        - strip() 메서드에 아무 인수가 없거나(공백 문자), 단일 문자 또는 여러 문자의 인수에 취해서 해당 문자열을 제거할 수 있다."
   ]
  },
  {
   "cell_type": "code",
   "execution_count": 77,
   "id": "b850200f-7f4d-425e-9d1c-bedf5751c7b1",
   "metadata": {},
   "outputs": [
    {
     "name": "stdout",
     "output_type": "stream",
     "text": [
      "Where is blank??\n",
      "Where is blank??  \n",
      "   Where is blank??\n"
     ]
    }
   ],
   "source": [
    "# 문자열 스트립: strip()\n",
    "\n",
    "example1 = \"   Where is blank??  \"\n",
    "\n",
    "print(example1.strip())\n",
    "print(example1.lstrip())\n",
    "print(example1.rstrip())"
   ]
  },
  {
   "cell_type": "markdown",
   "id": "e2bc0c63-88e9-4bbb-a304-9d71064876a1",
   "metadata": {},
   "source": [
    "### - 검색과 선택: find(), index()\n",
    "    \n",
    "    - find()와 index()는 어떤 문자열에서 부분 문자열 오프셋을 찾기 위한 메서드이다.\n",
    "        - 두 메서드 모두 부분 문자열을 찾았을 때 같은 결과를 반환한다. 그러나 부분 문자열을 찾지 못하면, find() 메서드는 -1을 반환하고 index() 메서드는 예외가 발생한다."
   ]
  },
  {
   "cell_type": "markdown",
   "id": "012d144d-f138-43cd-9107-9c683870bb18",
   "metadata": {},
   "source": [
    "### - 대소 문자\n",
    "    \n",
    "    - 첫번째 단어를 대문자로 .. : capitalize()\n",
    "    - 모든 단어의 첫 글자를 대문자로 .. : title()\n",
    "    - 글자를 모두 대문자로 .. : upper()\n",
    "    - 글자를 모두 소문자로 .. : lower()\n",
    "    - 대문자는 소문자로, 소문자는 대문자로 .. : swapcase()"
   ]
  },
  {
   "cell_type": "markdown",
   "id": "98d8cf70-e40f-4df8-b2c4-9190ce70c233",
   "metadata": {},
   "source": [
    "### - 추가) list(), set(), sorted()\n",
    "\n",
    "    - 문자열 리스트에 사용하는 함수들이다. 그리고 결과물도 문자열 리스트가 된다.\n",
    "        - set()\n",
    "            - 중복이 허용되지 않는다. (집합의 개념 : 중복 원소는 없다.)\n",
    "            - 순서가 없다.\n",
    "            \n",
    "        - list()\n",
    "            - 중복이 허용된다.\n",
    "            - 순서가 있다.\n",
    "            - 리스트화 한다./ list(string1) ...\n",
    "            \n",
    "        - sorted()\n",
    "            - 문자열 리스트를 정렬한다.\n",
    "            - 오름차순, 내림차순을 정해줄 수 있다.\n",
    "            - 딱히 중복을 없애 주지는 않는다."
   ]
  },
  {
   "cell_type": "code",
   "execution_count": 91,
   "id": "e538cb11-8e0d-4bf5-adf1-29f834312c78",
   "metadata": {},
   "outputs": [
    {
     "name": "stdout",
     "output_type": "stream",
     "text": [
      "['Seoul', 'Busan', 'Daegu', 'Ulsan', 'Busan', 'ChunCheon', 'Pyeongtaek']\n",
      "{'Daegu', 'Busan', 'ChunCheon', 'Pyeongtaek', 'Ulsan', 'Seoul'}\n",
      "['Busan', 'Busan', 'ChunCheon', 'Daegu', 'Pyeongtaek', 'Seoul', 'Ulsan']\n",
      "['Ulsan', 'Seoul', 'Pyeongtaek', 'Daegu', 'ChunCheon', 'Busan', 'Busan']\n",
      "{'Daegu', 'Busan', 'ChunCheon', 'Pyeongtaek', 'Ulsan', 'Seoul'}\n"
     ]
    }
   ],
   "source": [
    "# list(), set(), sorted()\n",
    "\n",
    "citys = ['Seoul', 'Busan', 'Daegu', 'Ulsan', 'Busan', 'ChunCheon', 'Pyeongtaek']\n",
    "\n",
    "print(list(citys)) # 이미 리스트이기에 변화는 없다.\n",
    "print(set(citys)) # 중복이 되는 것을 지웠고, 순서가 바뀌긴 했는데 딱히 규칙성은 없다.\n",
    "print(sorted(citys)) # 중복이 되는 것은 지우지 않았지만, 순서가 바뀌었고 오름차순이다.\n",
    "print(sorted(citys, reverse = True)) # 내림차순으로 설정해줄 수 있다.\n",
    "\n",
    "print(set(sorted(citys)))"
   ]
  },
  {
   "cell_type": "markdown",
   "id": "16b17d76-ffa0-4fde-b410-c14e206ac5b7",
   "metadata": {},
   "source": [
    "## 수업시간 퀴즈 01\n",
    "    - text6 가져와서 토큰을 변수에 담고\n",
    "    - 중복 없는 셋으로 저장하고 내림차순\n",
    "        - 앞에서 10개 단어 출력\n",
    "        - 단어에 z가 있으면 대문자로 바꾸시오.\n",
    "        - z가 없는데 4자 이상이면 끝 글자를 대문자로 바꾸라.\n",
    "    \n",
    "## 수업시간 퀴즈 02\n",
    "    - 주민번호, 휴대폰 번호, 이메일 주소를 입력 받는다.\n",
    "    - 주민번호, 휴대폰 번호는 숫자만 입력받는다. (- 없이 입력)\n",
    "    - 이메일 주소는 아이디만 입력받는다. (@xxx.. 없이 입력)\n",
    "        - 1. \"당신은 {}년 {}월 {}일 출생의 {남성/여성}입니다.\"\n",
    "        - 2. 휴대전화 번호: 000-0000-0000\n",
    "        - 3. 이메일 주소: OOOO@gmail.com"
   ]
  },
  {
   "cell_type": "code",
   "execution_count": 153,
   "id": "48843024-16a7-438d-8b34-b582c27b4853",
   "metadata": {},
   "outputs": [
    {
     "name": "stdout",
     "output_type": "stream",
     "text": [
      "['zoosh', 'zoop', 'zoo', 'zone', 'zhiv', 'yourself', 'yours', 'your', 'young', 'you']\n",
      "['zoosh']\n",
      "['zoosh'] 대괄호 포함하나?\n",
      "<built-in method upper of str object at 0x00000270B1BA3270>\n"
     ]
    },
    {
     "data": {
      "text/plain": [
       "'\\n1) 리스트의 각각의 오프셋(10개)을 따로 떼어 문자열로 변환시킨 후,\\n\\ntext_nodup_des1 = str(text_nodup_des[0:1])\\ntext_nodup_des2 = str(text_nodup_des[1:2])\\n ...\\ntext_nodup_des9 = str(text_nodup_des[8:9])\\ntext_nodup_des10 = str(text_nodup_des[9:10])\\n\\n2) 조건문을 이용하여 각각의 오프셋에 z가 있는지 확인하고, 그렇다면 대문자로\\n 그렇지 않다면 문자열의 길이를 확인하고 4자 이상이라면 끝 글자를 대문자, 아니라면 그대로.\\n \\nif z in text_nodup_des1:\\n    text_nodup_des1 = text_nodup_des1.upper()\\nelif len(text_nodup_des1) >= 4:\\n    text_nodup_des1[len(text_nodup_des1):].upper\\n\\n# 리스트의 각각의 오프셋을 하나만 떼어 따로 변수에 지정해도 리스트인 것은 변하지 않는다.\\n# 그리고 리스트를 str() 함수를 이용해 변환시키면 대괄호([])의 부분까지도 문자열화 되어버린다. (이미 길이를 확인하는 부분에서 문제가 생긴다.)\\n# 어떻게 비효율적으로 각각의 값을 바꾸어주지 않으면서 조건에 맞게할 수 있을까?\\n\\n'"
      ]
     },
     "execution_count": 153,
     "metadata": {},
     "output_type": "execute_result"
    }
   ],
   "source": [
    "# 수업시간 퀴즈 01\n",
    "\n",
    "text = book.text6\n",
    "text_nodup_des = sorted(set(text.tokens), reverse = True)[:10]\n",
    "# text_nodup_des = set(sorted(text.tokens, reverse = True))[:10] # ???\n",
    "\n",
    "print(text_nodup_des)\n",
    "print(text_nodup_des[:1])\n",
    "print(str(text_nodup_des[:1]),\"대괄호 포함하나?\")\n",
    "\n",
    "\"\"\"\n",
    "1) 리스트의 각각의 오프셋(10개)을 따로 떼어 문자열로 변환시킨 후 다시 따로 저장,\n",
    "\n",
    "text_nodup_des1 = str(text_nodup_des[0:1])\n",
    "text_nodup_des2 = str(text_nodup_des[1:2])\n",
    " ...\n",
    "text_nodup_des9 = str(text_nodup_des[8:9])\n",
    "text_nodup_des10 = str(text_nodup_des[9:10])\n",
    "\n",
    "2) 조건문을 이용하여 각각의 오 그렇다면 대프셋에 z가 있는지 확인하고,문자로\n",
    " 그렇지 않다면 문자열의 길이를 확인하고 4자 이상이라면 끝 글자를 대문자, 아니라면 그대로.\n",
    " \n",
    "if z in text_nodup_des1:\n",
    "    text_nodup_des1 = text_nodup_des1.upper()\n",
    "elif len(text_nodup_des1) >= 4:\n",
    "    text_nodup_des1[len(text_nodup_des1):].upper\n",
    "    \n",
    "3) 조건에 따라 다시 지정된 문자열들을 모아 다시 리스트를 만들고, print한다.\n",
    "\n",
    "-\n",
    "# 리스트의 각각의 오프셋을 하나만 떼어 따로 변수에 지정해도 리스트인 것은 변하지 않는다.\n",
    "# 그리고 리스트를 str() 함수를 이용해 변환시키면 대괄호([])의 부분까지도 문자열화 되어버린다. (이미 길이를 확인하는 부분에서 문제가 생긴다.)\n",
    "# 어떻게 비효율적으로 각각의 값을 바꾸어주지 않으면서 조건에 맞게할 수 있을까?\n",
    "# 리스트는 in으로 확인할 수가 없다..\n",
    "# replace()도 마찬가지..\n",
    "\n",
    "\"\"\""
   ]
  },
  {
   "cell_type": "code",
   "execution_count": 97,
   "id": "d7c1f107-6ca6-4045-be33-5f09c485722f",
   "metadata": {},
   "outputs": [
    {
     "name": "stdin",
     "output_type": "stream",
     "text": [
      "당신의 주민등록 번호를 입력해 주십시오. (13자. '-' 없이.) 1012014339012\n",
      "당신의 휴대전화 번호를 입력해 주십시오. ('-' 없이.) 01015771588\n",
      "당신의 구글 아이디를 입력해 주십시오. google100\n"
     ]
    },
    {
     "name": "stdout",
     "output_type": "stream",
     "text": [
      "===============================================\n",
      "\n",
      "당신은 10년 12월 01일 출생의 여성 입니다.\n",
      "\n",
      "당신의 휴대전화 번호는 010-1577-1588 입니다.\n",
      "\n",
      "당신의 이메일 주소는 google100@gmail.com 입니다.\n",
      "\n",
      "===============================================\n"
     ]
    }
   ],
   "source": [
    "# 수업시간 퀴즈 02\n",
    "\n",
    "yourResiNum = input(\"당신의 주민등록 번호를 입력해 주십시오. (13자. '-' 없이.)\")\n",
    "yourPhoneNum = input(\"당신의 휴대전화 번호를 입력해 주십시오. ('-' 없이.)\")\n",
    "yourEmailAddress = input(\"당신의 구글 아이디를 입력해 주십시오.\")\n",
    "\n",
    "yourBirthYear = yourResiNum[:2]\n",
    "yourBirthMonth = yourResiNum[2:4]\n",
    "yourBirthDay = yourResiNum[4:6]\n",
    "\n",
    "yourGenderNum = int(yourResiNum[6:7])\n",
    "if yourGenderNum == 1 or yourGenderNum == 3:\n",
    "    yourGender = \"남성\"\n",
    "elif yourGenderNum == 2 or yourGenderNum == 4:\n",
    "    yourGender = \"여성\"\n",
    "    \n",
    "yourFrontPhoneNum = yourPhoneNum[:3]\n",
    "yourMiddlePhoneNum = yourPhoneNum[3:7]\n",
    "yourBackPhoneNum = yourPhoneNum[7:]\n",
    "\n",
    "print(\"===============================================\\n\")\n",
    "print(f\"당신은 {yourBirthYear}년 {yourBirthMonth}월 {yourBirthDay}일 출생의 {yourGender} 입니다.\\n\")\n",
    "print(f\"당신의 휴대전화 번호는 {yourFrontPhoneNum}-{yourMiddlePhoneNum}-{yourBackPhoneNum} 입니다.\\n\")\n",
    "print(f\"당신의 이메일 주소는 {yourEmailAddress}@gmail.com 입니다.\\n\")\n",
    "print(\"===============================================\")"
   ]
  },
  {
   "cell_type": "code",
   "execution_count": null,
   "id": "e309dbb6-a2ff-4ee6-a6fe-35dc1eddd244",
   "metadata": {},
   "outputs": [],
   "source": []
  }
 ],
 "metadata": {
  "kernelspec": {
   "display_name": "Python 3 (ipykernel)",
   "language": "python",
   "name": "python3"
  },
  "language_info": {
   "codemirror_mode": {
    "name": "ipython",
    "version": 3
   },
   "file_extension": ".py",
   "mimetype": "text/x-python",
   "name": "python",
   "nbconvert_exporter": "python",
   "pygments_lexer": "ipython3",
   "version": "3.9.7"
  }
 },
 "nbformat": 4,
 "nbformat_minor": 5
}
