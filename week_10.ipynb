{
 "cells": [
  {
   "cell_type": "markdown",
   "id": "b597e4e7-0e81-47ae-ad21-ab2c72e77993",
   "metadata": {},
   "source": [
    "# Week 10 (22.05.06)"
   ]
  },
  {
   "cell_type": "markdown",
   "id": "c8594da0-7454-4fb5-b13c-20f2190bf4b6",
   "metadata": {},
   "source": [
    "### 객체?\n",
    "\n",
    "- 객체(object)는 데이터(변수, 속성이라고 부름)와 코드(함수, 메서드라고 부름)를 포함하는 커스텀 자료구조이다.\n",
    "     - 객체는 어떤 구체적인 것의 유일한 인스턴스(instance)를 나타낸다.\n",
    "         - 객체를 명사로, 메서드를 동사로 생각할 수 있다.\n",
    "         - 객체는 개별 사물을 나타내며 해당 메서드는 다른사물과 상호작용하는 방법을 정의한다.\n",
    "         \n",
    "- 모듈과 달리 잠재적으로 다른 속성을 가진 여러 객체(인스턴스라고도 함)를 동시에 가질 수 있고, 객체는 마치 코드가 있는 슈퍼 자료구조와 같다."
   ]
  },
  {
   "cell_type": "markdown",
   "id": "5248eef8-32b6-4652-b296-1cf2ebc17819",
   "metadata": {},
   "source": [
    "- object ??\n",
    "- 객체지향 프로그래밍\n",
    "- 속성과 행동을 가지는 개념, 실존하는 물체?\n",
    "    - 예 : 자동차, 강아지, 꽃, .. thing\n",
    "    - 속성 : 브랜드, 색, 속도, 모델, ... = '변수'\n",
    "        - 이름, 종, 색, 무게, ...\n",
    "    - 행동 : 가다, 서다, 회전하다, 주차, ... = '메소드(함수)'\n",
    "        - 뛰다, 짖다, 자다, 핥다, ...\n",
    "        \n",
    "- 객체지향?\n",
    "    - 편의점 => '고객이 편의점에서 과자를 샀다.'\n",
    "    - 고객 => 사람, 편의점, 과자 => 물건\n",
    "        - 이름, 돈    - 재고, 수익     - 이름, 브랜드, 가격\n",
    "        - 물건 사다, 돈 내다.    - 팔다, 수익 남기다, 물건 등록\n",
    "    => 상호작용으로 코드를 구성하는 것"
   ]
  },
  {
   "cell_type": "markdown",
   "id": "69341ca4-a875-438c-ab12-55f55982b8cf",
   "metadata": {},
   "source": [
    "- 클래스 선언하기: class\n",
    "     - 새 객체를 생성하기 위해서 객체에 포함된 내용을 나타내는 클래스(class)를 정의\n",
    "\n",
    "- 속성\n",
    "     - 클래스나 객체 내부의 변수. 객체나 클래스가 생성되는 동안이나 이후에 속성을 할당할 수 있으며, 속성은 다른 객체일 수 있음"
   ]
  },
  {
   "cell_type": "markdown",
   "id": "c3189584-ac20-4f5f-93c6-1a64201071c6",
   "metadata": {},
   "source": [
    "클래스\n",
    "\n",
    "- 첫글자 대문자\n",
    "- nice car -> Nice_car (x)\n",
    "- NiceCar (o)\n",
    "\n",
    "- 정의부와 선언부가 있다.\n",
    "    - 정의부 = 붕어빵 틀\n",
    "    - 선언부 = 붕어빵"
   ]
  },
  {
   "cell_type": "code",
   "execution_count": 21,
   "id": "1193b0c2-cd9e-42fa-9f6d-0af2f4d90379",
   "metadata": {},
   "outputs": [
    {
     "data": {
      "text/plain": [
       "<__main__.Car at 0x22f6eb9fd60>"
      ]
     },
     "execution_count": 21,
     "metadata": {},
     "output_type": "execute_result"
    }
   ],
   "source": [
    "# 정의\n",
    "class Car: # 객체\n",
    "    pass\n",
    "\n",
    "# 선언부\n",
    "my_car = Car()\n",
    "my_car # instance == 붕어빵"
   ]
  },
  {
   "cell_type": "code",
   "execution_count": 22,
   "id": "1cd8a6ac-4f19-4483-8cd9-91f6b1c085aa",
   "metadata": {},
   "outputs": [],
   "source": [
    "my_car.name = 'bmw'\n",
    "my_car.color = 'white'"
   ]
  },
  {
   "cell_type": "code",
   "execution_count": 23,
   "id": "47a36781-2ff8-466c-b1be-789067d3d196",
   "metadata": {},
   "outputs": [
    {
     "data": {
      "text/plain": [
       "'bmw'"
      ]
     },
     "execution_count": 23,
     "metadata": {},
     "output_type": "execute_result"
    }
   ],
   "source": [
    "my_car.name"
   ]
  },
  {
   "cell_type": "code",
   "execution_count": 24,
   "id": "98e90be6-c211-478d-a983-992239773dd4",
   "metadata": {},
   "outputs": [],
   "source": [
    "class Car:\n",
    "    name = 'BMW' # 1. 속성 정의"
   ]
  },
  {
   "cell_type": "code",
   "execution_count": 25,
   "id": "aed5a3fb-fc74-4453-94f8-7bc54a5f6f00",
   "metadata": {},
   "outputs": [],
   "source": [
    "your_car = Car()"
   ]
  },
  {
   "cell_type": "code",
   "execution_count": 26,
   "id": "1ca04200-978a-42e1-ad70-9e93834af39b",
   "metadata": {},
   "outputs": [
    {
     "data": {
      "text/plain": [
       "'BMW'"
      ]
     },
     "execution_count": 26,
     "metadata": {},
     "output_type": "execute_result"
    }
   ],
   "source": [
    "your_car.name"
   ]
  },
  {
   "cell_type": "markdown",
   "id": "7c89e318-6b69-4183-8d62-6ff75dd8bca8",
   "metadata": {},
   "source": [
    "- 초기화\n",
    "     - 객체를 생성할 때 속성을 할당하려면 객체 초기화initialization 메서드 __init__()를 사용"
   ]
  },
  {
   "cell_type": "code",
   "execution_count": 27,
   "id": "bbb54c09-581f-43d6-8048-5636d9ef6316",
   "metadata": {},
   "outputs": [],
   "source": [
    "#2\n",
    "class Car:\n",
    "    def __init__(self, name): # 속성 초기화 함수\n",
    "        self.name = name"
   ]
  },
  {
   "cell_type": "code",
   "execution_count": 28,
   "id": "afbddacf-bd2a-4afd-95a9-bbd7a59f6f34",
   "metadata": {},
   "outputs": [],
   "source": [
    "her_car = Car(name=\"Hyundai\") # 정ㅇ해주어야 한다."
   ]
  },
  {
   "cell_type": "code",
   "execution_count": 29,
   "id": "7b40c467-ba3f-4770-93bb-1e4ae115b2f5",
   "metadata": {},
   "outputs": [
    {
     "data": {
      "text/plain": [
       "'Hyundai'"
      ]
     },
     "execution_count": 29,
     "metadata": {},
     "output_type": "execute_result"
    }
   ],
   "source": [
    "her_car.name"
   ]
  },
  {
   "cell_type": "code",
   "execution_count": 30,
   "id": "85f6881a-be0a-44d6-9e8b-7b4b7c026dc7",
   "metadata": {},
   "outputs": [
    {
     "data": {
      "text/plain": [
       "'Toyota'"
      ]
     },
     "execution_count": 30,
     "metadata": {},
     "output_type": "execute_result"
    }
   ],
   "source": [
    "car2 = Car('Toyota')\n",
    "car2.name"
   ]
  },
  {
   "cell_type": "code",
   "execution_count": 31,
   "id": "dc73e9d4-f78f-4950-a4de-d5f587d65dfd",
   "metadata": {},
   "outputs": [
    {
     "ename": "SyntaxError",
     "evalue": "non-default argument follows default argument (Temp/ipykernel_11688/3327633774.py, line 2)",
     "output_type": "error",
     "traceback": [
      "\u001b[1;36m  File \u001b[1;32m\"C:\\Users\\82109\\AppData\\Local\\Temp/ipykernel_11688/3327633774.py\"\u001b[1;36m, line \u001b[1;32m2\u001b[0m\n\u001b[1;33m    def __init__(self, name, model=None, color): # 처음 인자는 항상 self\u001b[0m\n\u001b[1;37m                                              ^\u001b[0m\n\u001b[1;31mSyntaxError\u001b[0m\u001b[1;31m:\u001b[0m non-default argument follows default argument\n"
     ]
    }
   ],
   "source": [
    "class Car:\n",
    "    def __init__(self, name, model=None, color): # 처음 인자는 항상 self\n",
    "        self.name = name\n",
    "        self.model = model\n",
    "        self.color = color\n",
    "        \n",
    "    def drive(self):\n",
    "        #1 {브랜드이름} 가 출발합니다.\n",
    "        print(F'{self.name}가 갑니다.')\n",
    "    \n",
    "    def stop(self):\n",
    "        print('차가 섭니다.')\n",
    "        \n",
    "    def change_color(self, color):\n",
    "        #2 gray로 바꾼다.\n",
    "        #self.color = 'gray'\n",
    "        \n",
    "        #3 color 을 바당서 그걸로 지정하게 할 것\n",
    "        self.color = color\n",
    "        \n",
    "        #4 color이 들어오면 그 값으로 설정, 아니면 'black'으로 설정\n",
    "        #self.color = input(\"색상을 입력해 주십시오.\")\n",
    "        #if bool(self.color) == False:\n",
    "        #    self.color = 'black'\n",
    "            \n",
    "        #5 model을 생성할 때, 안 넣어도 되게 설정하기\n",
    "        "
   ]
  },
  {
   "cell_type": "code",
   "execution_count": 32,
   "id": "c7efdcbc-b9bd-4870-9dcc-4b293d432086",
   "metadata": {},
   "outputs": [
    {
     "ename": "TypeError",
     "evalue": "__init__() takes 2 positional arguments but 4 were given",
     "output_type": "error",
     "traceback": [
      "\u001b[1;31m---------------------------------------------------------------------------\u001b[0m",
      "\u001b[1;31mTypeError\u001b[0m                                 Traceback (most recent call last)",
      "\u001b[1;32m~\\AppData\\Local\\Temp/ipykernel_11688/3142248094.py\u001b[0m in \u001b[0;36m<module>\u001b[1;34m\u001b[0m\n\u001b[1;32m----> 1\u001b[1;33m \u001b[0mcar3\u001b[0m \u001b[1;33m=\u001b[0m \u001b[0mCar\u001b[0m\u001b[1;33m(\u001b[0m\u001b[1;34m'KIA'\u001b[0m\u001b[1;33m,\u001b[0m \u001b[1;34m'K5'\u001b[0m\u001b[1;33m,\u001b[0m \u001b[1;34m'white'\u001b[0m\u001b[1;33m)\u001b[0m\u001b[1;33m\u001b[0m\u001b[1;33m\u001b[0m\u001b[0m\n\u001b[0m\u001b[0;32m      2\u001b[0m \u001b[0mcar3\u001b[0m\u001b[1;33m.\u001b[0m\u001b[0mchange_color\u001b[0m\u001b[1;33m(\u001b[0m\u001b[1;34m'black'\u001b[0m\u001b[1;33m)\u001b[0m\u001b[1;33m\u001b[0m\u001b[1;33m\u001b[0m\u001b[0m\n\u001b[0;32m      3\u001b[0m \u001b[0mcar3\u001b[0m\u001b[1;33m.\u001b[0m\u001b[0mcolor\u001b[0m\u001b[1;33m\u001b[0m\u001b[1;33m\u001b[0m\u001b[0m\n\u001b[0;32m      4\u001b[0m \u001b[0mcar3\u001b[0m\u001b[1;33m\u001b[0m\u001b[1;33m\u001b[0m\u001b[0m\n",
      "\u001b[1;31mTypeError\u001b[0m: __init__() takes 2 positional arguments but 4 were given"
     ]
    }
   ],
   "source": [
    "car3 = Car('KIA', 'K5', 'white')\n",
    "car3.change_color('black')\n",
    "car3.color\n",
    "car3"
   ]
  },
  {
   "cell_type": "code",
   "execution_count": 33,
   "id": "1051af8b-98cd-4c37-bcda-0f0603f60817",
   "metadata": {},
   "outputs": [
    {
     "ename": "NameError",
     "evalue": "name 'car3' is not defined",
     "output_type": "error",
     "traceback": [
      "\u001b[1;31m---------------------------------------------------------------------------\u001b[0m",
      "\u001b[1;31mNameError\u001b[0m                                 Traceback (most recent call last)",
      "\u001b[1;32m~\\AppData\\Local\\Temp/ipykernel_11688/1499251771.py\u001b[0m in \u001b[0;36m<module>\u001b[1;34m\u001b[0m\n\u001b[1;32m----> 1\u001b[1;33m \u001b[0mcar3\u001b[0m\u001b[1;33m.\u001b[0m\u001b[0mdrive\u001b[0m\u001b[1;33m\u001b[0m\u001b[1;33m\u001b[0m\u001b[0m\n\u001b[0m",
      "\u001b[1;31mNameError\u001b[0m: name 'car3' is not defined"
     ]
    }
   ],
   "source": [
    "car3.drive"
   ]
  },
  {
   "cell_type": "markdown",
   "id": "673a3cb4-dd81-4245-b744-895825056fbf",
   "metadata": {},
   "source": [
    "### 캡슐화, 정보 은닉\n",
    "\n",
    "- public -> private\n",
    "- getter, setter"
   ]
  },
  {
   "cell_type": "code",
   "execution_count": 34,
   "id": "7eb9e4c5-880f-422e-a4aa-c0e71f8292ed",
   "metadata": {},
   "outputs": [
    {
     "data": {
      "text/plain": [
       "'red'"
      ]
     },
     "execution_count": 34,
     "metadata": {},
     "output_type": "execute_result"
    }
   ],
   "source": [
    "class Fruit:\n",
    "    color = 'red'\n",
    "    \n",
    "kiwi = Fruit()\n",
    "kiwi.color"
   ]
  },
  {
   "cell_type": "code",
   "execution_count": 35,
   "id": "67ecfbf7-b311-4429-ac98-b23a93c07795",
   "metadata": {},
   "outputs": [],
   "source": [
    "Fruit.color = 'black' # 틀이 바뀌었다."
   ]
  },
  {
   "cell_type": "code",
   "execution_count": 36,
   "id": "637f7bd4-8797-4354-af27-f13fee5c7262",
   "metadata": {},
   "outputs": [
    {
     "data": {
      "text/plain": [
       "'black'"
      ]
     },
     "execution_count": 36,
     "metadata": {},
     "output_type": "execute_result"
    }
   ],
   "source": [
    "apple = Fruit()\n",
    "apple.color"
   ]
  },
  {
   "cell_type": "markdown",
   "id": "b99e9a4b-d9f3-4249-bf8c-9e5e5c1e6f10",
   "metadata": {
    "tags": []
   },
   "source": [
    "- 파이썬은 일반적으로 객체 속성과 메서드는 공개되어 있어서, 이를 개발자가 스스로 잘 관리 해야 한다. (‘동의 성인’ 정책 “We are all consenting adults here”)\n",
    "- 직접 접근\n",
    "     - 속성 값을 직접 가져와서 설정할 수 있음. 따라서, 실수로 어떤 개발자가 위 예제와 같이 수정하지 못하도록 속성에 대한 접근 프라이버시가 필요하다.\n",
    "     \n",
    "-  Getter/Setter 메서드\n",
    "\n",
    "- 속성 접근을 위한 프로퍼티\n",
    "\n",
    "     - 방법 1: name = property(get_ name, set_name) 구문을 클래스 정의 마지막 줄에 추가한다.\n",
    "     - 방법 2: 데커레이터를 추가하고, 두 메서드 이름(get_name과 set_name)을 name으로 변경한다.\n",
    "         - getter 메서드 앞에 @property 데커레이터\n",
    "         - setter 메서드 앞에 @name.setter 데커레이터\n",
    "\n",
    "##### get, set\n",
    "- getter : 클래스 내 객체 변수 반환\n",
    "- setter : == 변수 설정"
   ]
  },
  {
   "cell_type": "markdown",
   "id": "780aadb7-5065-4506-b39d-1267bcd00a77",
   "metadata": {},
   "source": [
    "- 계산된 값의 프로퍼티\n",
    "     - 프로퍼티는 계산된 값computed value을 참조할 수도 있음\n",
    "     \n",
    "- 속성을 직접 접근하는 것보다 프로퍼티로 접근하면 얻는 이점\n",
    "     - 속성의 정의를 바꾼다면 모든 호출자를 수정할 필요 없이 클래스 정의에 있는 코드만 수정\n",
    "     \n",
    "- 프라이버시를 위한 네임 맹글링\n",
    "     - 클래스 정의 외부에서 볼 수 없도록 하는 속성에 대한 네이밍 컨벤션(naming convention)\n",
    "     - 속성 이름 앞에 두 언더바(__)\n",
    " 네임 맹글링은 속성의 의도적인 직접 접근을 어렵게 만드는 것\n",
    "◦ 클래스와 객체 속성\n",
    "⁃ 클래스에 속성을 할당할 수 있고 해당 속성은 자식 객체로 상속\n",
    "⁃ 그러나 자식 객체의 속성을 변경하면 클래스 속성에 영향을 미치지 않음\n"
   ]
  },
  {
   "cell_type": "code",
   "execution_count": 37,
   "id": "1ab3e4bb-870f-4995-846c-79cbeb2bc077",
   "metadata": {},
   "outputs": [],
   "source": [
    "#1"
   ]
  },
  {
   "cell_type": "code",
   "execution_count": 38,
   "id": "229050e4-a3d9-4828-abc4-9cb1d67da1ef",
   "metadata": {},
   "outputs": [],
   "source": [
    "class Car:\n",
    "    \n",
    "    def __init__(self, input_name):\n",
    "        self.name = input_name\n",
    "    \n",
    "    def get_name(self):\n",
    "        # 변수 반환\n",
    "        return self.name\n",
    "    \n",
    "    def set_name(self, input_name):\n",
    "        self.name = input_name\n",
    "        \n",
    "c = Car('name1')"
   ]
  },
  {
   "cell_type": "code",
   "execution_count": 39,
   "id": "6cc885b7-4ef6-46d5-97e0-bd0b2f8c51e9",
   "metadata": {},
   "outputs": [
    {
     "data": {
      "text/plain": [
       "'name2'"
      ]
     },
     "execution_count": 39,
     "metadata": {},
     "output_type": "execute_result"
    }
   ],
   "source": [
    "c.set_name('name2')\n",
    "c.name"
   ]
  },
  {
   "cell_type": "code",
   "execution_count": 40,
   "id": "e53fa0ed-b516-4dbb-85e3-0f4fe4928530",
   "metadata": {},
   "outputs": [
    {
     "data": {
      "text/plain": [
       "'name3'"
      ]
     },
     "execution_count": 40,
     "metadata": {},
     "output_type": "execute_result"
    }
   ],
   "source": [
    "c.name = 'name3'\n",
    "c.name"
   ]
  },
  {
   "cell_type": "code",
   "execution_count": 41,
   "id": "fc8dbd1c-88cc-48f3-a311-4db247ea7c96",
   "metadata": {},
   "outputs": [],
   "source": [
    "#2"
   ]
  },
  {
   "cell_type": "code",
   "execution_count": 42,
   "id": "4a249890-415d-4223-b56d-4c13b6e8a33b",
   "metadata": {},
   "outputs": [
    {
     "data": {
      "text/plain": [
       "'name_1'"
      ]
     },
     "execution_count": 42,
     "metadata": {},
     "output_type": "execute_result"
    }
   ],
   "source": [
    "class Car:\n",
    "    \n",
    "    def __init__(self, input_name):\n",
    "        self.hidden_name = input_name\n",
    "    \n",
    "    def get_name(self):\n",
    "        # 변수 반환\n",
    "        return self.hidden_name\n",
    "    \n",
    "    def set_name(self, input_name):\n",
    "        self.hidden_name = input_name\n",
    "        \n",
    "    name = property(get_name, set_name) # 파이써닉한 방법\n",
    "    \n",
    "d = Car('name_1')\n",
    "d.name"
   ]
  },
  {
   "cell_type": "code",
   "execution_count": 43,
   "id": "9085327a-b895-40ca-9f96-32ccd00f4f43",
   "metadata": {},
   "outputs": [],
   "source": [
    "#3\n",
    "\n",
    "class Car:\n",
    "    \n",
    "    def __init__(self, input_name):\n",
    "        self.hidden_name = input_name\n",
    "    \n",
    "    #decorater\n",
    "    @property\n",
    "    def name(self):\n",
    "        # 변수 반환\n",
    "        return self.hidden_name\n",
    "    \n",
    "    @name.setter\n",
    "    def name(self, input_name):\n",
    "        self.hidden_name = input_name"
   ]
  },
  {
   "cell_type": "code",
   "execution_count": 44,
   "id": "0caf477d-6de9-45df-996f-50a0806407ad",
   "metadata": {},
   "outputs": [
    {
     "data": {
      "text/plain": [
       "'name b'"
      ]
     },
     "execution_count": 44,
     "metadata": {},
     "output_type": "execute_result"
    }
   ],
   "source": [
    "f = Car('name b')\n",
    "f.name"
   ]
  },
  {
   "cell_type": "code",
   "execution_count": 45,
   "id": "3b1829c1-8ee5-44f8-8ca7-5ba61a71a0fa",
   "metadata": {},
   "outputs": [],
   "source": [
    "class Car:\n",
    "    \n",
    "    def __init__(self, input_name):\n",
    "        self.__name = input_name\n",
    "    \n",
    "    #decorater\n",
    "    @property\n",
    "    def name(self):\n",
    "        # 변수 반환\n",
    "        return self.__name\n",
    "    \n",
    "    @name.setter\n",
    "    def name(self, input_name):\n",
    "        self.__name = input_name"
   ]
  },
  {
   "cell_type": "code",
   "execution_count": 46,
   "id": "a27812f9-1fe6-4f7f-9f85-73b5df7cf140",
   "metadata": {},
   "outputs": [
    {
     "ename": "AttributeError",
     "evalue": "'Car' object has no attribute '__name'",
     "output_type": "error",
     "traceback": [
      "\u001b[1;31m---------------------------------------------------------------------------\u001b[0m",
      "\u001b[1;31mAttributeError\u001b[0m                            Traceback (most recent call last)",
      "\u001b[1;32m~\\AppData\\Local\\Temp/ipykernel_11688/965295561.py\u001b[0m in \u001b[0;36m<module>\u001b[1;34m\u001b[0m\n\u001b[0;32m      1\u001b[0m \u001b[0me\u001b[0m \u001b[1;33m=\u001b[0m \u001b[0mCar\u001b[0m\u001b[1;33m(\u001b[0m\u001b[1;34m'name c'\u001b[0m\u001b[1;33m)\u001b[0m\u001b[1;33m\u001b[0m\u001b[1;33m\u001b[0m\u001b[0m\n\u001b[1;32m----> 2\u001b[1;33m \u001b[0me\u001b[0m\u001b[1;33m.\u001b[0m\u001b[0m__name\u001b[0m\u001b[1;33m\u001b[0m\u001b[1;33m\u001b[0m\u001b[0m\n\u001b[0m",
      "\u001b[1;31mAttributeError\u001b[0m: 'Car' object has no attribute '__name'"
     ]
    }
   ],
   "source": [
    "e = Car('name c')\n",
    "e.__name"
   ]
  },
  {
   "cell_type": "code",
   "execution_count": 47,
   "id": "262e74e5-a01f-48d4-bade-bce6e8b4e6c9",
   "metadata": {},
   "outputs": [
    {
     "data": {
      "text/plain": [
       "10"
      ]
     },
     "execution_count": 47,
     "metadata": {},
     "output_type": "execute_result"
    }
   ],
   "source": [
    "class Circle:\n",
    "    \n",
    "    def __init__(self, radius):\n",
    "        self.radius = radius\n",
    "        \n",
    "    @property\n",
    "    def parameter(self):\n",
    "        return self.radius * 2\n",
    "    \n",
    "ex = Circle(5)\n",
    "ex.parameter"
   ]
  },
  {
   "cell_type": "code",
   "execution_count": 48,
   "id": "e06c4e47-b981-4b64-b107-834fdb23bc37",
   "metadata": {},
   "outputs": [
    {
     "data": {
      "text/plain": [
       "38"
      ]
     },
     "execution_count": 48,
     "metadata": {},
     "output_type": "execute_result"
    }
   ],
   "source": [
    "ex.radius = 19\n",
    "ex.parameter"
   ]
  },
  {
   "cell_type": "markdown",
   "id": "da5c72ab-0030-44c5-a340-2de03823ecf4",
   "metadata": {},
   "source": [
    "### 실습\n",
    "\n",
    "- 메모장, 메모 구현하기\n",
    "- 메모장\n",
    "    - 속성: 제목, 페이지 번호, 메모\n",
    "    - 행동: 메모 추가하다. 메모 삭제하다. 페이지 번호 확인하다\n",
    "    \n",
    "- 메모\n",
    "    - 속성: 글귀\n",
    "    - 행동 : 쓰다, 지우다\n",
    "\n",
    "- 사용 :\n",
    "    - 메모 쓴다.\n",
    "    - 메모장에 추가\n",
    "    - 페이지 번호가 늘어난다.\n",
    "    - 메모 삭제\n",
    "    - 페이지 번호 줄어든다.\n",
    "    - 메모장> 제목만 은닉시키다."
   ]
  },
  {
   "cell_type": "code",
   "execution_count": null,
   "id": "398b383b-a4f3-4576-818c-d85d8870304b",
   "metadata": {},
   "outputs": [],
   "source": []
  }
 ],
 "metadata": {
  "kernelspec": {
   "display_name": "Python 3 (ipykernel)",
   "language": "python",
   "name": "python3"
  },
  "language_info": {
   "codemirror_mode": {
    "name": "ipython",
    "version": 3
   },
   "file_extension": ".py",
   "mimetype": "text/x-python",
   "name": "python",
   "nbconvert_exporter": "python",
   "pygments_lexer": "ipython3",
   "version": "3.9.7"
  }
 },
 "nbformat": 4,
 "nbformat_minor": 5
}
